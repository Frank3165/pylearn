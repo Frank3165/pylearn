{
 "cells": [
  {
   "cell_type": "markdown",
   "id": "59220b8e",
   "metadata": {},
   "source": [
    "# Python learning"
   ]
  },
  {
   "cell_type": "markdown",
   "id": "af81c8e6",
   "metadata": {},
   "source": [
    "## 生成器 generator"
   ]
  },
  {
   "cell_type": "markdown",
   "id": "b08816bf",
   "metadata": {},
   "source": [
    "### 生成方法1：把列表生成式的[]改为()"
   ]
  },
  {
   "cell_type": "code",
   "execution_count": null,
   "id": "0863ac33",
   "metadata": {},
   "outputs": [
    {
     "name": "stdout",
     "output_type": "stream",
     "text": [
      "<generator object <genexpr> at 0x000001320C8D52F0>\n",
      "0\n",
      "1\n",
      "4\n",
      "9\n",
      "16\n",
      "25\n",
      "36\n",
      "49\n",
      "64\n",
      "81\n"
     ]
    }
   ],
   "source": [
    "# 生成\n",
    "g = (x * x for x in range(10))\n",
    "print(g)\n",
    "# 打印\n",
    "for i in g:\n",
    "    print(i)"
   ]
  },
  {
   "cell_type": "markdown",
   "id": "336a2c59",
   "metadata": {},
   "source": [
    "### 生成方法2：调用generator函数"
   ]
  },
  {
   "cell_type": "code",
   "execution_count": 16,
   "id": "6e230229",
   "metadata": {},
   "outputs": [
    {
     "name": "stdout",
     "output_type": "stream",
     "text": [
      "1\n",
      "\n",
      "1\n",
      "1\n",
      "2\n",
      "3\n",
      "5\n",
      "8\n",
      "13\n",
      "21\n",
      "34\n",
      "55\n",
      "\n",
      "Generator return value: done\n"
     ]
    }
   ],
   "source": [
    "#定义生成器函数\n",
    "def fib(max):\n",
    "    n, a, b = 0, 0, 1\n",
    "    while n < max:\n",
    "        yield b\n",
    "        a, b = b, a + b\n",
    "        n = n + 1\n",
    "    return 'done'\n",
    "#生成生成器对象\n",
    "f = fib(10)\n",
    "#获取下一个值\n",
    "print(next(f))\n",
    "print()\n",
    "#获取所有值\n",
    "h = fib(10)\n",
    "for i in h:\n",
    "    print(i)\n",
    "print()\n",
    "#获取返回值\n",
    "g = fib(10)\n",
    "while True:\n",
    "    try:\n",
    "        x = next(g)\n",
    "    except StopIteration as e:\n",
    "        print('Generator return value:', e.value)\n",
    "        break"
   ]
  },
  {
   "cell_type": "markdown",
   "id": "a9e983ff",
   "metadata": {},
   "source": [
    "练习：杨辉三角"
   ]
  },
  {
   "cell_type": "code",
   "execution_count": null,
   "id": "cf56e853",
   "metadata": {},
   "outputs": [],
   "source": [
    "def triangle(max):\n",
    "    n = 1\n",
    "    while n < max:\n",
    "        "
   ]
  }
 ],
 "metadata": {
  "kernelspec": {
   "display_name": "base",
   "language": "python",
   "name": "python3"
  },
  "language_info": {
   "codemirror_mode": {
    "name": "ipython",
    "version": 3
   },
   "file_extension": ".py",
   "mimetype": "text/x-python",
   "name": "python",
   "nbconvert_exporter": "python",
   "pygments_lexer": "ipython3",
   "version": "3.12.4"
  }
 },
 "nbformat": 4,
 "nbformat_minor": 5
}
