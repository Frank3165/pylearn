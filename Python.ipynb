{
 "cells": [
  {
   "cell_type": "markdown",
   "id": "14fa8f3d",
   "metadata": {},
   "source": [
    "# 函数"
   ]
  },
  {
   "cell_type": "markdown",
   "id": "7bc5a4f6",
   "metadata": {},
   "source": [
    "## 函数参数"
   ]
  },
  {
   "cell_type": "markdown",
   "id": "e12e8c91",
   "metadata": {},
   "source": [
    "*args是可变参数，args接收的是一个tuple；\n",
    "\n",
    "**kw是关键字参数，kw接收的是一个dict。\n",
    "\n",
    "可变参数既可以直接传入：func(1, 2, 3)，又可以先组装list或tuple，再通过`*args`传入：func(*(1, 2, 3))；\n",
    "\n",
    "关键字参数既可以直接传入：func(a=1, b=2)，又可以先组装dict，再通过`**kw`传入：func(**{'a': 1, 'b': 2})。\n",
    "\n",
    "命名的关键字参数是为了限制调用者可以传入的参数名，同时可以提供默认值。\n",
    "\n",
    "    def person(name, age, *, city='Beijing', job):\n",
    "        print(name, age, city, job)\n",
    "\n",
    "\n",
    "定义命名的关键字参数在没有可变参数的情况下不要忘了写分隔符*，否则定义的将是位置参数。\n",
    "\n",
    "    def person(name, age, *, city, job):\n",
    "        pass "
   ]
  },
  {
   "cell_type": "markdown",
   "id": "88976035",
   "metadata": {},
   "source": [
    "## 递归函数"
   ]
  },
  {
   "cell_type": "markdown",
   "id": "83384fe4",
   "metadata": {},
   "source": [
    "在函数内部，可以调用其他函数。如果一个函数在内部调用自身本身，这个函数就是递归函数。"
   ]
  },
  {
   "cell_type": "code",
   "execution_count": 11,
   "id": "ec6a802a",
   "metadata": {},
   "outputs": [
    {
     "data": {
      "text/plain": [
       "3628800"
      ]
     },
     "execution_count": 11,
     "metadata": {},
     "output_type": "execute_result"
    }
   ],
   "source": [
    "#计算阶乘\n",
    "def fact(n):\n",
    "    if n==1:\n",
    "        return 1\n",
    "    return n * fact(n - 1)\n",
    "fact(10)"
   ]
  },
  {
   "cell_type": "markdown",
   "id": "27561dcf",
   "metadata": {},
   "source": [
    "## 高阶函数"
   ]
  },
  {
   "cell_type": "markdown",
   "id": "238249e5",
   "metadata": {},
   "source": [
    "把函数作为参数传入，这样的函数称为高阶函数"
   ]
  },
  {
   "cell_type": "code",
   "execution_count": 12,
   "id": "add80d8f",
   "metadata": {},
   "outputs": [
    {
     "name": "stdout",
     "output_type": "stream",
     "text": [
      "11\n"
     ]
    }
   ],
   "source": [
    "def add(x, y, f):\n",
    "    return f(x) + f(y)\n",
    "\n",
    "print(add(-5, 6, abs))"
   ]
  },
  {
   "cell_type": "markdown",
   "id": "faae07b5",
   "metadata": {},
   "source": [
    "## map函数"
   ]
  },
  {
   "cell_type": "markdown",
   "id": "fac5bfe5",
   "metadata": {},
   "source": [
    "`map()`函数接收两个参数，一个是函数，一个是Iterable，map将传入的函数依次作用到序列的每个元素，并把结果作为新的Iterator返回。"
   ]
  },
  {
   "cell_type": "code",
   "execution_count": null,
   "id": "8638b2c9",
   "metadata": {},
   "outputs": [
    {
     "data": {
      "text/plain": [
       "['1', '2', '3', '4', '5']"
      ]
     },
     "execution_count": 15,
     "metadata": {},
     "output_type": "execute_result"
    }
   ],
   "source": [
    "it = map(str, [1, 2, 3, 4, 5])\n",
    "list(it)"
   ]
  },
  {
   "cell_type": "markdown",
   "id": "88793d4c",
   "metadata": {},
   "source": [
    "## reduce函数"
   ]
  },
  {
   "cell_type": "markdown",
   "id": "7337b5fa",
   "metadata": {},
   "source": [
    "reduce函数用第一个参数（函数）先对第二个参数（可迭代对象）中的第 1、2 个元素进行操作，然后将得到的结果与下一个元素继续操作"
   ]
  },
  {
   "cell_type": "code",
   "execution_count": null,
   "id": "0df6bdf7",
   "metadata": {},
   "outputs": [
    {
     "data": {
      "text/plain": [
       "13579"
      ]
     },
     "execution_count": 16,
     "metadata": {},
     "output_type": "execute_result"
    }
   ],
   "source": [
    "#把列表转换为整数\n",
    "from functools import reduce\n",
    "def fn(x, y):\n",
    "     return x * 10 + y\n",
    "reduce(fn, [1, 3, 5, 7, 9])"
   ]
  },
  {
   "cell_type": "markdown",
   "id": "b4d54cf6",
   "metadata": {},
   "source": [
    "## filter函数"
   ]
  },
  {
   "cell_type": "markdown",
   "id": "030ae65d",
   "metadata": {},
   "source": [
    "和map()类似，filter()也接收一个函数和一个序列。和map()不同的是，filter()把传入的函数依次作用于每个元素，然后根据返回值是True还是False决定保留还是丢弃该元素。"
   ]
  },
  {
   "cell_type": "code",
   "execution_count": 1,
   "id": "8ab807f3",
   "metadata": {},
   "outputs": [
    {
     "data": {
      "text/plain": [
       "[1, 5, 9, 15]"
      ]
     },
     "execution_count": 1,
     "metadata": {},
     "output_type": "execute_result"
    }
   ],
   "source": [
    "#只保留奇数\n",
    "def is_odd(n):\n",
    "    return n % 2 == 1\n",
    "\n",
    "list(filter(is_odd, [1, 2, 4, 5, 6, 9, 10, 15]))"
   ]
  },
  {
   "cell_type": "markdown",
   "id": "b25207b5",
   "metadata": {},
   "source": [
    "## sorted函数"
   ]
  },
  {
   "cell_type": "code",
   "execution_count": 5,
   "id": "7825ea2e",
   "metadata": {},
   "outputs": [
    {
     "data": {
      "text/plain": [
       "['about', 'bob', 'Credit', 'Zoo']"
      ]
     },
     "execution_count": 5,
     "metadata": {},
     "output_type": "execute_result"
    }
   ],
   "source": [
    "#忽略大小写排序\n",
    "sorted(['bob', 'about', 'Zoo', 'Credit'], key = str.lower)"
   ]
  },
  {
   "cell_type": "markdown",
   "id": "2aed4928",
   "metadata": {},
   "source": [
    "## 闭包（Closure）"
   ]
  },
  {
   "cell_type": "markdown",
   "id": "1edbc848",
   "metadata": {},
   "source": [
    "闭包：使用闭包，就是内层函数引用了外层函数的局部变量。"
   ]
  },
  {
   "cell_type": "code",
   "execution_count": null,
   "id": "b1c4e856",
   "metadata": {},
   "outputs": [
    {
     "name": "stdout",
     "output_type": "stream",
     "text": [
      "9\n",
      "9\n",
      "9\n",
      "9\n"
     ]
    }
   ],
   "source": [
    "def count():\n",
    "    fs = []\n",
    "    for i in range(1, 4):\n",
    "        def f():\n",
    "             return i*i\n",
    "        fs.append(f)\n",
    "    return fs\n",
    "\n",
    "f1, f2, f3 = count()\n",
    "print(f1())\n",
    "print(f2())\n",
    "print(f3())"
   ]
  },
  {
   "cell_type": "markdown",
   "id": "360d0c69",
   "metadata": {},
   "source": [
    "输出全部都是9，原因就在于返回的函数引用了变量i，但它并非立刻执行。等到3个函数都返回时，它们所引用的变量i已经变成了3，因此最终结果为9。  \n",
    "因此，返回闭包时牢记一点：返回函数不要引用任何循环变量，或者后续会发生变化的变量。"
   ]
  },
  {
   "cell_type": "markdown",
   "id": "994b94d1",
   "metadata": {},
   "source": [
    "## 匿名函数"
   ]
  },
  {
   "cell_type": "markdown",
   "id": "631242ab",
   "metadata": {},
   "source": [
    "匿名函数也是一个函数对象，也可以把匿名函数赋值给一个变量，再利用变量来调用该函数："
   ]
  },
  {
   "cell_type": "code",
   "execution_count": 10,
   "id": "fcf5387f",
   "metadata": {},
   "outputs": [
    {
     "name": "stdout",
     "output_type": "stream",
     "text": [
      "<function <lambda> at 0x000001371518AE80>\n",
      "25\n"
     ]
    }
   ],
   "source": [
    "f = lambda x: x * x\n",
    "print(f)\n",
    "print(f(5))"
   ]
  },
  {
   "cell_type": "markdown",
   "id": "e097fcf7",
   "metadata": {},
   "source": [
    "同样，也可以把匿名函数作为返回值返回，比如："
   ]
  },
  {
   "cell_type": "code",
   "execution_count": 14,
   "id": "3ad1059f",
   "metadata": {},
   "outputs": [
    {
     "data": {
      "text/plain": [
       "5"
      ]
     },
     "execution_count": 14,
     "metadata": {},
     "output_type": "execute_result"
    }
   ],
   "source": [
    "def build(x, y):\n",
    "    return lambda: x * x + y * y\n",
    "build(1, 2)()"
   ]
  },
  {
   "cell_type": "markdown",
   "id": "31be0dba",
   "metadata": {},
   "source": [
    "`build(1, 2)`返回的是一个匿名函数（lambda），而不是直接计算结果。\n",
    "在 Python 里，lambda: x * x + y * y 是一个函数对象，只有调用它（比如`build(1, 2)()`）才会执行并返回结果。"
   ]
  },
  {
   "cell_type": "markdown",
   "id": "54e496b6",
   "metadata": {},
   "source": [
    "## 装饰器（Decorator）"
   ]
  },
  {
   "cell_type": "markdown",
   "id": "71ee4080",
   "metadata": {},
   "source": []
  },
  {
   "cell_type": "code",
   "execution_count": null,
   "id": "01a339a1",
   "metadata": {},
   "outputs": [],
   "source": []
  },
  {
   "cell_type": "markdown",
   "id": "57cdc8da",
   "metadata": {},
   "source": [
    "## 偏函数（Partial function）"
   ]
  },
  {
   "cell_type": "markdown",
   "id": "a8418c5c",
   "metadata": {},
   "source": [
    "当函数的参数个数太多，需要简化时，使用functools.partial可以创建一个新的函数，这个新函数可以固定住原函数的部分参数，从而在调用时更简单。"
   ]
  },
  {
   "cell_type": "code",
   "execution_count": null,
   "id": "118192fc",
   "metadata": {},
   "outputs": [
    {
     "name": "stdout",
     "output_type": "stream",
     "text": [
      "64\n",
      "85\n",
      "1000000\n"
     ]
    }
   ],
   "source": [
    "from functools import partial\n",
    "\n",
    "int2 = partial(int, base=2)\n",
    "print(int2('1000000'))\n",
    "print(int2('1010101'))\n",
    "#仍可传入其他值\n",
    "print(int2('1000000',base=10))\n"
   ]
  },
  {
   "cell_type": "markdown",
   "id": "af81c8e6",
   "metadata": {},
   "source": [
    "# 生成器 generator"
   ]
  },
  {
   "cell_type": "markdown",
   "id": "b08816bf",
   "metadata": {},
   "source": [
    "## 生成方法1：把列表生成式的[]改为()"
   ]
  },
  {
   "cell_type": "code",
   "execution_count": null,
   "id": "0863ac33",
   "metadata": {},
   "outputs": [
    {
     "name": "stdout",
     "output_type": "stream",
     "text": [
      "<generator object <genexpr> at 0x000001320C8D52F0>\n",
      "0\n",
      "1\n",
      "4\n",
      "9\n",
      "16\n",
      "25\n",
      "36\n",
      "49\n",
      "64\n",
      "81\n"
     ]
    }
   ],
   "source": [
    "# 生成\n",
    "g = (x * x for x in range(10))\n",
    "print(g)\n",
    "# 打印\n",
    "for i in g:\n",
    "    print(i)"
   ]
  },
  {
   "cell_type": "markdown",
   "id": "336a2c59",
   "metadata": {},
   "source": [
    "## 生成方法2：调用generator函数"
   ]
  },
  {
   "cell_type": "code",
   "execution_count": 16,
   "id": "6e230229",
   "metadata": {},
   "outputs": [
    {
     "name": "stdout",
     "output_type": "stream",
     "text": [
      "1\n",
      "\n",
      "1\n",
      "1\n",
      "2\n",
      "3\n",
      "5\n",
      "8\n",
      "13\n",
      "21\n",
      "34\n",
      "55\n",
      "\n",
      "Generator return value: done\n"
     ]
    }
   ],
   "source": [
    "#定义生成器函数\n",
    "def fib(max):\n",
    "    n, a, b = 0, 0, 1\n",
    "    while n < max:\n",
    "        yield b\n",
    "        a, b = b, a + b\n",
    "        n = n + 1\n",
    "    return 'done'\n",
    "#生成生成器对象\n",
    "f = fib(10)\n",
    "#获取下一个值\n",
    "print(next(f))\n",
    "print()\n",
    "#获取所有值\n",
    "h = fib(10)\n",
    "for i in h:\n",
    "    print(i)\n",
    "print()\n",
    "#获取返回值\n",
    "g = fib(10)\n",
    "while True:\n",
    "    try:\n",
    "        x = next(g)\n",
    "    except StopIteration as e:\n",
    "        print('Generator return value:', e.value)\n",
    "        break"
   ]
  },
  {
   "cell_type": "markdown",
   "id": "9bb6743d",
   "metadata": {},
   "source": [
    "# 迭代器 Iterator"
   ]
  },
  {
   "cell_type": "markdown",
   "id": "dd4d250e",
   "metadata": {},
   "source": [
    "可迭代对象`Iterable`：可以直接作用于`for`循环的对象，如`list`, `tuple`, `set`, `string`, `dict`, `generator`等  \n",
    "迭代器：可以被`next()`函数调用并不断返回下一个值的对象，如生成器"
   ]
  },
  {
   "cell_type": "code",
   "execution_count": 4,
   "id": "c292a155",
   "metadata": {},
   "outputs": [
    {
     "name": "stdout",
     "output_type": "stream",
     "text": [
      "True\n",
      "True\n",
      "True\n"
     ]
    }
   ],
   "source": [
    "#判断\n",
    "from collections.abc import Iterable, Iterator\n",
    "print(isinstance ([], Iterable))\n",
    "print(isinstance ((i for i in range(10)), Iterable))\n",
    "print(isinstance ((i for i in range(10)), Iterator))"
   ]
  },
  {
   "cell_type": "markdown",
   "id": "8e469c44",
   "metadata": {},
   "source": [
    "把list、dict、str等Iterable变成Iterator可以使用`iter()`函数："
   ]
  },
  {
   "cell_type": "code",
   "execution_count": 10,
   "id": "8bf6b6ad",
   "metadata": {},
   "outputs": [
    {
     "name": "stdout",
     "output_type": "stream",
     "text": [
      "True\n",
      "1\n",
      "<list_iterator object at 0x0000021AA1E2A440>\n"
     ]
    }
   ],
   "source": [
    "list_ = iter([1])\n",
    "print(isinstance(list_, Iterator))\n",
    "print(next(list_))\n",
    "print(list_)"
   ]
  },
  {
   "cell_type": "markdown",
   "id": "798596b3",
   "metadata": {},
   "source": [
    "# 模块"
   ]
  },
  {
   "cell_type": "markdown",
   "id": "32cc8443",
   "metadata": {},
   "source": [
    "## 模块定义和导入"
   ]
  },
  {
   "cell_type": "code",
   "execution_count": 4,
   "id": "d44a10d7",
   "metadata": {},
   "outputs": [
    {
     "name": "stdout",
     "output_type": "stream",
     "text": [
      "Hello, --f=c:\\Users\\31653\\AppData\\Roaming\\jupyter\\runtime\\kernel-v3e7a906f15fea2b74f399f50a10c5a25150825dea.json!\n"
     ]
    }
   ],
   "source": [
    "#导入hello.py模块\n",
    "import hello\n",
    "hello.test()"
   ]
  },
  {
   "cell_type": "markdown",
   "id": "73a9395d",
   "metadata": {},
   "source": [
    "# 作用域"
   ]
  },
  {
   "cell_type": "markdown",
   "id": "627823cc",
   "metadata": {},
   "source": [
    "## 局部作用域（Local Scope）"
   ]
  },
  {
   "cell_type": "markdown",
   "id": "543ac1de",
   "metadata": {},
   "source": [
    "局部作用域是在函数内部定义的作用域。在函数内部定义的变量和函数只能在该函数内部访问，函数外部无法直接访问这些局部变量。"
   ]
  },
  {
   "cell_type": "markdown",
   "id": "a0e9aeac",
   "metadata": {},
   "source": [
    "## 嵌套作用域（Enclosing Scope）"
   ]
  },
  {
   "cell_type": "markdown",
   "id": "c9419988",
   "metadata": {},
   "source": [
    "嵌套作用域也称为闭包作用域，当一个函数嵌套在另一个函数内部时，内部函数可以访问外部函数的变量。外部函数的作用域就是嵌套作用域。"
   ]
  },
  {
   "cell_type": "markdown",
   "id": "4b63e958",
   "metadata": {},
   "source": [
    "## 全局作用域（Global Scope）"
   ]
  },
  {
   "cell_type": "markdown",
   "id": "7dd7ebce",
   "metadata": {},
   "source": [
    "全局作用域是在模块（文件）级别定义的作用域。在模块顶层定义的变量和函数属于全局作用域，可以在整个模块的任何地方访问。"
   ]
  },
  {
   "cell_type": "markdown",
   "id": "18e108a1",
   "metadata": {},
   "source": [
    "## 内置作用域（Built - in Scope）"
   ]
  },
  {
   "cell_type": "markdown",
   "id": "a9eff391",
   "metadata": {},
   "source": [
    "内置作用域是 Python 解释器自带的作用域，包含了所有内置的函数和异常类型，如 print()、len()、ValueError 等。这些内置名称在任何地方都可以直接使用。"
   ]
  },
  {
   "cell_type": "markdown",
   "id": "c2aa58ac",
   "metadata": {},
   "source": [
    "## 名称查找顺序"
   ]
  },
  {
   "cell_type": "markdown",
   "id": "16c9da80",
   "metadata": {},
   "source": [
    "Python查找名称时，遵循LEGB规则，即从局部作用域开始，逐层向外查找，直到找到变量/函数或引发NameError异常。"
   ]
  },
  {
   "cell_type": "markdown",
   "id": "bea2961e",
   "metadata": {},
   "source": [
    "## global 语句"
   ]
  },
  {
   "cell_type": "markdown",
   "id": "cfff2166",
   "metadata": {},
   "source": [
    "global 语句用于在函数内部声明一个变量为全局变量，这样在函数内部就可以对全局变量进行修改。  \n",
    "其语法形式为`global 变量名`，可以同时声明多个变量，用逗号分隔。"
   ]
  },
  {
   "cell_type": "markdown",
   "id": "df1dd48d",
   "metadata": {},
   "source": [
    "## nonlocal 语句"
   ]
  },
  {
   "cell_type": "markdown",
   "id": "14e73602",
   "metadata": {},
   "source": [
    "nonlocal 语句用于在嵌套函数中声明一个变量为外层（非全局）函数的变量，从而可以在内部函数中修改外层函数的变量。其语法形式为 `nonlocal 变量` ，同样可以同时声明多个变量。"
   ]
  },
  {
   "cell_type": "code",
   "execution_count": 5,
   "id": "651b4254",
   "metadata": {},
   "outputs": [
    {
     "name": "stdout",
     "output_type": "stream",
     "text": [
      "80\n"
     ]
    }
   ],
   "source": [
    "def outer():\n",
    "    enclosing_variable = 70\n",
    "    def inner():\n",
    "        nonlocal enclosing_variable\n",
    "        enclosing_variable = 80\n",
    "    inner()\n",
    "    print(enclosing_variable)\n",
    "outer()  # 输出: 80"
   ]
  },
  {
   "cell_type": "code",
   "execution_count": null,
   "id": "6184c803",
   "metadata": {},
   "outputs": [
    {
     "name": "stdout",
     "output_type": "stream",
     "text": [
      "70\n"
     ]
    }
   ],
   "source": [
    "def outer():\n",
    "    enclosing_variable = 70\n",
    "    def inner():\n",
    "        enclosing_variable = 80\n",
    "    inner()\n",
    "    print(enclosing_variable)\n",
    "outer()  # 输出: 70"
   ]
  },
  {
   "cell_type": "markdown",
   "id": "77801923",
   "metadata": {},
   "source": [
    "在这个例子中，inner 函数内部使用 nonlocal 语句声明 enclosing_variable 为外层函数 outer 的变量，然后对其进行修改。如果不使用 nonlocal 语句，直接在 inner 函数内部给 enclosing_variable 赋值，Python 会认为这是在创建一个新的局部变量。"
   ]
  },
  {
   "cell_type": "markdown",
   "id": "d141b06c",
   "metadata": {},
   "source": [
    "# 面向对象编程"
   ]
  },
  {
   "cell_type": "markdown",
   "id": "d5bc5565",
   "metadata": {},
   "source": [
    "## 类和实例"
   ]
  },
  {
   "cell_type": "markdown",
   "id": "323e7bc0",
   "metadata": {},
   "source": []
  }
 ],
 "metadata": {
  "kernelspec": {
   "display_name": "base",
   "language": "python",
   "name": "python3"
  },
  "language_info": {
   "codemirror_mode": {
    "name": "ipython",
    "version": 3
   },
   "file_extension": ".py",
   "mimetype": "text/x-python",
   "name": "python",
   "nbconvert_exporter": "python",
   "pygments_lexer": "ipython3",
   "version": "3.12.4"
  }
 },
 "nbformat": 4,
 "nbformat_minor": 5
}
