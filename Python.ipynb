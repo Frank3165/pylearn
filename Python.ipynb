{
 "cells": [
  {
   "cell_type": "markdown",
   "id": "82ff635a",
   "metadata": {},
   "source": [
    "# 字符串"
   ]
  },
  {
   "cell_type": "markdown",
   "id": "166aa7d0",
   "metadata": {},
   "source": [
    "## 格式化"
   ]
  },
  {
   "cell_type": "markdown",
   "id": "639a31d9",
   "metadata": {},
   "source": [
    "### f-string\n",
    "\n",
    "Python 3.6引入了f-strings，它是一种更现代和强大的字符串格式化方法，通过在字符串前加上 f 前缀来标识。使用f-strings，可以在字符串中直接嵌入变量、表达式或函数，并使用大括号 {} 来表示占位符。"
   ]
  },
  {
   "cell_type": "code",
   "execution_count": 20,
   "id": "77d13286",
   "metadata": {},
   "outputs": [
    {
     "name": "stdout",
     "output_type": "stream",
     "text": [
      "Hello, Bob! You are 25 years old.\n"
     ]
    }
   ],
   "source": [
    "name = \"Bob\"\n",
    "age = 25\n",
    "message = f\"Hello, {name}! You are {age} years old.\"\n",
    "print(message)"
   ]
  },
  {
   "cell_type": "code",
   "execution_count": 21,
   "id": "448a9ba5",
   "metadata": {},
   "outputs": [
    {
     "data": {
      "text/plain": [
       "'Average score is 87.5'"
      ]
     },
     "execution_count": 21,
     "metadata": {},
     "output_type": "execute_result"
    }
   ],
   "source": [
    "math_score = 90\n",
    "english_score = 85\n",
    "f'Average score is {(math_score + english_score) / 2}'"
   ]
  },
  {
   "cell_type": "code",
   "execution_count": null,
   "id": "31eb3e44",
   "metadata": {},
   "outputs": [
    {
     "data": {
      "text/plain": [
       "'Average score is 87.50'"
      ]
     },
     "execution_count": 22,
     "metadata": {},
     "output_type": "execute_result"
    }
   ],
   "source": [
    "math_score = 90\n",
    "english_score = 85\n",
    "f'Average score is {(lambda x,y:(x+y)/2)(math_score,english_score):.2f}'\n",
    "#第一个小括号表示的是lambda表达式，第二个小括号表示给lambda表达式传入参数。"
   ]
  },
  {
   "cell_type": "markdown",
   "id": "01c12aee",
   "metadata": {},
   "source": [
    "f-string也可以跨越多行，这对于格式化长文本非常有用。"
   ]
  },
  {
   "cell_type": "code",
   "execution_count": 24,
   "id": "42f1f3c6",
   "metadata": {},
   "outputs": [
    {
     "name": "stdout",
     "output_type": "stream",
     "text": [
      "\n",
      "Name: Alice\n",
      "Occupation: developer\n",
      "\n"
     ]
    }
   ],
   "source": [
    "name = 'Alice'\n",
    "occupation = 'developer'\n",
    "print(f\"\"\"\n",
    "Name: {name}\n",
    "Occupation: {occupation}\n",
    "\"\"\")"
   ]
  },
  {
   "cell_type": "markdown",
   "id": "14fa8f3d",
   "metadata": {},
   "source": [
    "# 函数"
   ]
  },
  {
   "cell_type": "markdown",
   "id": "7bc5a4f6",
   "metadata": {},
   "source": [
    "## 函数参数"
   ]
  },
  {
   "cell_type": "markdown",
   "id": "e12e8c91",
   "metadata": {},
   "source": [
    "*args是可变参数，args接收的是一个tuple；\n",
    "\n",
    "**kw是关键字参数，kw接收的是一个dict。\n",
    "\n",
    "可变参数既可以直接传入：func(1, 2, 3)，又可以先组装list或tuple，再通过`*args`传入：func(*(1, 2, 3))；\n",
    "\n",
    "关键字参数既可以直接传入：func(a=1, b=2)，又可以先组装dict，再通过`**kw`传入：func(**{'a': 1, 'b': 2})。\n",
    "\n",
    "命名的关键字参数是为了限制调用者可以传入的参数名，同时可以提供默认值。\n",
    "\n",
    "    def person(name, age, *, city='Beijing', job):\n",
    "        print(name, age, city, job)\n",
    "\n",
    "\n",
    "定义命名的关键字参数在没有可变参数的情况下不要忘了写分隔符*，否则定义的将是位置参数。\n",
    "\n",
    "    def person(name, age, *, city, job):\n",
    "        pass "
   ]
  },
  {
   "cell_type": "markdown",
   "id": "88976035",
   "metadata": {},
   "source": [
    "## 递归函数"
   ]
  },
  {
   "cell_type": "markdown",
   "id": "83384fe4",
   "metadata": {},
   "source": [
    "在函数内部，可以调用其他函数。如果一个函数在内部调用自身本身，这个函数就是递归函数。"
   ]
  },
  {
   "cell_type": "code",
   "execution_count": 11,
   "id": "ec6a802a",
   "metadata": {},
   "outputs": [
    {
     "data": {
      "text/plain": [
       "3628800"
      ]
     },
     "execution_count": 11,
     "metadata": {},
     "output_type": "execute_result"
    }
   ],
   "source": [
    "#计算阶乘\n",
    "def fact(n):\n",
    "    if n==1:\n",
    "        return 1\n",
    "    return n * fact(n - 1)\n",
    "fact(10)"
   ]
  },
  {
   "cell_type": "markdown",
   "id": "27561dcf",
   "metadata": {},
   "source": [
    "## 高阶函数"
   ]
  },
  {
   "cell_type": "markdown",
   "id": "238249e5",
   "metadata": {},
   "source": [
    "把函数作为参数传入，这样的函数称为高阶函数"
   ]
  },
  {
   "cell_type": "code",
   "execution_count": 12,
   "id": "add80d8f",
   "metadata": {},
   "outputs": [
    {
     "name": "stdout",
     "output_type": "stream",
     "text": [
      "11\n"
     ]
    }
   ],
   "source": [
    "def add(x, y, f):\n",
    "    return f(x) + f(y)\n",
    "\n",
    "print(add(-5, 6, abs))"
   ]
  },
  {
   "cell_type": "markdown",
   "id": "faae07b5",
   "metadata": {},
   "source": [
    "## map函数"
   ]
  },
  {
   "cell_type": "markdown",
   "id": "fac5bfe5",
   "metadata": {},
   "source": [
    "`map()`函数接收两个参数，一个是函数，一个是Iterable，map将传入的函数依次作用到序列的每个元素，并把结果作为新的Iterator返回。"
   ]
  },
  {
   "cell_type": "code",
   "execution_count": null,
   "id": "8638b2c9",
   "metadata": {},
   "outputs": [
    {
     "data": {
      "text/plain": [
       "['1', '2', '3', '4', '5']"
      ]
     },
     "execution_count": 15,
     "metadata": {},
     "output_type": "execute_result"
    }
   ],
   "source": [
    "it = map(str, [1, 2, 3, 4, 5])\n",
    "list(it)"
   ]
  },
  {
   "cell_type": "markdown",
   "id": "88793d4c",
   "metadata": {},
   "source": [
    "## reduce函数"
   ]
  },
  {
   "cell_type": "markdown",
   "id": "7337b5fa",
   "metadata": {},
   "source": [
    "reduce函数用第一个参数（函数）先对第二个参数（可迭代对象）中的第 1、2 个元素进行操作，然后将得到的结果与下一个元素继续操作"
   ]
  },
  {
   "cell_type": "code",
   "execution_count": null,
   "id": "0df6bdf7",
   "metadata": {},
   "outputs": [
    {
     "data": {
      "text/plain": [
       "13579"
      ]
     },
     "execution_count": 16,
     "metadata": {},
     "output_type": "execute_result"
    }
   ],
   "source": [
    "#把列表转换为整数\n",
    "from functools import reduce\n",
    "def fn(x, y):\n",
    "     return x * 10 + y\n",
    "reduce(fn, [1, 3, 5, 7, 9])"
   ]
  },
  {
   "cell_type": "markdown",
   "id": "b4d54cf6",
   "metadata": {},
   "source": [
    "## filter函数"
   ]
  },
  {
   "cell_type": "markdown",
   "id": "030ae65d",
   "metadata": {},
   "source": [
    "和map()类似，filter()也接收一个函数和一个序列。和map()不同的是，filter()把传入的函数依次作用于每个元素，然后根据返回值是True还是False决定保留还是丢弃该元素。"
   ]
  },
  {
   "cell_type": "code",
   "execution_count": 1,
   "id": "8ab807f3",
   "metadata": {},
   "outputs": [
    {
     "data": {
      "text/plain": [
       "[1, 5, 9, 15]"
      ]
     },
     "execution_count": 1,
     "metadata": {},
     "output_type": "execute_result"
    }
   ],
   "source": [
    "#只保留奇数\n",
    "def is_odd(n):\n",
    "    return n % 2 == 1\n",
    "\n",
    "list(filter(is_odd, [1, 2, 4, 5, 6, 9, 10, 15]))"
   ]
  },
  {
   "cell_type": "markdown",
   "id": "b25207b5",
   "metadata": {},
   "source": [
    "## sorted函数"
   ]
  },
  {
   "cell_type": "code",
   "execution_count": 5,
   "id": "7825ea2e",
   "metadata": {},
   "outputs": [
    {
     "data": {
      "text/plain": [
       "['about', 'bob', 'Credit', 'Zoo']"
      ]
     },
     "execution_count": 5,
     "metadata": {},
     "output_type": "execute_result"
    }
   ],
   "source": [
    "#忽略大小写排序\n",
    "sorted(['bob', 'about', 'Zoo', 'Credit'], key = str.lower)"
   ]
  },
  {
   "cell_type": "markdown",
   "id": "2aed4928",
   "metadata": {},
   "source": [
    "## 闭包（Closure）"
   ]
  },
  {
   "cell_type": "markdown",
   "id": "1edbc848",
   "metadata": {},
   "source": [
    "闭包：使用闭包，就是内层函数引用了外层函数的局部变量。"
   ]
  },
  {
   "cell_type": "code",
   "execution_count": null,
   "id": "b1c4e856",
   "metadata": {},
   "outputs": [
    {
     "name": "stdout",
     "output_type": "stream",
     "text": [
      "9\n",
      "9\n",
      "9\n",
      "9\n"
     ]
    }
   ],
   "source": [
    "def count():\n",
    "    fs = []\n",
    "    for i in range(1, 4):\n",
    "        def f():\n",
    "             return i*i\n",
    "        fs.append(f)\n",
    "    return fs\n",
    "\n",
    "f1, f2, f3 = count()\n",
    "print(f1())\n",
    "print(f2())\n",
    "print(f3())"
   ]
  },
  {
   "cell_type": "markdown",
   "id": "360d0c69",
   "metadata": {},
   "source": [
    "输出全部都是9，原因就在于返回的函数引用了变量i，但它并非立刻执行。等到3个函数都返回时，它们所引用的变量i已经变成了3，因此最终结果为9。  \n",
    "因此，返回闭包时牢记一点：返回函数不要引用任何循环变量，或者后续会发生变化的变量。"
   ]
  },
  {
   "cell_type": "markdown",
   "id": "994b94d1",
   "metadata": {},
   "source": [
    "## 匿名函数"
   ]
  },
  {
   "cell_type": "markdown",
   "id": "631242ab",
   "metadata": {},
   "source": [
    "匿名函数也是一个函数对象，也可以把匿名函数赋值给一个变量，再利用变量来调用该函数："
   ]
  },
  {
   "cell_type": "code",
   "execution_count": 10,
   "id": "fcf5387f",
   "metadata": {},
   "outputs": [
    {
     "name": "stdout",
     "output_type": "stream",
     "text": [
      "<function <lambda> at 0x000001371518AE80>\n",
      "25\n"
     ]
    }
   ],
   "source": [
    "f = lambda x: x * x\n",
    "print(f)\n",
    "print(f(5))"
   ]
  },
  {
   "cell_type": "markdown",
   "id": "e097fcf7",
   "metadata": {},
   "source": [
    "同样，也可以把匿名函数作为返回值返回，比如："
   ]
  },
  {
   "cell_type": "code",
   "execution_count": 14,
   "id": "3ad1059f",
   "metadata": {},
   "outputs": [
    {
     "data": {
      "text/plain": [
       "5"
      ]
     },
     "execution_count": 14,
     "metadata": {},
     "output_type": "execute_result"
    }
   ],
   "source": [
    "def build(x, y):\n",
    "    return lambda: x * x + y * y\n",
    "build(1, 2)()"
   ]
  },
  {
   "cell_type": "markdown",
   "id": "31be0dba",
   "metadata": {},
   "source": [
    "`build(1, 2)`返回的是一个匿名函数（lambda），而不是直接计算结果。\n",
    "在 Python 里，lambda: x * x + y * y 是一个函数对象，只有调用它（比如`build(1, 2)()`）才会执行并返回结果。"
   ]
  },
  {
   "cell_type": "markdown",
   "id": "54e496b6",
   "metadata": {},
   "source": [
    "## 装饰器（Decorator）"
   ]
  },
  {
   "cell_type": "markdown",
   "id": "71ee4080",
   "metadata": {},
   "source": []
  },
  {
   "cell_type": "code",
   "execution_count": null,
   "id": "01a339a1",
   "metadata": {},
   "outputs": [],
   "source": []
  },
  {
   "cell_type": "markdown",
   "id": "57cdc8da",
   "metadata": {},
   "source": [
    "## 偏函数（Partial function）"
   ]
  },
  {
   "cell_type": "markdown",
   "id": "a8418c5c",
   "metadata": {},
   "source": [
    "当函数的参数个数太多，需要简化时，使用functools.partial可以创建一个新的函数，这个新函数可以固定住原函数的部分参数，从而在调用时更简单。"
   ]
  },
  {
   "cell_type": "code",
   "execution_count": null,
   "id": "118192fc",
   "metadata": {},
   "outputs": [
    {
     "name": "stdout",
     "output_type": "stream",
     "text": [
      "64\n",
      "85\n",
      "1000000\n"
     ]
    }
   ],
   "source": [
    "from functools import partial\n",
    "\n",
    "int2 = partial(int, base=2)\n",
    "print(int2('1000000'))\n",
    "print(int2('1010101'))\n",
    "#仍可传入其他值\n",
    "print(int2('1000000',base=10))\n"
   ]
  },
  {
   "cell_type": "markdown",
   "id": "af81c8e6",
   "metadata": {},
   "source": [
    "# 生成器 generator"
   ]
  },
  {
   "cell_type": "markdown",
   "id": "b08816bf",
   "metadata": {},
   "source": [
    "## 生成方法1：把列表生成式的[]改为()"
   ]
  },
  {
   "cell_type": "code",
   "execution_count": null,
   "id": "0863ac33",
   "metadata": {},
   "outputs": [
    {
     "name": "stdout",
     "output_type": "stream",
     "text": [
      "<generator object <genexpr> at 0x000001320C8D52F0>\n",
      "0\n",
      "1\n",
      "4\n",
      "9\n",
      "16\n",
      "25\n",
      "36\n",
      "49\n",
      "64\n",
      "81\n"
     ]
    }
   ],
   "source": [
    "# 生成\n",
    "g = (x * x for x in range(10))\n",
    "print(g)\n",
    "# 打印\n",
    "for i in g:\n",
    "    print(i)"
   ]
  },
  {
   "cell_type": "markdown",
   "id": "336a2c59",
   "metadata": {},
   "source": [
    "## 生成方法2：调用generator函数"
   ]
  },
  {
   "cell_type": "code",
   "execution_count": 16,
   "id": "6e230229",
   "metadata": {},
   "outputs": [
    {
     "name": "stdout",
     "output_type": "stream",
     "text": [
      "1\n",
      "\n",
      "1\n",
      "1\n",
      "2\n",
      "3\n",
      "5\n",
      "8\n",
      "13\n",
      "21\n",
      "34\n",
      "55\n",
      "\n",
      "Generator return value: done\n"
     ]
    }
   ],
   "source": [
    "#定义生成器函数\n",
    "def fib(max):\n",
    "    n, a, b = 0, 0, 1\n",
    "    while n < max:\n",
    "        yield b\n",
    "        a, b = b, a + b\n",
    "        n = n + 1\n",
    "    return 'done'\n",
    "#生成生成器对象\n",
    "f = fib(10)\n",
    "#获取下一个值\n",
    "print(next(f))\n",
    "print()\n",
    "#获取所有值\n",
    "h = fib(10)\n",
    "for i in h:\n",
    "    print(i)\n",
    "print()\n",
    "#获取返回值\n",
    "g = fib(10)\n",
    "while True:\n",
    "    try:\n",
    "        x = next(g)\n",
    "    except StopIteration as e:\n",
    "        print('Generator return value:', e.value)\n",
    "        break"
   ]
  },
  {
   "cell_type": "markdown",
   "id": "9bb6743d",
   "metadata": {},
   "source": [
    "# 迭代器 Iterator"
   ]
  },
  {
   "cell_type": "markdown",
   "id": "dd4d250e",
   "metadata": {},
   "source": [
    "可迭代对象`Iterable`：可以直接作用于`for`循环的对象，如`list`, `tuple`, `set`, `string`, `dict`, `generator`等  \n",
    "迭代器：可以被`next()`函数调用并不断返回下一个值的对象，如生成器"
   ]
  },
  {
   "cell_type": "code",
   "execution_count": 4,
   "id": "c292a155",
   "metadata": {},
   "outputs": [
    {
     "name": "stdout",
     "output_type": "stream",
     "text": [
      "True\n",
      "True\n",
      "True\n"
     ]
    }
   ],
   "source": [
    "#判断\n",
    "from collections.abc import Iterable, Iterator\n",
    "print(isinstance ([], Iterable))\n",
    "print(isinstance ((i for i in range(10)), Iterable))\n",
    "print(isinstance ((i for i in range(10)), Iterator))"
   ]
  },
  {
   "cell_type": "markdown",
   "id": "8e469c44",
   "metadata": {},
   "source": [
    "把list、dict、str等Iterable变成Iterator可以使用`iter()`函数："
   ]
  },
  {
   "cell_type": "code",
   "execution_count": 10,
   "id": "8bf6b6ad",
   "metadata": {},
   "outputs": [
    {
     "name": "stdout",
     "output_type": "stream",
     "text": [
      "True\n",
      "1\n",
      "<list_iterator object at 0x0000021AA1E2A440>\n"
     ]
    }
   ],
   "source": [
    "list_ = iter([1])\n",
    "print(isinstance(list_, Iterator))\n",
    "print(next(list_))\n",
    "print(list_)"
   ]
  },
  {
   "cell_type": "markdown",
   "id": "798596b3",
   "metadata": {},
   "source": [
    "# 模块"
   ]
  },
  {
   "cell_type": "markdown",
   "id": "32cc8443",
   "metadata": {},
   "source": [
    "## 模块定义和导入"
   ]
  },
  {
   "cell_type": "code",
   "execution_count": 4,
   "id": "d44a10d7",
   "metadata": {},
   "outputs": [
    {
     "name": "stdout",
     "output_type": "stream",
     "text": [
      "Hello, --f=c:\\Users\\31653\\AppData\\Roaming\\jupyter\\runtime\\kernel-v3e7a906f15fea2b74f399f50a10c5a25150825dea.json!\n"
     ]
    }
   ],
   "source": [
    "#导入hello.py模块\n",
    "import hello\n",
    "hello.test()"
   ]
  },
  {
   "cell_type": "markdown",
   "id": "73a9395d",
   "metadata": {},
   "source": [
    "# 作用域"
   ]
  },
  {
   "cell_type": "markdown",
   "id": "627823cc",
   "metadata": {},
   "source": [
    "## 局部作用域（Local Scope）"
   ]
  },
  {
   "cell_type": "markdown",
   "id": "543ac1de",
   "metadata": {},
   "source": [
    "局部作用域是在函数内部定义的作用域。在函数内部定义的变量和函数只能在该函数内部访问，函数外部无法直接访问这些局部变量。"
   ]
  },
  {
   "cell_type": "markdown",
   "id": "a0e9aeac",
   "metadata": {},
   "source": [
    "## 嵌套作用域（Enclosing Scope）"
   ]
  },
  {
   "cell_type": "markdown",
   "id": "c9419988",
   "metadata": {},
   "source": [
    "嵌套作用域也称为闭包作用域，当一个函数嵌套在另一个函数内部时，内部函数可以访问外部函数的变量。外部函数的作用域就是嵌套作用域。"
   ]
  },
  {
   "cell_type": "markdown",
   "id": "4b63e958",
   "metadata": {},
   "source": [
    "## 全局作用域（Global Scope）"
   ]
  },
  {
   "cell_type": "markdown",
   "id": "7dd7ebce",
   "metadata": {},
   "source": [
    "全局作用域是在模块（文件）级别定义的作用域。在模块顶层定义的变量和函数属于全局作用域，可以在整个模块的任何地方访问。"
   ]
  },
  {
   "cell_type": "markdown",
   "id": "18e108a1",
   "metadata": {},
   "source": [
    "## 内置作用域（Built - in Scope）"
   ]
  },
  {
   "cell_type": "markdown",
   "id": "a9eff391",
   "metadata": {},
   "source": [
    "内置作用域是 Python 解释器自带的作用域，包含了所有内置的函数和异常类型，如 print()、len()、ValueError 等。这些内置名称在任何地方都可以直接使用。"
   ]
  },
  {
   "cell_type": "markdown",
   "id": "c2aa58ac",
   "metadata": {},
   "source": [
    "## 名称查找顺序"
   ]
  },
  {
   "cell_type": "markdown",
   "id": "16c9da80",
   "metadata": {},
   "source": [
    "Python查找名称时，遵循LEGB规则，即从局部作用域开始，逐层向外查找，直到找到变量/函数或引发NameError异常。"
   ]
  },
  {
   "cell_type": "markdown",
   "id": "bea2961e",
   "metadata": {},
   "source": [
    "## global 语句"
   ]
  },
  {
   "cell_type": "markdown",
   "id": "cfff2166",
   "metadata": {},
   "source": [
    "global 语句用于在函数内部声明一个变量为全局变量，这样在函数内部就可以对全局变量进行修改。  \n",
    "其语法形式为`global 变量名`，可以同时声明多个变量，用逗号分隔。"
   ]
  },
  {
   "cell_type": "markdown",
   "id": "df1dd48d",
   "metadata": {},
   "source": [
    "## nonlocal 语句"
   ]
  },
  {
   "cell_type": "markdown",
   "id": "14e73602",
   "metadata": {},
   "source": [
    "nonlocal 语句用于在嵌套函数中声明一个变量为外层（非全局）函数的变量，从而可以在内部函数中修改外层函数的变量。其语法形式为 `nonlocal 变量` ，同样可以同时声明多个变量。"
   ]
  },
  {
   "cell_type": "code",
   "execution_count": 5,
   "id": "651b4254",
   "metadata": {},
   "outputs": [
    {
     "name": "stdout",
     "output_type": "stream",
     "text": [
      "80\n"
     ]
    }
   ],
   "source": [
    "def outer():\n",
    "    enclosing_variable = 70\n",
    "    def inner():\n",
    "        nonlocal enclosing_variable\n",
    "        enclosing_variable = 80\n",
    "    inner()\n",
    "    print(enclosing_variable)\n",
    "outer()  # 输出: 80"
   ]
  },
  {
   "cell_type": "code",
   "execution_count": null,
   "id": "6184c803",
   "metadata": {},
   "outputs": [
    {
     "name": "stdout",
     "output_type": "stream",
     "text": [
      "70\n"
     ]
    }
   ],
   "source": [
    "def outer():\n",
    "    enclosing_variable = 70\n",
    "    def inner():\n",
    "        enclosing_variable = 80\n",
    "    inner()\n",
    "    print(enclosing_variable)\n",
    "outer()  # 输出: 70"
   ]
  },
  {
   "cell_type": "markdown",
   "id": "77801923",
   "metadata": {},
   "source": [
    "在这个例子中，inner 函数内部使用 nonlocal 语句声明 enclosing_variable 为外层函数 outer 的变量，然后对其进行修改。如果不使用 nonlocal 语句，直接在 inner 函数内部给 enclosing_variable 赋值，Python 会认为这是在创建一个新的局部变量。"
   ]
  },
  {
   "cell_type": "markdown",
   "id": "d141b06c",
   "metadata": {},
   "source": [
    "# 面向对象编程"
   ]
  },
  {
   "cell_type": "markdown",
   "id": "d5bc5565",
   "metadata": {},
   "source": [
    "## 类和实例"
   ]
  },
  {
   "cell_type": "markdown",
   "id": "39c7f152",
   "metadata": {},
   "source": [
    "在Python中，定义类是通过class关键字：\n",
    "\n",
    "    class Student(object):\n",
    "        pass\n",
    "\n",
    "class后面紧接着是类名，即Student，类名通常是大写开头的单词，紧接着是(object)，表示该类是从object类继承下来的。\n",
    "\n",
    "定义好了Student类，就可以根据Student类创建出Student的实例，创建实例是通过类名+()实现的：  \n",
    "`bart = Student()`  \n",
    "\n",
    "可以自由地给一个实例变量绑定属性，比如，给实例bart绑定一个name属性：  \n",
    "`bart.name = 'Bart Simpson'`  \n",
    "\n",
    "由于类可以起到模板的作用，因此，可以在创建实例的时候，把一些我们认为必须绑定的属性强制填写进去。通过定义一个特殊的__init__方法，在创建实例的时候，就把name，score等属性绑上去。注意到__init__方法的第一个参数永远是self，表示创建的实例本身。有了__init__方法，在创建实例的时候，就必须传入与__init__方法匹配的参数，但self不需要传，Python解释器自己会把实例变量传进去：\n"
   ]
  },
  {
   "cell_type": "code",
   "execution_count": 7,
   "id": "ecf01abe",
   "metadata": {},
   "outputs": [
    {
     "name": "stdout",
     "output_type": "stream",
     "text": [
      "Bart Simpson\n",
      "59\n"
     ]
    }
   ],
   "source": [
    "class Student(object):\n",
    "    def __init__(self, name, score):\n",
    "        self.name = name\n",
    "        self.score = score\n",
    "\n",
    "bart = Student('Bart Simpson', 59)\n",
    "print(bart.name)\n",
    "print(bart.score)"
   ]
  },
  {
   "cell_type": "markdown",
   "id": "f9a5c360",
   "metadata": {},
   "source": [
    "也可以给类定义属性，类属性可继承给实例，但实例属性的优先级更高。"
   ]
  },
  {
   "cell_type": "code",
   "execution_count": 7,
   "id": "5b2f6b08",
   "metadata": {},
   "outputs": [
    {
     "name": "stdout",
     "output_type": "stream",
     "text": [
      "Student\n",
      "Student\n",
      "Michael\n",
      "Student\n",
      "Student\n"
     ]
    }
   ],
   "source": [
    "class Student(object):\n",
    "    name = 'Student'\n",
    "\n",
    "s = Student() # 创建实例s\n",
    "print(s.name) # 打印name属性，因为实例并没有name属性，所以会继续查找class的name属性\n",
    "print(Student.name) # 打印类的name属性\n",
    "s.name = 'Michael' # 给实例绑定name属性\n",
    "print(s.name) # 由于实例属性优先级比类属性高，因此，它会屏蔽掉类的name属性\n",
    "print(Student.name) # 但是类属性并未消失，用Student.name仍然可以访问\n",
    "del s.name # 如果删除实例的name属性\n",
    "print(s.name) # 再次调用s.name，由于实例的name属性没有找到，类的name属性就显示出来了\n"
   ]
  },
  {
   "cell_type": "markdown",
   "id": "367d5bf4",
   "metadata": {},
   "source": [
    "### 定制类"
   ]
  },
  {
   "cell_type": "markdown",
   "id": "6e3c375b",
   "metadata": {},
   "source": [
    "#### `__len__()`方法"
   ]
  },
  {
   "cell_type": "markdown",
   "id": "e5e0935d",
   "metadata": {},
   "source": [
    "类似__xxx__的属性和方法在Python中都是有特殊用途的。在Python中，如果你调用len()函数试图获取一个对象的长度，实际上，在len()函数内部，它自动去调用该对象的__len__()方法，所以，下面的代码是等价的："
   ]
  },
  {
   "cell_type": "code",
   "execution_count": 1,
   "id": "3d4b2c3d",
   "metadata": {},
   "outputs": [
    {
     "data": {
      "text/plain": [
       "3"
      ]
     },
     "execution_count": 1,
     "metadata": {},
     "output_type": "execute_result"
    }
   ],
   "source": [
    "len('ABC')\n",
    "'ABC'.__len__()"
   ]
  },
  {
   "cell_type": "markdown",
   "id": "1460f7b5",
   "metadata": {},
   "source": [
    "我们自己写的类，如果也想用len()的话，就自己写一个__len__()方法。"
   ]
  },
  {
   "cell_type": "code",
   "execution_count": 9,
   "id": "8c4457f5",
   "metadata": {},
   "outputs": [
    {
     "data": {
      "text/plain": [
       "1000"
      ]
     },
     "execution_count": 9,
     "metadata": {},
     "output_type": "execute_result"
    }
   ],
   "source": [
    "class MyDog(object):\n",
    "    def __len__(self):\n",
    "        return 1000\n",
    "\n",
    "dog = MyDog()\n",
    "len(dog)"
   ]
  },
  {
   "cell_type": "markdown",
   "id": "184fc933",
   "metadata": {},
   "source": [
    "#### `__str__()`方法&`__repr__()`方法"
   ]
  },
  {
   "cell_type": "markdown",
   "id": "377d41c1",
   "metadata": {},
   "source": [
    "#### `__iter__()`方法"
   ]
  },
  {
   "cell_type": "markdown",
   "id": "348a91b7",
   "metadata": {},
   "source": [
    "如果一个类想被用于for in循环，类似list或tuple那样，就必须实现一个__iter__()方法，该方法返回一个迭代对象，然后，Python的for循环就会不断调用该迭代对象的__next__()方法拿到循环的下一个值，直到遇到StopIteration错误时退出循环。\n",
    "\n",
    "我们以斐波那契数列为例，写一个Fib类，可以作用于for循环："
   ]
  },
  {
   "cell_type": "code",
   "execution_count": 10,
   "id": "3ef91b86",
   "metadata": {},
   "outputs": [
    {
     "name": "stdout",
     "output_type": "stream",
     "text": [
      "1\n",
      "1\n",
      "2\n",
      "3\n",
      "5\n",
      "8\n",
      "13\n",
      "21\n",
      "34\n",
      "55\n",
      "89\n",
      "144\n",
      "233\n",
      "377\n",
      "610\n",
      "987\n",
      "1597\n",
      "2584\n",
      "4181\n",
      "6765\n",
      "10946\n",
      "17711\n",
      "28657\n",
      "46368\n",
      "75025\n"
     ]
    }
   ],
   "source": [
    "class Fib(object):\n",
    "    def __init__(self):\n",
    "        self.a, self.b = 0, 1 # 初始化两个计数器a，b\n",
    "\n",
    "    def __iter__(self):\n",
    "        return self # 实例本身就是迭代对象，故返回自己\n",
    "\n",
    "    def __next__(self):\n",
    "        self.a, self.b = self.b, self.a + self.b # 计算下一个值\n",
    "        if self.a > 100000: # 退出循环的条件\n",
    "            raise StopIteration()\n",
    "        return self.a # 返回下一个值\n",
    "\n",
    "for n in Fib():\n",
    "    print(n)"
   ]
  },
  {
   "cell_type": "markdown",
   "id": "04c5fa22",
   "metadata": {},
   "source": [
    "#### `__getitem__()`方法"
   ]
  },
  {
   "cell_type": "markdown",
   "id": "ab4e25e1",
   "metadata": {},
   "source": [
    "Fib实例虽然能作用于for循环，但不能进行切片。如果要能表现得像能切片那样，可以定义__getitem__()方法："
   ]
  },
  {
   "cell_type": "code",
   "execution_count": 12,
   "id": "d5590ef6",
   "metadata": {},
   "outputs": [
    {
     "data": {
      "text/plain": [
       "89"
      ]
     },
     "execution_count": 12,
     "metadata": {},
     "output_type": "execute_result"
    }
   ],
   "source": [
    "class Fib(object):\n",
    "    def __getitem__(self, n):\n",
    "        a, b = 1, 1\n",
    "        for x in range(n):\n",
    "            a, b = b, a + b\n",
    "        return a\n",
    "\n",
    "f = Fib()\n",
    "f[10]"
   ]
  },
  {
   "cell_type": "markdown",
   "id": "38d8a47b",
   "metadata": {},
   "source": [
    "#### `__getattr__()`方法"
   ]
  },
  {
   "cell_type": "markdown",
   "id": "ce63d4ac",
   "metadata": {},
   "source": [
    "当调用不存在的属性时，Python解释器会试图调用__getattr__(self, 'score')来尝试获得属性："
   ]
  },
  {
   "cell_type": "code",
   "execution_count": null,
   "id": "481a9233",
   "metadata": {},
   "outputs": [
    {
     "name": "stdout",
     "output_type": "stream",
     "text": [
      "Michael\n",
      "99\n"
     ]
    },
    {
     "ename": "AttributeError",
     "evalue": "'Student' object has no attribute 'abc'",
     "output_type": "error",
     "traceback": [
      "\u001b[1;31m---------------------------------------------------------------------------\u001b[0m",
      "\u001b[1;31mAttributeError\u001b[0m                            Traceback (most recent call last)",
      "Cell \u001b[1;32mIn[15], line 12\u001b[0m\n\u001b[0;32m     10\u001b[0m \u001b[38;5;28mprint\u001b[39m(s\u001b[38;5;241m.\u001b[39mname)\n\u001b[0;32m     11\u001b[0m \u001b[38;5;28mprint\u001b[39m(s\u001b[38;5;241m.\u001b[39mscore)\n\u001b[1;32m---> 12\u001b[0m \u001b[38;5;28mprint\u001b[39m(\u001b[43ms\u001b[49m\u001b[38;5;241;43m.\u001b[39;49m\u001b[43mabc\u001b[49m)\n",
      "Cell \u001b[1;32mIn[15], line 8\u001b[0m, in \u001b[0;36mStudent.__getattr__\u001b[1;34m(self, attr)\u001b[0m\n\u001b[0;32m      6\u001b[0m \u001b[38;5;28;01mif\u001b[39;00m attr\u001b[38;5;241m==\u001b[39m\u001b[38;5;124m'\u001b[39m\u001b[38;5;124mscore\u001b[39m\u001b[38;5;124m'\u001b[39m:\n\u001b[0;32m      7\u001b[0m     \u001b[38;5;28;01mreturn\u001b[39;00m \u001b[38;5;241m99\u001b[39m\n\u001b[1;32m----> 8\u001b[0m \u001b[38;5;28;01mraise\u001b[39;00m \u001b[38;5;167;01mAttributeError\u001b[39;00m(\u001b[38;5;124m'\u001b[39m\u001b[38;5;130;01m\\'\u001b[39;00m\u001b[38;5;124mStudent\u001b[39m\u001b[38;5;130;01m\\'\u001b[39;00m\u001b[38;5;124m object has no attribute \u001b[39m\u001b[38;5;130;01m\\'\u001b[39;00m\u001b[38;5;132;01m%s\u001b[39;00m\u001b[38;5;130;01m\\'\u001b[39;00m\u001b[38;5;124m'\u001b[39m \u001b[38;5;241m%\u001b[39m attr)\n",
      "\u001b[1;31mAttributeError\u001b[0m: 'Student' object has no attribute 'abc'"
     ]
    }
   ],
   "source": [
    "class Student(object):\n",
    "    def __init__(self):\n",
    "        self.name = 'Michael'\n",
    "\n",
    "    def __getattr__(self, attr):\n",
    "        if attr=='score':\n",
    "            return 99\n",
    "        raise AttributeError('\\'Student\\' object has no attribute \\'%s\\'' % attr) #无此行调用其它属性时返回None\n",
    "s = Student()\n",
    "print(s.name)\n",
    "print(s.score)\n",
    "print(s.abc)"
   ]
  },
  {
   "cell_type": "markdown",
   "id": "0169ed0c",
   "metadata": {},
   "source": [
    "#### `__call__()`方法"
   ]
  },
  {
   "cell_type": "markdown",
   "id": "dd72282c",
   "metadata": {},
   "source": [
    "任何类，只需要定义一个__call__()方法，就可以直接对实例进行调用："
   ]
  },
  {
   "cell_type": "code",
   "execution_count": 16,
   "id": "912048b7",
   "metadata": {},
   "outputs": [
    {
     "name": "stdout",
     "output_type": "stream",
     "text": [
      "My name is Michael.\n"
     ]
    }
   ],
   "source": [
    "class Student(object):\n",
    "    def __init__(self, name):\n",
    "        self.name = name\n",
    "\n",
    "    def __call__(self):\n",
    "        print('My name is %s.' % self.name)\n",
    "\n",
    "s = Student('Michael')\n",
    "s()"
   ]
  },
  {
   "cell_type": "markdown",
   "id": "ab870248",
   "metadata": {},
   "source": [
    "### 枚举类"
   ]
  },
  {
   "cell_type": "markdown",
   "id": "e1a5c08a",
   "metadata": {},
   "source": [
    "Enum可以把一组相关常量定义在一个class中，且class不可变，而且成员可以直接比较。"
   ]
  },
  {
   "cell_type": "code",
   "execution_count": 25,
   "id": "41a35237",
   "metadata": {},
   "outputs": [
    {
     "name": "stdout",
     "output_type": "stream",
     "text": [
      "Jan => Month.Jan , 1\n",
      "Feb => Month.Feb , 2\n",
      "Mar => Month.Mar , 3\n",
      "Apr => Month.Apr , 4\n",
      "May => Month.May , 5\n",
      "Jun => Month.Jun , 6\n",
      "Jul => Month.Jul , 7\n",
      "Aug => Month.Aug , 8\n",
      "Sep => Month.Sep , 9\n",
      "Oct => Month.Oct , 10\n",
      "Nov => Month.Nov , 11\n",
      "Dec => Month.Dec , 12\n"
     ]
    }
   ],
   "source": [
    "from enum import Enum\n",
    "\n",
    "Month = Enum('Month', ('Jan', 'Feb', 'Mar', 'Apr', 'May', 'Jun', 'Jul', 'Aug', 'Sep', 'Oct', 'Nov', 'Dec'))\n",
    "for name, member in Month.__members__.items():\n",
    "    print(name, '=>', member, ',', member.value)"
   ]
  },
  {
   "cell_type": "markdown",
   "id": "aa6d3e8b",
   "metadata": {},
   "source": [
    "value属性则是自动赋给成员的int常量，默认从1开始计数。\n",
    "\n",
    "如果需要更精确地控制枚举类型，可以从Enum派生出自定义类：\n",
    "\n",
    "@unique装饰器可以帮助我们检查保证没有重复值。"
   ]
  },
  {
   "cell_type": "code",
   "execution_count": 27,
   "id": "6ecc6043",
   "metadata": {},
   "outputs": [
    {
     "name": "stdout",
     "output_type": "stream",
     "text": [
      "Weekday.Tue\n",
      "2\n",
      "Weekday.Tue\n"
     ]
    }
   ],
   "source": [
    "from enum import Enum, unique\n",
    "\n",
    "@unique\n",
    "class Weekday(Enum):\n",
    "    Sun = 0 # Sun的value被设定为0\n",
    "    Mon = 1\n",
    "    Tue = 2\n",
    "    Wed = 3\n",
    "    Thu = 4\n",
    "    Fri = 5\n",
    "    Sat = 6\n",
    "\n",
    "print(Weekday.Tue)\n",
    "print(Weekday.Tue.value)\n",
    "print(Weekday(2))"
   ]
  },
  {
   "cell_type": "markdown",
   "id": "642fd015",
   "metadata": {},
   "source": [
    "### 元类"
   ]
  },
  {
   "cell_type": "markdown",
   "id": "fb40eba0",
   "metadata": {},
   "source": []
  },
  {
   "cell_type": "markdown",
   "id": "d3848950",
   "metadata": {},
   "source": [
    "## 数据封装"
   ]
  },
  {
   "cell_type": "markdown",
   "id": "4c43288f",
   "metadata": {},
   "source": [
    "我们从外部看Student类，只需要知道，创建实例需要给出name和score，而如何打印，都是在Student类的内部定义的。因此，这些数据和方法被“封装”起来了。"
   ]
  },
  {
   "cell_type": "code",
   "execution_count": 9,
   "id": "e3c37c2d",
   "metadata": {},
   "outputs": [
    {
     "name": "stdout",
     "output_type": "stream",
     "text": [
      "Bart Simpson: 59\n"
     ]
    }
   ],
   "source": [
    "class Student(object):\n",
    "    def __init__(self, name, score):\n",
    "        self.name = name\n",
    "        self.score = score\n",
    "\n",
    "    def print_score(self):\n",
    "        print('%s: %s' % (self.name, self.score))\n",
    "\n",
    "bart = Student('Bart Simpson', 59)\n",
    "bart.print_score()"
   ]
  },
  {
   "cell_type": "markdown",
   "id": "740024cc",
   "metadata": {},
   "source": [
    "封装还可以给Student类下的实例定义方法，比如get_grade："
   ]
  },
  {
   "cell_type": "code",
   "execution_count": 10,
   "id": "769d885b",
   "metadata": {},
   "outputs": [
    {
     "data": {
      "text/plain": [
       "'C'"
      ]
     },
     "execution_count": 10,
     "metadata": {},
     "output_type": "execute_result"
    }
   ],
   "source": [
    "class Student(object):\n",
    "    def __init__(self, name, score):\n",
    "        self.name = name\n",
    "        self.score = score\n",
    "\n",
    "    def print_score(self):\n",
    "        print('%s: %s' % (self.name, self.score))\n",
    "\n",
    "    def get_grade(self):\n",
    "        if self.score >= 90:\n",
    "            return 'A'\n",
    "        elif self.score >= 60:\n",
    "            return 'B'\n",
    "        else:\n",
    "            return 'C'\n",
    "\n",
    "bart = Student('Bart Simpson', 59)\n",
    "bart.get_grade()"
   ]
  },
  {
   "cell_type": "markdown",
   "id": "86df4820",
   "metadata": {},
   "source": [
    "也可以自由给实例绑定方法"
   ]
  },
  {
   "cell_type": "code",
   "execution_count": null,
   "id": "7081e24d",
   "metadata": {},
   "outputs": [
    {
     "name": "stdout",
     "output_type": "stream",
     "text": [
      "18\n",
      "18\n"
     ]
    }
   ],
   "source": [
    "class Student(object):\n",
    "    def __init__(self, name, score):\n",
    "        self.name = name\n",
    "        self.score = score\n",
    "\n",
    "def set_age(self, age):\n",
    "    self.age = age\n",
    "\n",
    "from types import MethodType\n",
    "stu = Student('Jack',66)\n",
    "\n",
    "#直接赋值函数，但不会自动绑定self，调用时需手动传参\n",
    "stu.set_age = set_age\n",
    "stu.set_age(stu,18)\n",
    "print(stu.age)\n",
    "\n",
    "#使用 types.MethodType，可以自动绑定self\n",
    "stu.set_age = MethodType(set_age, stu)\n",
    "stu.set_age(18)\n",
    "print(stu.age)"
   ]
  },
  {
   "cell_type": "markdown",
   "id": "50977cb5",
   "metadata": {},
   "source": [
    "但是，给一个实例绑定的方法，对另一个实例是不起作用的。\n",
    "\n",
    "为了给所有实例都绑定方法，可以给class绑定方法："
   ]
  },
  {
   "cell_type": "code",
   "execution_count": 12,
   "id": "0c66a6b1",
   "metadata": {},
   "outputs": [
    {
     "data": {
      "text/plain": [
       "19"
      ]
     },
     "execution_count": 12,
     "metadata": {},
     "output_type": "execute_result"
    }
   ],
   "source": [
    "class Student(object):\n",
    "    def __init__(self, name, score):\n",
    "        self.name = name\n",
    "        self.score = score\n",
    "\n",
    "def set_age(self, age):\n",
    "    self.age = age\n",
    "\n",
    "Student.set_age = set_age\n",
    "stu = Student('Frank',90)\n",
    "stu.set_age(19)\n",
    "stu.age"
   ]
  },
  {
   "cell_type": "markdown",
   "id": "b90d3ad5",
   "metadata": {},
   "source": [
    "### `__slots__` 变量"
   ]
  },
  {
   "cell_type": "markdown",
   "id": "250cdd4b",
   "metadata": {},
   "source": [
    "在定义实例的时候，使用__slots__变量可以限制该实例能添加的属性："
   ]
  },
  {
   "cell_type": "code",
   "execution_count": 13,
   "id": "edae034e",
   "metadata": {},
   "outputs": [
    {
     "ename": "AttributeError",
     "evalue": "'Student' object has no attribute 'score'",
     "output_type": "error",
     "traceback": [
      "\u001b[1;31m---------------------------------------------------------------------------\u001b[0m",
      "\u001b[1;31mAttributeError\u001b[0m                            Traceback (most recent call last)",
      "Cell \u001b[1;32mIn[13], line 7\u001b[0m\n\u001b[0;32m      5\u001b[0m s\u001b[38;5;241m.\u001b[39mname \u001b[38;5;241m=\u001b[39m \u001b[38;5;124m'\u001b[39m\u001b[38;5;124mMichael\u001b[39m\u001b[38;5;124m'\u001b[39m \u001b[38;5;66;03m# 绑定属性'name'\u001b[39;00m\n\u001b[0;32m      6\u001b[0m s\u001b[38;5;241m.\u001b[39mage \u001b[38;5;241m=\u001b[39m \u001b[38;5;241m25\u001b[39m \u001b[38;5;66;03m# 绑定属性'age'\u001b[39;00m\n\u001b[1;32m----> 7\u001b[0m \u001b[43ms\u001b[49m\u001b[38;5;241;43m.\u001b[39;49m\u001b[43mscore\u001b[49m \u001b[38;5;241m=\u001b[39m \u001b[38;5;241m99\u001b[39m \u001b[38;5;66;03m# 绑定属性'score'\u001b[39;00m\n",
      "\u001b[1;31mAttributeError\u001b[0m: 'Student' object has no attribute 'score'"
     ]
    }
   ],
   "source": [
    "class Student(object):\n",
    "    __slots__ = ('name', 'age') # 用tuple定义允许绑定的属性名称\n",
    "\n",
    "s = Student() # 创建新的实例\n",
    "s.name = 'Michael' # 绑定属性'name'\n",
    "s.age = 25 # 绑定属性'age'\n",
    "s.score = 99 # 绑定属性'score'"
   ]
  },
  {
   "cell_type": "markdown",
   "id": "3fa0d9bb",
   "metadata": {},
   "source": [
    "使用__slots__要注意，__slots__定义的属性仅对当前类实例起作用，对继承的子类是不起作用的。\n",
    "\n",
    "除非在子类中也定义__slots__，这样，子类实例允许定义的属性就是自身的__slots__加上父类的__slots__。"
   ]
  },
  {
   "cell_type": "markdown",
   "id": "6bde0c9b",
   "metadata": {},
   "source": [
    "### `@property`装饰器"
   ]
  },
  {
   "cell_type": "markdown",
   "id": "40cba5af",
   "metadata": {},
   "source": [
    "`@property`和`@<property_name>.setter`是用于管理类属性的装饰器，它们允许以方法的形式控制属性的访问和修改，同时保持类接口的简洁性（像直接访问属性一样调用）。\n",
    "\n",
    "`@property`可以用于计算和保护数据，`@<property_name>.setter`用于允许修改数据和赋值检验。"
   ]
  },
  {
   "cell_type": "code",
   "execution_count": 18,
   "id": "5b1539c6",
   "metadata": {},
   "outputs": [
    {
     "name": "stdout",
     "output_type": "stream",
     "text": [
      "Alice\n"
     ]
    },
    {
     "ename": "AttributeError",
     "evalue": "property 'name' of 'Person' object has no setter",
     "output_type": "error",
     "traceback": [
      "\u001b[1;31m---------------------------------------------------------------------------\u001b[0m",
      "\u001b[1;31mAttributeError\u001b[0m                            Traceback (most recent call last)",
      "Cell \u001b[1;32mIn[18], line 12\u001b[0m\n\u001b[0;32m     10\u001b[0m p \u001b[38;5;241m=\u001b[39m Person(\u001b[38;5;124m\"\u001b[39m\u001b[38;5;124mAlice\u001b[39m\u001b[38;5;124m\"\u001b[39m)\n\u001b[0;32m     11\u001b[0m \u001b[38;5;28mprint\u001b[39m(p\u001b[38;5;241m.\u001b[39mname)  \u001b[38;5;66;03m# 输出 \"Alice\"\u001b[39;00m\n\u001b[1;32m---> 12\u001b[0m \u001b[43mp\u001b[49m\u001b[38;5;241;43m.\u001b[39;49m\u001b[43mname\u001b[49m \u001b[38;5;241m=\u001b[39m \u001b[38;5;124m\"\u001b[39m\u001b[38;5;124mBob\u001b[39m\u001b[38;5;124m\"\u001b[39m  \u001b[38;5;66;03m# 报错: AttributeError: can't set attribute\u001b[39;00m\n",
      "\u001b[1;31mAttributeError\u001b[0m: property 'name' of 'Person' object has no setter"
     ]
    }
   ],
   "source": [
    "class Person:\n",
    "    def __init__(self, name):\n",
    "        self._name = name  # 用 _ 表示“受保护”变量\n",
    "\n",
    "    @property\n",
    "    def name(self):\n",
    "        \"\"\"只允许获取 name，不能直接修改\"\"\"\n",
    "        return self._name\n",
    "\n",
    "p = Person(\"Alice\")\n",
    "print(p.name)  # 输出 \"Alice\"\n",
    "p.name = \"Bob\"  # 报错: AttributeError: can't set attribute"
   ]
  },
  {
   "cell_type": "code",
   "execution_count": 19,
   "id": "686e03d7",
   "metadata": {},
   "outputs": [
    {
     "name": "stdout",
     "output_type": "stream",
     "text": [
      "Bob\n"
     ]
    },
    {
     "ename": "ValueError",
     "evalue": "Name must be a string!",
     "output_type": "error",
     "traceback": [
      "\u001b[1;31m---------------------------------------------------------------------------\u001b[0m",
      "\u001b[1;31mValueError\u001b[0m                                Traceback (most recent call last)",
      "Cell \u001b[1;32mIn[19], line 19\u001b[0m\n\u001b[0;32m     16\u001b[0m p\u001b[38;5;241m.\u001b[39mname \u001b[38;5;241m=\u001b[39m \u001b[38;5;124m\"\u001b[39m\u001b[38;5;124mBob\u001b[39m\u001b[38;5;124m\"\u001b[39m  \u001b[38;5;66;03m# 正常修改\u001b[39;00m\n\u001b[0;32m     17\u001b[0m \u001b[38;5;28mprint\u001b[39m(p\u001b[38;5;241m.\u001b[39mname)   \u001b[38;5;66;03m# 输出 \"Bob\"\u001b[39;00m\n\u001b[1;32m---> 19\u001b[0m \u001b[43mp\u001b[49m\u001b[38;5;241;43m.\u001b[39;49m\u001b[43mname\u001b[49m \u001b[38;5;241m=\u001b[39m \u001b[38;5;241m123\u001b[39m    \u001b[38;5;66;03m# 报错: ValueError: Name must be a string!\u001b[39;00m\n",
      "Cell \u001b[1;32mIn[19], line 12\u001b[0m, in \u001b[0;36mPerson.name\u001b[1;34m(self, value)\u001b[0m\n\u001b[0;32m      9\u001b[0m \u001b[38;5;129m@name\u001b[39m\u001b[38;5;241m.\u001b[39msetter\n\u001b[0;32m     10\u001b[0m \u001b[38;5;28;01mdef\u001b[39;00m \u001b[38;5;21mname\u001b[39m(\u001b[38;5;28mself\u001b[39m, value):\n\u001b[0;32m     11\u001b[0m     \u001b[38;5;28;01mif\u001b[39;00m \u001b[38;5;129;01mnot\u001b[39;00m \u001b[38;5;28misinstance\u001b[39m(value, \u001b[38;5;28mstr\u001b[39m):\n\u001b[1;32m---> 12\u001b[0m         \u001b[38;5;28;01mraise\u001b[39;00m \u001b[38;5;167;01mValueError\u001b[39;00m(\u001b[38;5;124m\"\u001b[39m\u001b[38;5;124mName must be a string!\u001b[39m\u001b[38;5;124m\"\u001b[39m)\n\u001b[0;32m     13\u001b[0m     \u001b[38;5;28mself\u001b[39m\u001b[38;5;241m.\u001b[39m_name \u001b[38;5;241m=\u001b[39m value\n",
      "\u001b[1;31mValueError\u001b[0m: Name must be a string!"
     ]
    }
   ],
   "source": [
    "class Person:\n",
    "    def __init__(self, name):\n",
    "        self._name = name\n",
    "\n",
    "    @property\n",
    "    def name(self):\n",
    "        return self._name\n",
    "\n",
    "    @name.setter\n",
    "    def name(self, value):\n",
    "        if not isinstance(value, str):\n",
    "            raise ValueError(\"Name must be a string!\")\n",
    "        self._name = value\n",
    "\n",
    "p = Person(\"Alice\")\n",
    "p.name = \"Bob\"  # 正常修改\n",
    "print(p.name)   # 输出 \"Bob\"\n",
    "\n",
    "p.name = 123    # 报错: ValueError: Name must be a string!"
   ]
  },
  {
   "cell_type": "markdown",
   "id": "33b9c748",
   "metadata": {},
   "source": [
    "### 练习\n",
    "\n",
    "请利用@property给一个Screen对象加上width和height属性，以及一个只读属性resolution："
   ]
  },
  {
   "cell_type": "code",
   "execution_count": 17,
   "id": "ffc6d596",
   "metadata": {},
   "outputs": [
    {
     "name": "stdout",
     "output_type": "stream",
     "text": [
      "resolution = 786432\n",
      "测试通过!\n"
     ]
    }
   ],
   "source": [
    "class Screen(object):\n",
    "    @property\n",
    "    def width(self):\n",
    "        return self._width\n",
    "    @property\n",
    "    def height(self):\n",
    "        return self._height\n",
    "    @property\n",
    "    def resolution(self):\n",
    "        return self._height*self._width\n",
    "\n",
    "    @width.setter\n",
    "    def width(self, value):\n",
    "        self._width = value\n",
    "    \n",
    "    @height.setter\n",
    "    def height(self, value):\n",
    "        self._height = value\n",
    "\n",
    "# 测试:\n",
    "s = Screen()\n",
    "s.width = 1024\n",
    "s.height = 768\n",
    "print('resolution =', s.resolution)\n",
    "if s.resolution == 786432:\n",
    "    print('测试通过!')\n",
    "else:\n",
    "    print('测试失败!')\n"
   ]
  },
  {
   "cell_type": "markdown",
   "id": "25d093ed",
   "metadata": {},
   "source": [
    "## 访问限制"
   ]
  },
  {
   "cell_type": "markdown",
   "id": "5e6db4c6",
   "metadata": {},
   "source": [
    "如果要让内部属性不被外部访问，可以把属性的名称前加上两个下划线__，在Python中，实例的变量名如果以__开头，就变成了一个私有变量（private），只有内部可以访问。改完后，无法从外部访问实例变量.__name和实例变量.__score了："
   ]
  },
  {
   "cell_type": "code",
   "execution_count": 11,
   "id": "497ad2b6",
   "metadata": {},
   "outputs": [
    {
     "ename": "AttributeError",
     "evalue": "'Student' object has no attribute '__name'",
     "output_type": "error",
     "traceback": [
      "\u001b[1;31m---------------------------------------------------------------------------\u001b[0m",
      "\u001b[1;31mAttributeError\u001b[0m                            Traceback (most recent call last)",
      "Cell \u001b[1;32mIn[11], line 10\u001b[0m\n\u001b[0;32m      7\u001b[0m         \u001b[38;5;28mprint\u001b[39m(\u001b[38;5;124m'\u001b[39m\u001b[38;5;132;01m%s\u001b[39;00m\u001b[38;5;124m: \u001b[39m\u001b[38;5;132;01m%s\u001b[39;00m\u001b[38;5;124m'\u001b[39m \u001b[38;5;241m%\u001b[39m (\u001b[38;5;28mself\u001b[39m\u001b[38;5;241m.\u001b[39m__name, \u001b[38;5;28mself\u001b[39m\u001b[38;5;241m.\u001b[39m__score))\n\u001b[0;32m      9\u001b[0m bart \u001b[38;5;241m=\u001b[39m Student(\u001b[38;5;124m'\u001b[39m\u001b[38;5;124mBart Simpson\u001b[39m\u001b[38;5;124m'\u001b[39m, \u001b[38;5;241m59\u001b[39m)\n\u001b[1;32m---> 10\u001b[0m \u001b[43mbart\u001b[49m\u001b[38;5;241;43m.\u001b[39;49m\u001b[43m__name\u001b[49m\n",
      "\u001b[1;31mAttributeError\u001b[0m: 'Student' object has no attribute '__name'"
     ]
    }
   ],
   "source": [
    "class Student(object):\n",
    "    def __init__(self, name, score):\n",
    "        self.__name = name\n",
    "        self.__score = score\n",
    "\n",
    "    def print_score(self):\n",
    "        print('%s: %s' % (self.__name, self.__score))\n",
    "\n",
    "bart = Student('Bart Simpson', 59)\n",
    "bart.__name"
   ]
  },
  {
   "cell_type": "markdown",
   "id": "e6c0c07a",
   "metadata": {},
   "source": [
    "如果要获取name和score，需要增加get_name和get_score这样的方法；如果要允许外部代码修改score，需要给Student类增加set_score方法，这样可以对传入的参数进行检查。"
   ]
  },
  {
   "cell_type": "code",
   "execution_count": 14,
   "id": "0f2512a7",
   "metadata": {},
   "outputs": [
    {
     "name": "stdout",
     "output_type": "stream",
     "text": [
      "Bart Simpson\n",
      "59\n",
      "99\n"
     ]
    }
   ],
   "source": [
    "class Student(object):\n",
    "    def __init__(self, name, score):\n",
    "        self.__name = name\n",
    "        self.__score = score\n",
    "\n",
    "    def print_score(self):\n",
    "        print('%s: %s' % (self.__name, self.__score))\n",
    "\n",
    "    def get_name(self):\n",
    "        return self.__name\n",
    "\n",
    "    def get_score(self):\n",
    "        return self.__score\n",
    "    \n",
    "    def set_score(self, score):\n",
    "        if 0 <= score <= 100:\n",
    "            self.__score = score\n",
    "        else:\n",
    "            raise ValueError('bad score')\n",
    "\n",
    "bart = Student('Bart Simpson', 59)\n",
    "print(bart.get_name())\n",
    "print(bart.get_score())\n",
    "bart.set_score(99)\n",
    "print(bart.get_score())"
   ]
  },
  {
   "cell_type": "markdown",
   "id": "323e7bc0",
   "metadata": {},
   "source": [
    "### 练习  \n",
    "请把下面的Student对象的gender字段对外隐藏起来，用get_gender()和set_gender()代替，并检查参数有效性："
   ]
  },
  {
   "cell_type": "code",
   "execution_count": 3,
   "id": "2ededd81",
   "metadata": {},
   "outputs": [
    {
     "name": "stdout",
     "output_type": "stream",
     "text": [
      "测试成功!\n"
     ]
    }
   ],
   "source": [
    "class Student(object):\n",
    "    def __init__(self, name, gender):\n",
    "        self.__name = name\n",
    "        self.__gender = gender\n",
    "    \n",
    "    def get_gender(self):\n",
    "        return self.__gender\n",
    "    \n",
    "    def set_gender(self, gender):\n",
    "        self.__gender = gender\n",
    "\n",
    "# 测试:\n",
    "bart = Student('Bart', 'male')\n",
    "if bart.get_gender() != 'male':\n",
    "    print('测试失败!')\n",
    "else:\n",
    "    bart.set_gender('female')\n",
    "    if bart.get_gender() != 'female':\n",
    "        print('测试失败!')\n",
    "    else:\n",
    "        print('测试成功!')"
   ]
  },
  {
   "cell_type": "markdown",
   "id": "60bd0adf",
   "metadata": {},
   "source": [
    "## 继承和多态"
   ]
  },
  {
   "cell_type": "markdown",
   "id": "5f7a6934",
   "metadata": {},
   "source": [
    "当我们定义一个class的时候，可以从某个现有的class继承，新的class称为子类（Subclass），而被继承的class称为父类（Base class）。\n",
    "\n",
    "比如，我们已经编写了一个名为Animal的class，有一个run()方法可以直接打印。当我们需要编写Dog和Cat类时，就可以直接从Animal类继承所有的方法。\n",
    "\n",
    "当然，也可以对子类增加一些方法，比如给Car类增加自己的run方法。当子类和父类都存在相同的run()方法时，子类的run()覆盖了父类的run()，在代码运行的时候，总是会调用子类的run()。\n",
    "\n",
    "在继承关系中，如果一个实例的数据类型是某个子类，那它的数据类型也可以被看做是父类。所以对于一个变量，我们只需要知道它是Animal类型，无需确切地知道它的子类型，就可以放心地调用run()方法，而具体调用的run()方法是作用在Animal、Dog、Cat还是Tortoise对象上，由运行时该对象的确切类型决定。而当我们新增一种Animal的子类时，只要确保run()方法编写正确，不用管原来的代码是如何调用的。这就是著名的“开闭”原则：\n",
    "\n",
    "对扩展开放：允许新增Animal子类；\n",
    "\n",
    "对修改封闭：不需要修改依赖Animal类型的run_twice()等函数。\n",
    "\n",
    "继承还可以一级一级地继承下来，就好比从爷爷到爸爸、再到儿子这样的关系。而任何类，最终都可以追溯到根类object。\n",
    "\n",
    "静态语言 vs 动态语言：\n",
    "\n",
    "对于静态语言（例如Java）来说，如果需要传入Animal类型，则传入的对象必须是Animal类型或者它的子类，否则，将无法调用run()方法。\n",
    "\n",
    "对于Python这样的动态语言来说，则不一定需要传入Animal类型。我们只需要保证传入的对象有一个run()方法就可以了。\n",
    "\n",
    "这就是动态语言的“鸭子类型”，它并不要求严格的继承体系，一个对象只要“看起来像鸭子，走起路来像鸭子”，那它就可以被看做是鸭子。"
   ]
  },
  {
   "cell_type": "code",
   "execution_count": null,
   "id": "1e02aca2",
   "metadata": {},
   "outputs": [
    {
     "name": "stdout",
     "output_type": "stream",
     "text": [
      "Animal is running...\n",
      "Animal is running...\n",
      "Animal is running...\n",
      "Animal is running...\n",
      "Cat is running...\n",
      "Cat is running...\n",
      "Car is running...\n",
      "Car is running...\n"
     ]
    },
    {
     "ename": "AttributeError",
     "evalue": "'Stone' object has no attribute 'run'",
     "output_type": "error",
     "traceback": [
      "\u001b[1;31m---------------------------------------------------------------------------\u001b[0m",
      "\u001b[1;31mAttributeError\u001b[0m                            Traceback (most recent call last)",
      "Cell \u001b[1;32mIn[5], line 28\u001b[0m\n\u001b[0;32m     26\u001b[0m run_twice(Cat())\n\u001b[0;32m     27\u001b[0m run_twice(Car())\n\u001b[1;32m---> 28\u001b[0m \u001b[43mrun_twice\u001b[49m\u001b[43m(\u001b[49m\u001b[43mStone\u001b[49m\u001b[43m(\u001b[49m\u001b[43m)\u001b[49m\u001b[43m)\u001b[49m\n",
      "Cell \u001b[1;32mIn[5], line 21\u001b[0m, in \u001b[0;36mrun_twice\u001b[1;34m(Animal)\u001b[0m\n\u001b[0;32m     20\u001b[0m \u001b[38;5;28;01mdef\u001b[39;00m \u001b[38;5;21mrun_twice\u001b[39m(Animal):\n\u001b[1;32m---> 21\u001b[0m     \u001b[43mAnimal\u001b[49m\u001b[38;5;241;43m.\u001b[39;49m\u001b[43mrun\u001b[49m()\n\u001b[0;32m     22\u001b[0m     Animal\u001b[38;5;241m.\u001b[39mrun()\n",
      "\u001b[1;31mAttributeError\u001b[0m: 'Stone' object has no attribute 'run'"
     ]
    }
   ],
   "source": [
    "class Animal(object):   #编写Animal类\n",
    "    def run(self):\n",
    "        print(\"Animal is running...\")\n",
    "\n",
    "class Dog(Animal):  #Dog类继承Amimal类，没有run方法，继承Animal类的run方法\n",
    "    pass\n",
    "\n",
    "class Cat(Animal):  #Cat类继承Animal类，有自己的run方法\n",
    "    def run(self):\n",
    "        print('Cat is running...')\n",
    "    pass\n",
    "\n",
    "class Car(object):  #Car类为object类型，有自己的run方法，可以传入\n",
    "    def run(self):\n",
    "        print('Car is running...')\n",
    "\n",
    "class Stone(object):  #Stone类不继承，也没有run方法，不可以传入\n",
    "    pass\n",
    "\n",
    "def run_twice(animal):  #只要对象有run方法都可运行，无论对象名是什么\n",
    "    animal.run()\n",
    "    animal.run()\n",
    "\n",
    "run_twice(Animal())\n",
    "run_twice(Dog())\n",
    "run_twice(Cat())\n",
    "run_twice(Car())\n",
    "run_twice(Stone())"
   ]
  },
  {
   "cell_type": "markdown",
   "id": "a0752c55",
   "metadata": {},
   "source": [
    "### 多重继承"
   ]
  },
  {
   "cell_type": "markdown",
   "id": "ff11c9f2",
   "metadata": {},
   "source": [
    "通过多重继承，一个子类就可以同时获得多个父类的所有功能。\n",
    "\n",
    "在设计类的继承关系时，如果需要“混入”额外的功能，通过多重继承就可以实现，比如，让Ostrich除了继承自Bird外，再同时继承Runnable。这种设计通常称之为MixIn。\n",
    "\n",
    "MixIn的目的就是给一个类增加多个功能，这样，在设计类的时候，我们优先考虑通过多重继承来组合多个MixIn的功能，而不是设计多层次的复杂的继承关系。"
   ]
  },
  {
   "cell_type": "markdown",
   "id": "1dab00ac",
   "metadata": {},
   "source": [
    "    class Dog(Mammal, RunnableMixIn, CarnivorousMixIn):\n",
    "        pass"
   ]
  },
  {
   "cell_type": "markdown",
   "id": "253efaa9",
   "metadata": {},
   "source": [
    "## 获取对象信息"
   ]
  },
  {
   "cell_type": "code",
   "execution_count": 6,
   "id": "b3af983c",
   "metadata": {},
   "outputs": [
    {
     "name": "stdout",
     "output_type": "stream",
     "text": [
      "<class 'int'>\n",
      "<class 'str'>\n",
      "<class 'builtin_function_or_method'>\n",
      "True\n",
      "True\n",
      "True\n",
      "True\n",
      "True\n",
      "True\n",
      "True\n",
      "True\n",
      "True\n",
      "['__add__', '__class__', '__contains__', '__delattr__', '__dir__', '__doc__', '__eq__', '__format__', '__ge__', '__getattribute__', '__getitem__', '__getnewargs__', '__getstate__', '__gt__', '__hash__', '__init__', '__init_subclass__', '__iter__', '__le__', '__len__', '__lt__', '__mod__', '__mul__', '__ne__', '__new__', '__reduce__', '__reduce_ex__', '__repr__', '__rmod__', '__rmul__', '__setattr__', '__sizeof__', '__str__', '__subclasshook__', 'capitalize', 'casefold', 'center', 'count', 'encode', 'endswith', 'expandtabs', 'find', 'format', 'format_map', 'index', 'isalnum', 'isalpha', 'isascii', 'isdecimal', 'isdigit', 'isidentifier', 'islower', 'isnumeric', 'isprintable', 'isspace', 'istitle', 'isupper', 'join', 'ljust', 'lower', 'lstrip', 'maketrans', 'partition', 'removeprefix', 'removesuffix', 'replace', 'rfind', 'rindex', 'rjust', 'rpartition', 'rsplit', 'rstrip', 'split', 'splitlines', 'startswith', 'strip', 'swapcase', 'title', 'translate', 'upper', 'zfill']\n",
      "True\n",
      "9\n",
      "19\n",
      "404\n",
      "81\n"
     ]
    }
   ],
   "source": [
    "import types\n",
    "#获取类型\n",
    "print(type(123))\n",
    "print(type('123'))\n",
    "print(type(abs))\n",
    "#判断类型\n",
    "print(type(123)==int)\n",
    "print(type(abs)==types.BuiltinFunctionType)\n",
    "print(type(lambda x: x)==types.LambdaType)\n",
    "print(type((x for x in range(10)))==types.GeneratorType)\n",
    "\n",
    "print(isinstance('a', str))\n",
    "print(isinstance(123, int))\n",
    "print(isinstance([1, 2, 3], (list, tuple))) #判断是否为其中的一种\n",
    "class Animal(object):\n",
    "    pass\n",
    "class Cat(Animal):\n",
    "    pass\n",
    "class Kitty(Cat):\n",
    "    pass\n",
    "animal = Animal()\n",
    "cat = Cat()\n",
    "kitty = Kitty()\n",
    "print(isinstance(kitty, Animal))\n",
    "print(isinstance(kitty, Cat))\n",
    "#获取属性和方法\n",
    "print(dir('ABC'))\n",
    "#判断、获取、设置属性和方法\n",
    "class MyObject(object):\n",
    "    def __init__(self):\n",
    "        self.x = 9\n",
    "    def power(self):\n",
    "        return self.x * self.x\n",
    "obj = MyObject()\n",
    "print(hasattr(obj,'x'))\n",
    "print(getattr(obj,'x'))\n",
    "setattr(obj,'y',19)\n",
    "print(getattr(obj,'y'))\n",
    "print(getattr(obj,'z',404)) #可以传入一个default参数，如果属性不存在，就返回默认值\n",
    "fn = getattr(obj, 'power') # 获取方法'power'并赋值到变量fn\n",
    "print(fn()) #等于obj.power()\n"
   ]
  },
  {
   "cell_type": "markdown",
   "id": "1cb5ebb8",
   "metadata": {},
   "source": [
    "# 错误、调试和测试"
   ]
  },
  {
   "cell_type": "markdown",
   "id": "d2f6b00f",
   "metadata": {},
   "source": [
    "## 错误处理"
   ]
  },
  {
   "cell_type": "markdown",
   "id": "95e2711d",
   "metadata": {},
   "source": [
    "finally 语句无论是否发生异常都将执行。当没有错误发生时，会自动执行else语句。"
   ]
  },
  {
   "cell_type": "code",
   "execution_count": 7,
   "id": "ae42afb3",
   "metadata": {},
   "outputs": [
    {
     "name": "stdout",
     "output_type": "stream",
     "text": [
      "try...\n",
      "ValueError: invalid literal for int() with base 10: '0.0'\n",
      "finally...\n",
      "END\n"
     ]
    }
   ],
   "source": [
    "try:\n",
    "    print('try...')\n",
    "    r = 10 / int('0.0')\n",
    "    print('result:', r)\n",
    "except ValueError as e:\n",
    "    print('ValueError:', e)\n",
    "except ZeroDivisionError as e:\n",
    "    print('ZeroDivisionError:', e)\n",
    "else:\n",
    "    print('no error!')\n",
    "finally:\n",
    "    print('finally...')\n",
    "print('END')"
   ]
  },
  {
   "cell_type": "markdown",
   "id": "103c8287",
   "metadata": {},
   "source": [
    "Python的错误其实也是class，所有的错误类型都继承自BaseException，所以在使用except时需要注意的是，它不但捕获该类型的错误，还把其子类也“一网打尽”。\n",
    "\n",
    "Python所有的错误都是从BaseException类派生的，常见的错误类型和继承关系看这里：\n",
    "\n",
    "https://docs.python.org/3/library/exceptions.html#exception-hierarchy"
   ]
  },
  {
   "cell_type": "code",
   "execution_count": 8,
   "id": "1c816459",
   "metadata": {},
   "outputs": [
    {
     "name": "stdout",
     "output_type": "stream",
     "text": [
      "ValueError\n"
     ]
    }
   ],
   "source": [
    "try:\n",
    "    int('1.1')\n",
    "except ValueError as e:\n",
    "    print('ValueError')\n",
    "except UnicodeError as e:\n",
    "    print('UnicodeError')\n"
   ]
  },
  {
   "cell_type": "markdown",
   "id": "72770b4b",
   "metadata": {},
   "source": [
    "第二个except永远也捕获不到UnicodeError，因为UnicodeError是ValueError的子类，如果有，也被第一个except给捕获了。\n",
    "\n",
    "Python内置的logging模块可以非常容易地记录错误信息："
   ]
  },
  {
   "cell_type": "code",
   "execution_count": 13,
   "id": "1008d939",
   "metadata": {},
   "outputs": [
    {
     "name": "stderr",
     "output_type": "stream",
     "text": [
      "ERROR:root:division by zero\n",
      "Traceback (most recent call last):\n",
      "  File \"C:\\Users\\31653\\AppData\\Local\\Temp\\ipykernel_3756\\1371240815.py\", line 11, in main\n",
      "    bar('0')\n",
      "  File \"C:\\Users\\31653\\AppData\\Local\\Temp\\ipykernel_3756\\1371240815.py\", line 7, in bar\n",
      "    return foo(s) * 2\n",
      "           ^^^^^^\n",
      "  File \"C:\\Users\\31653\\AppData\\Local\\Temp\\ipykernel_3756\\1371240815.py\", line 4, in foo\n",
      "    return 10 / int(s)\n",
      "           ~~~^~~~~~~~\n",
      "ZeroDivisionError: division by zero\n"
     ]
    },
    {
     "name": "stdout",
     "output_type": "stream",
     "text": [
      "END\n"
     ]
    }
   ],
   "source": [
    "import logging\n",
    "\n",
    "def foo(s):\n",
    "    return 10 / int(s)\n",
    "\n",
    "def bar(s):\n",
    "    return foo(s) * 2\n",
    "\n",
    "def main():\n",
    "    try:\n",
    "        bar('0')\n",
    "    except Exception as e:\n",
    "        logging.exception(e)\n",
    "\n",
    "main()\n",
    "print('END')"
   ]
  },
  {
   "cell_type": "markdown",
   "id": "f5f90200",
   "metadata": {},
   "source": [
    "同样是出错，但程序打印完错误信息后会继续执行，并正常退出：\n",
    "\n",
    "Python的内置函数会抛出很多类型的错误，我们自己编写的函数也可以抛出错误。\n",
    "\n",
    "如果要抛出错误，首先根据需要，可以定义一个错误的class，选择好继承关系，然后，用raise语句抛出一个错误的实例："
   ]
  },
  {
   "cell_type": "code",
   "execution_count": 16,
   "id": "1d272066",
   "metadata": {},
   "outputs": [
    {
     "ename": "FooError",
     "evalue": "invalid value: 0",
     "output_type": "error",
     "traceback": [
      "\u001b[1;31m---------------------------------------------------------------------------\u001b[0m",
      "\u001b[1;31mFooError\u001b[0m                                  Traceback (most recent call last)",
      "Cell \u001b[1;32mIn[16], line 10\u001b[0m\n\u001b[0;32m      7\u001b[0m         \u001b[38;5;28;01mraise\u001b[39;00m FooError(\u001b[38;5;124m'\u001b[39m\u001b[38;5;124minvalid value: \u001b[39m\u001b[38;5;132;01m%s\u001b[39;00m\u001b[38;5;124m'\u001b[39m \u001b[38;5;241m%\u001b[39m s)\n\u001b[0;32m      8\u001b[0m     \u001b[38;5;28;01mreturn\u001b[39;00m \u001b[38;5;241m10\u001b[39m \u001b[38;5;241m/\u001b[39m n\n\u001b[1;32m---> 10\u001b[0m \u001b[43mfoo\u001b[49m\u001b[43m(\u001b[49m\u001b[38;5;124;43m'\u001b[39;49m\u001b[38;5;124;43m0\u001b[39;49m\u001b[38;5;124;43m'\u001b[39;49m\u001b[43m)\u001b[49m\n",
      "Cell \u001b[1;32mIn[16], line 7\u001b[0m, in \u001b[0;36mfoo\u001b[1;34m(s)\u001b[0m\n\u001b[0;32m      5\u001b[0m n \u001b[38;5;241m=\u001b[39m \u001b[38;5;28mint\u001b[39m(s)\n\u001b[0;32m      6\u001b[0m \u001b[38;5;28;01mif\u001b[39;00m n\u001b[38;5;241m==\u001b[39m\u001b[38;5;241m0\u001b[39m:\n\u001b[1;32m----> 7\u001b[0m     \u001b[38;5;28;01mraise\u001b[39;00m FooError(\u001b[38;5;124m'\u001b[39m\u001b[38;5;124minvalid value: \u001b[39m\u001b[38;5;132;01m%s\u001b[39;00m\u001b[38;5;124m'\u001b[39m \u001b[38;5;241m%\u001b[39m s)\n\u001b[0;32m      8\u001b[0m \u001b[38;5;28;01mreturn\u001b[39;00m \u001b[38;5;241m10\u001b[39m \u001b[38;5;241m/\u001b[39m n\n",
      "\u001b[1;31mFooError\u001b[0m: invalid value: 0"
     ]
    }
   ],
   "source": [
    "class FooError(ValueError):\n",
    "    pass\n",
    "\n",
    "def foo(s):\n",
    "    n = int(s)\n",
    "    if n==0:\n",
    "        raise FooError('invalid value: %s' % s)\n",
    "    return 10 / n\n",
    "\n",
    "foo('0')"
   ]
  },
  {
   "cell_type": "markdown",
   "id": "cce37006",
   "metadata": {},
   "source": [
    "只有在必要的时候才定义我们自己的错误类型。如果可以选择Python已有的内置的错误类型。\n",
    "\n",
    "raise语句如果不带参数，就会把当前错误原样抛出。此外，在except中raise一个Error，还可以把一种类型的错误转化成另一种类型："
   ]
  },
  {
   "cell_type": "code",
   "execution_count": null,
   "id": "2fe3162a",
   "metadata": {},
   "outputs": [],
   "source": [
    "try:\n",
    "    10 / 0\n",
    "except ZeroDivisionError:\n",
    "    raise ValueError('input error!')"
   ]
  },
  {
   "cell_type": "markdown",
   "id": "6bb6bab5",
   "metadata": {},
   "source": [
    "练习\n",
    "\n",
    "运行下面的代码，根据异常信息进行分析，定位出错误源头，并修复："
   ]
  },
  {
   "cell_type": "code",
   "execution_count": 2,
   "id": "df2cf843",
   "metadata": {},
   "outputs": [
    {
     "name": "stdout",
     "output_type": "stream",
     "text": [
      "100 + 200 + 345 = 645.0\n",
      "99 + 88 + 7.6 = 194.6\n"
     ]
    }
   ],
   "source": [
    "from functools import reduce\n",
    "\n",
    "def str2num(s):\n",
    "    return float(s)\n",
    "\n",
    "def calc(exp):\n",
    "    ss = exp.split('+')\n",
    "    ns = map(str2num, ss)\n",
    "    return reduce(lambda acc, x: acc + x, ns)\n",
    "\n",
    "def main():\n",
    "    r = calc('100 + 200 + 345')\n",
    "    print('100 + 200 + 345 =', r)\n",
    "    r = calc('99 + 88 + 7.6')\n",
    "    print('99 + 88 + 7.6 =', r)\n",
    "\n",
    "main()"
   ]
  },
  {
   "cell_type": "markdown",
   "id": "bb9b9b7c",
   "metadata": {},
   "source": [
    "## 调试"
   ]
  },
  {
   "cell_type": "markdown",
   "id": "322c338b",
   "metadata": {},
   "source": [
    "### print()"
   ]
  },
  {
   "cell_type": "markdown",
   "id": "4275d4d4",
   "metadata": {},
   "source": [
    "### assert语句"
   ]
  },
  {
   "cell_type": "markdown",
   "id": "e72e292e",
   "metadata": {},
   "source": [
    "### logging模块"
   ]
  },
  {
   "cell_type": "markdown",
   "id": "e5dfb26b",
   "metadata": {},
   "source": [
    "### pdb"
   ]
  },
  {
   "cell_type": "markdown",
   "id": "102aecd5",
   "metadata": {},
   "source": [
    "## 测试"
   ]
  },
  {
   "cell_type": "markdown",
   "id": "fae3b8ad",
   "metadata": {},
   "source": [
    "# IO"
   ]
  },
  {
   "cell_type": "markdown",
   "id": "bb3c1dc1",
   "metadata": {},
   "source": [
    "## 内存读写"
   ]
  },
  {
   "cell_type": "markdown",
   "id": "65916a9b",
   "metadata": {},
   "source": [
    "StringIO：在内存中读写字符串"
   ]
  },
  {
   "cell_type": "code",
   "execution_count": 24,
   "id": "dfe611ce",
   "metadata": {},
   "outputs": [
    {
     "name": "stdout",
     "output_type": "stream",
     "text": [
      "hello world!\n",
      "hello world!\n"
     ]
    }
   ],
   "source": [
    "from io import StringIO\n",
    "f = StringIO()\n",
    "f.write('hello')\n",
    "f.write(' ')\n",
    "f.write('world!')\n",
    "print(f.getvalue())\n",
    "f.seek(0)\n",
    "s = f.read()\n",
    "print(s)"
   ]
  },
  {
   "cell_type": "markdown",
   "id": "f5130fd4",
   "metadata": {},
   "source": [
    "BytesIO：在内存中读写二进制数据"
   ]
  },
  {
   "cell_type": "code",
   "execution_count": 26,
   "id": "892d0eae",
   "metadata": {},
   "outputs": [
    {
     "name": "stdout",
     "output_type": "stream",
     "text": [
      "b'\\xe4\\xb8\\xad\\xe6\\x96\\x87'\n",
      "b'\\xe4\\xb8\\xad\\xe6\\x96\\x87'\n"
     ]
    }
   ],
   "source": [
    "from io import BytesIO\n",
    "f = BytesIO()\n",
    "f.write('中文'.encode('utf-8'))\n",
    "print(f.getvalue())\n",
    "f.seek(0)\n",
    "s = f.read()\n",
    "print(s)"
   ]
  },
  {
   "cell_type": "markdown",
   "id": "30980903",
   "metadata": {},
   "source": [
    "## 操作文件和目录"
   ]
  },
  {
   "cell_type": "markdown",
   "id": "a111be78",
   "metadata": {},
   "source": [
    "### os模块"
   ]
  },
  {
   "cell_type": "code",
   "execution_count": null,
   "id": "81f62003",
   "metadata": {},
   "outputs": [
    {
     "name": "stdout",
     "output_type": "stream",
     "text": [
      "nt\n",
      "environ({'ALLUSERSPROFILE': 'C:\\\\ProgramData', 'APPDATA': 'C:\\\\Users\\\\31653\\\\AppData\\\\Roaming', 'APPLICATION_INSIGHTS_NO_STATSBEAT': 'true', 'CHROME_CRASHPAD_PIPE_NAME': '\\\\\\\\.\\\\pipe\\\\crashpad_15344_JPPVHCDCOWIDDCZP', 'COMMONPROGRAMFILES': 'C:\\\\Program Files\\\\Common Files', 'COMMONPROGRAMFILES(X86)': 'C:\\\\Program Files (x86)\\\\Common Files', 'COMMONPROGRAMW6432': 'C:\\\\Program Files\\\\Common Files', 'COMPUTERNAME': 'FRANK', 'COMSPEC': 'C:\\\\Windows\\\\system32\\\\cmd.exe', 'CONDA_DEFAULT_ENV': 'base', 'CONDA_EXE': 'C:\\\\Users\\\\31653\\\\miniconda3\\\\Scripts\\\\conda.exe', 'CONDA_PREFIX': 'C:\\\\Users\\\\31653\\\\miniconda3', 'CONDA_PROMPT_MODIFIER': '(base) ', 'CONDA_PYTHON_EXE': 'C:\\\\Users\\\\31653\\\\miniconda3\\\\python.exe', 'CONDA_ROOT': 'C:\\\\Users\\\\31653\\\\miniconda3', 'CONDA_SHLVL': '1', 'DRIVERDATA': 'C:\\\\Windows\\\\System32\\\\Drivers\\\\DriverData', 'EFC_8872': '1', 'ELECTRON_RUN_AS_NODE': '1', 'FPS_BROWSER_APP_PROFILE_STRING': 'Internet Explorer', 'FPS_BROWSER_USER_PROFILE_STRING': 'Default', 'HOMEDRIVE': 'C:', 'HOMEPATH': '\\\\Users\\\\31653', 'JPY_INTERRUPT_EVENT': '1956', 'LOCALAPPDATA': 'C:\\\\Users\\\\31653\\\\AppData\\\\Local', 'LOGONSERVER': '\\\\\\\\FRANK', 'NUMBER_OF_PROCESSORS': '16', 'ONEDRIVE': 'C:\\\\Users\\\\31653\\\\OneDrive', 'ORIGINAL_XDG_CURRENT_DESKTOP': 'undefined', 'OS': 'Windows_NT', 'PATH': 'c:\\\\Users\\\\31653\\\\miniconda3;C:\\\\Users\\\\31653\\\\miniconda3;C:\\\\Users\\\\31653\\\\miniconda3\\\\Library\\\\mingw-w64\\\\bin;C:\\\\Users\\\\31653\\\\miniconda3\\\\Library\\\\usr\\\\bin;C:\\\\Users\\\\31653\\\\miniconda3\\\\Library\\\\bin;C:\\\\Users\\\\31653\\\\miniconda3\\\\Scripts;C:\\\\Users\\\\31653\\\\miniconda3\\\\bin;C:\\\\Users\\\\31653\\\\miniconda3\\\\condabin;C:\\\\Windows\\\\system32;C:\\\\Windows;C:\\\\Windows\\\\System32\\\\Wbem;C:\\\\Windows\\\\System32\\\\WindowsPowerShell\\\\v1.0;C:\\\\Windows\\\\System32\\\\OpenSSH;C:\\\\Users\\\\31653\\\\miniconda3\\\\Scripts;C:\\\\Program Files\\\\Git\\\\cmd;C:\\\\Users\\\\31653\\\\AppData\\\\Local\\\\Microsoft\\\\WindowsApps;C:\\\\Users\\\\31653\\\\AppData\\\\Local\\\\Programs\\\\Microsoft VS Code\\\\bin;C:\\\\Users\\\\31653\\\\miniconda3\\\\Scripts;C:\\\\Program Files\\\\R\\\\R-4.5.1\\\\bin;C:\\\\miniconda\\\\Library\\\\bin;C:\\\\Program Files\\\\Git\\\\bin;.', 'PATHEXT': '.COM;.EXE;.BAT;.CMD;.VBS;.VBE;.JS;.JSE;.WSF;.WSH;.MSC', 'PROCESSOR_ARCHITECTURE': 'AMD64', 'PROCESSOR_IDENTIFIER': 'AMD64 Family 25 Model 68 Stepping 1, AuthenticAMD', 'PROCESSOR_LEVEL': '25', 'PROCESSOR_REVISION': '4401', 'PROGRAMDATA': 'C:\\\\ProgramData', 'PROGRAMFILES': 'C:\\\\Program Files', 'PROGRAMFILES(X86)': 'C:\\\\Program Files (x86)', 'PROGRAMW6432': 'C:\\\\Program Files', 'PROMPT': '(base) $P$G', 'PSMODULEPATH': 'C:\\\\Program Files\\\\WindowsPowerShell\\\\Modules;C:\\\\Windows\\\\system32\\\\WindowsPowerShell\\\\v1.0\\\\Modules', 'PUBLIC': 'C:\\\\Users\\\\Public', 'PYDEVD_IPYTHON_COMPATIBLE_DEBUGGING': '1', 'PYTHONIOENCODING': 'utf-8', 'PYTHONUNBUFFERED': '1', 'PYTHONUTF8': '1', 'PYTHON_FROZEN_MODULES': 'on', 'RTOOLS45_HOME': 'C:\\\\rtools45', 'R_HOME': 'C:\\\\Program Files\\\\R\\\\R-4.5.1', 'SESSIONNAME': 'Console', 'SSL_CERT_FILE': 'C:\\\\Users\\\\31653\\\\miniconda3\\\\Library\\\\ssl\\\\cacert.pem', 'SYSTEMDRIVE': 'C:', 'SYSTEMROOT': 'C:\\\\Windows', 'TEMP': 'C:\\\\Users\\\\31653\\\\AppData\\\\Local\\\\Temp', 'TMP': 'C:\\\\Users\\\\31653\\\\AppData\\\\Local\\\\Temp', 'USERDOMAIN': 'FRANK', 'USERDOMAIN_ROAMINGPROFILE': 'FRANK', 'USERNAME': '31653', 'USERPROFILE': 'C:\\\\Users\\\\31653', 'VSCODE_CODE_CACHE_PATH': 'C:\\\\Users\\\\31653\\\\AppData\\\\Roaming\\\\Code\\\\CachedData\\\\360a4e4fd251bfce169a4ddf857c7d25d1ad40da', 'VSCODE_CRASH_REPORTER_PROCESS_TYPE': 'extensionHost', 'VSCODE_CWD': 'C:\\\\Users\\\\31653\\\\AppData\\\\Local\\\\Programs\\\\Microsoft VS Code', 'VSCODE_ESM_ENTRYPOINT': 'vs/workbench/api/node/extensionHostProcess', 'VSCODE_HANDLES_UNCAUGHT_ERRORS': 'true', 'VSCODE_IPC_HOOK': '\\\\\\\\.\\\\pipe\\\\ce3269c9-1.103.1-main-sock', 'VSCODE_L10N_BUNDLE_LOCATION': 'file:///c%3A/Users/31653/.vscode/extensions/ms-ceintl.vscode-language-pack-zh-hans-1.103.2025081309/translations/extensions/vscode.json-language-features.i18n.json', 'VSCODE_NLS_CONFIG': '{\"userLocale\":\"zh-cn\",\"osLocale\":\"zh-cn\",\"resolvedLanguage\":\"zh-cn\",\"defaultMessagesFile\":\"C:\\\\\\\\Users\\\\\\\\31653\\\\\\\\AppData\\\\\\\\Local\\\\\\\\Programs\\\\\\\\Microsoft VS Code\\\\\\\\resources\\\\\\\\app\\\\\\\\out\\\\\\\\nls.messages.json\",\"languagePack\":{\"translationsConfigFile\":\"C:\\\\\\\\Users\\\\\\\\31653\\\\\\\\AppData\\\\\\\\Roaming\\\\\\\\Code\\\\\\\\clp\\\\\\\\70c2bb9a85ce7fd296d22cd2550aebe6.zh-cn\\\\\\\\tcf.json\",\"messagesFile\":\"C:\\\\\\\\Users\\\\\\\\31653\\\\\\\\AppData\\\\\\\\Roaming\\\\\\\\Code\\\\\\\\clp\\\\\\\\70c2bb9a85ce7fd296d22cd2550aebe6.zh-cn\\\\\\\\360a4e4fd251bfce169a4ddf857c7d25d1ad40da\\\\\\\\nls.messages.json\",\"corruptMarkerFile\":\"C:\\\\\\\\Users\\\\\\\\31653\\\\\\\\AppData\\\\\\\\Roaming\\\\\\\\Code\\\\\\\\clp\\\\\\\\70c2bb9a85ce7fd296d22cd2550aebe6.zh-cn\\\\\\\\corrupted.info\"},\"locale\":\"zh-cn\",\"availableLanguages\":{\"*\":\"zh-cn\"},\"_languagePackId\":\"70c2bb9a85ce7fd296d22cd2550aebe6.zh-cn\",\"_languagePackSupport\":true,\"_translationsConfigFile\":\"C:\\\\\\\\Users\\\\\\\\31653\\\\\\\\AppData\\\\\\\\Roaming\\\\\\\\Code\\\\\\\\clp\\\\\\\\70c2bb9a85ce7fd296d22cd2550aebe6.zh-cn\\\\\\\\tcf.json\",\"_cacheRoot\":\"C:\\\\\\\\Users\\\\\\\\31653\\\\\\\\AppData\\\\\\\\Roaming\\\\\\\\Code\\\\\\\\clp\\\\\\\\70c2bb9a85ce7fd296d22cd2550aebe6.zh-cn\",\"_resolvedLanguagePackCoreLocation\":\"C:\\\\\\\\Users\\\\\\\\31653\\\\\\\\AppData\\\\\\\\Roaming\\\\\\\\Code\\\\\\\\clp\\\\\\\\70c2bb9a85ce7fd296d22cd2550aebe6.zh-cn\\\\\\\\360a4e4fd251bfce169a4ddf857c7d25d1ad40da\",\"_corruptedFile\":\"C:\\\\\\\\Users\\\\\\\\31653\\\\\\\\AppData\\\\\\\\Roaming\\\\\\\\Code\\\\\\\\clp\\\\\\\\70c2bb9a85ce7fd296d22cd2550aebe6.zh-cn\\\\\\\\corrupted.info\"}', 'VSCODE_PID': '15344', 'WINDIR': 'C:\\\\Windows', '_CONDA_OLD_CHCP': '936', '__CONDA_OPENSLL_CERT_FILE_SET': '\"1\"', 'PYDEVD_USE_FRAME_EVAL': 'NO', 'TERM': 'xterm-color', 'CLICOLOR': '1', 'FORCE_COLOR': '1', 'CLICOLOR_FORCE': '1', 'PAGER': 'cat', 'GIT_PAGER': 'cat', 'MPLBACKEND': 'module://matplotlib_inline.backend_inline'})\n",
      "c:\\Users\\31653\\miniconda3;C:\\Users\\31653\\miniconda3;C:\\Users\\31653\\miniconda3\\Library\\mingw-w64\\bin;C:\\Users\\31653\\miniconda3\\Library\\usr\\bin;C:\\Users\\31653\\miniconda3\\Library\\bin;C:\\Users\\31653\\miniconda3\\Scripts;C:\\Users\\31653\\miniconda3\\bin;C:\\Users\\31653\\miniconda3\\condabin;C:\\Windows\\system32;C:\\Windows;C:\\Windows\\System32\\Wbem;C:\\Windows\\System32\\WindowsPowerShell\\v1.0;C:\\Windows\\System32\\OpenSSH;C:\\Users\\31653\\miniconda3\\Scripts;C:\\Program Files\\Git\\cmd;C:\\Users\\31653\\AppData\\Local\\Microsoft\\WindowsApps;C:\\Users\\31653\\AppData\\Local\\Programs\\Microsoft VS Code\\bin;C:\\Users\\31653\\miniconda3\\Scripts;C:\\Program Files\\R\\R-4.5.1\\bin;C:\\miniconda\\Library\\bin;C:\\Program Files\\Git\\bin;.\n",
      "c:\\Users\\31653\\Documents\\pylearn\n",
      "['.git', '.gitignore', 'hello.py', 'LICENSE', 'Python.ipynb', 'README.md', '__pycache__']\n",
      "[('.', ['.git', '__pycache__'], ['.gitignore', 'hello.py', 'LICENSE', 'Python.ipynb', 'README.md']), ('.\\\\.git', ['hooks', 'info', 'logs', 'objects', 'refs'], ['COMMIT_EDITMSG', 'config', 'description', 'FETCH_HEAD', 'HEAD', 'index', 'ORIG_HEAD', 'packed-refs']), ('.\\\\.git\\\\hooks', [], ['applypatch-msg.sample', 'commit-msg.sample', 'fsmonitor-watchman.sample', 'post-update.sample', 'pre-applypatch.sample', 'pre-commit.sample', 'pre-merge-commit.sample', 'pre-push.sample', 'pre-rebase.sample', 'pre-receive.sample', 'prepare-commit-msg.sample', 'push-to-checkout.sample', 'sendemail-validate.sample', 'update.sample']), ('.\\\\.git\\\\info', [], ['exclude']), ('.\\\\.git\\\\logs', ['refs'], ['HEAD']), ('.\\\\.git\\\\logs\\\\refs', ['heads', 'remotes'], []), ('.\\\\.git\\\\logs\\\\refs\\\\heads', [], ['main']), ('.\\\\.git\\\\logs\\\\refs\\\\remotes', ['origin'], []), ('.\\\\.git\\\\logs\\\\refs\\\\remotes\\\\origin', [], ['HEAD', 'main']), ('.\\\\.git\\\\objects', ['0f', '1e', '24', '29', '33', '38', '43', '4d', '51', '71', '74', '82', '85', '9a', 'a4', 'a6', 'be', 'c7', 'ea', 'ec', 'f4', 'ff', 'info', 'pack'], []), ('.\\\\.git\\\\objects\\\\0f', [], ['b9607efc3fcb9dc766a06dc99a4d8ebd126601']), ('.\\\\.git\\\\objects\\\\1e', [], ['c5e7c2e8d94d93befce120cf71a92759980d7c']), ('.\\\\.git\\\\objects\\\\24', [], ['6785cf68b90fadc87c650c2757317dc8dd4978']), ('.\\\\.git\\\\objects\\\\29', [], ['d1a82e7d8bd18d1ab80a9b3de09b0059e1a964']), ('.\\\\.git\\\\objects\\\\33', [], ['9f052862181fb223cbdba6a3e28f911ee9ba92']), ('.\\\\.git\\\\objects\\\\38', [], ['d582c2788d6edd757b9424357937e7f17d1ce4']), ('.\\\\.git\\\\objects\\\\43', [], ['be4ed340e32f5455533c146e5de8199adec999']), ('.\\\\.git\\\\objects\\\\4d', [], ['efe7ba95bf0a292055f5247071519130ded758']), ('.\\\\.git\\\\objects\\\\51', [], ['af2718a4f70d1ab05f76a859c04944707e3581']), ('.\\\\.git\\\\objects\\\\71', [], ['9edde3720eb39e81639e5faabe91cea8a3a525']), ('.\\\\.git\\\\objects\\\\74', [], ['b2471023205f3de2ab0746c6196c603fa3c671']), ('.\\\\.git\\\\objects\\\\82', [], ['a5f21bfd7f05d79c1a5f643377ab7a6963b022']), ('.\\\\.git\\\\objects\\\\85', [], ['4d5d453e685ae038008fe26d5e502abfa2fe97']), ('.\\\\.git\\\\objects\\\\9a', [], ['d7d469c3a06c0a36fc2569304eaded32e659e4']), ('.\\\\.git\\\\objects\\\\a4', [], ['5efe96a636e2adb1282604f5edc67368f9b304']), ('.\\\\.git\\\\objects\\\\a6', [], ['4cfd05e19b14c8005f258cb6e4b5a9ffa550f0', 'b2226a6c80719b89dbf86865ca0ad1331b4ac2']), ('.\\\\.git\\\\objects\\\\be', [], ['a7774e1bc9f0db91bab6d91ac0a46126b693de']), ('.\\\\.git\\\\objects\\\\c7', [], ['f2deec07d714e3fc6d96086bde1e36a5a8028b']), ('.\\\\.git\\\\objects\\\\ea', [], ['abf71b9862e6a971dccbb51b1521367fe29bff']), ('.\\\\.git\\\\objects\\\\ec', [], ['f26a3078e3f5d4fb6b34250d4aa2401ff6100f']), ('.\\\\.git\\\\objects\\\\f4', [], ['b81fee9f3a7a7a79422bdbb91ca2f0f96a4506']), ('.\\\\.git\\\\objects\\\\ff', [], ['1d2ecd73d9a91f1c1e1031e836e30aa39de16b']), ('.\\\\.git\\\\objects\\\\info', [], []), ('.\\\\.git\\\\objects\\\\pack', [], ['pack-9dbc427c6c98e454f62ac980a59ab35d6421c043.idx', 'pack-9dbc427c6c98e454f62ac980a59ab35d6421c043.pack', 'pack-9dbc427c6c98e454f62ac980a59ab35d6421c043.rev']), ('.\\\\.git\\\\refs', ['heads', 'remotes', 'tags'], []), ('.\\\\.git\\\\refs\\\\heads', [], ['main']), ('.\\\\.git\\\\refs\\\\remotes', ['origin'], []), ('.\\\\.git\\\\refs\\\\remotes\\\\origin', [], ['HEAD', 'main']), ('.\\\\.git\\\\refs\\\\tags', [], []), ('.\\\\__pycache__', [], ['hello.cpython-312.pyc'])]\n"
     ]
    }
   ],
   "source": [
    "import os, time\n",
    "\n",
    "print(os.name) # 操作系统类型\n",
    "print(os.environ) #所有环境变量\n",
    "print(os.environ.get('PATH'))\n",
    "print(os.path.abspath('.')) #查看当前目录的绝对路径\n",
    "os.mkdir('./test') #在当前目录下创建一个子目录\n",
    "time.sleep(3)\n",
    "os.rmdir('./test') #删除新创建的目录\n",
    "os.rename('hello.py','hello.py')\n",
    "with open('test.txt','w'):\n",
    "    pass\n",
    "os.remove('test.txt')\n",
    "print(os.listdir())\n",
    "print(list(os.walk('.'))) \n",
    "#返回一个三元组(root, dirs, files)\n",
    "#root：当前目录的路径。dirs：当前路径下所有子目录的列表。files：当前路径下所有非目录子文件的列表。"
   ]
  },
  {
   "cell_type": "markdown",
   "id": "8510362f",
   "metadata": {},
   "source": [
    "### shutil模块"
   ]
  },
  {
   "cell_type": "code",
   "execution_count": 2,
   "id": "e5efe48f",
   "metadata": {},
   "outputs": [
    {
     "data": {
      "text/plain": [
       "'C:\\\\Users\\\\31653\\\\Documents\\\\py\\\\hello.py'"
      ]
     },
     "execution_count": 2,
     "metadata": {},
     "output_type": "execute_result"
    }
   ],
   "source": [
    "import shutil\n",
    "shutil.copy('hello.py',r'C:\\Users\\31653\\Documents\\py')"
   ]
  },
  {
   "cell_type": "markdown",
   "id": "8877334a",
   "metadata": {},
   "source": [
    "## 序列化"
   ]
  },
  {
   "cell_type": "markdown",
   "id": "e454aa57",
   "metadata": {},
   "source": [
    "我们把变量从内存中变成可存储或传输的过程称之为序列化，在Python中叫pickling。反过来，把变量内容从序列化的对象重新读到内存里称之为反序列化，即unpickling。"
   ]
  },
  {
   "cell_type": "markdown",
   "id": "7ebefe10",
   "metadata": {},
   "source": [
    "### JSON"
   ]
  },
  {
   "cell_type": "markdown",
   "id": "f9c1ee0c",
   "metadata": {},
   "source": [
    "| JSON类型   | Python类型 |\n",
    "|------------|------------|\n",
    "| {}         | dict       |\n",
    "| []         | list       |\n",
    "| \"string\"   | str        |\n",
    "| 1234.56    | int或float |\n",
    "| true/false | True/False |\n",
    "| null       | None       |"
   ]
  },
  {
   "cell_type": "code",
   "execution_count": 15,
   "id": "b18aa6bc",
   "metadata": {},
   "outputs": [
    {
     "name": "stdout",
     "output_type": "stream",
     "text": [
      "{'name': 'Bob', 'age': 20, 'score': 88}\n",
      "{\"name\": \"Bob\", \"age\": 20, \"score\": 88}\n",
      "{'name': 'Bob', 'age': 20, 'score': 88}\n",
      "{'name': 'Bob', 'age': 20, 'score': 88}\n",
      "{\"name\": \"\\u5c0f\\u660e\", \"age\": 20}\n",
      "{\"name\": \"小明\", \"age\": 20}\n"
     ]
    }
   ],
   "source": [
    "import json\n",
    "d = dict(name='Bob', age=20, score=88)\n",
    "print(d)\n",
    "j = json.dumps(d) #dumps()方法返回一个str，内容就是标准的JSON。\n",
    "print(j)\n",
    "s = json.loads(j) #load()把JSON的字符串反序列化。\n",
    "print(s)\n",
    "with open('test.js', 'w+') as js:\n",
    "    json.dump(d, js) #dump()方法可以直接把python对象以JOSN格式写入一个file-like Object。\n",
    "    js.seek(0)\n",
    "    print(json.load(js)) # load()方法从file-like Object中读取字符串并反序列化：\n",
    "obj = dict(name='小明', age=20)\n",
    "a = json.dumps(obj)\n",
    "b = json.dumps(obj, ensure_ascii=False)\n",
    "print(a)\n",
    "print(b)\n",
    "#对中文进行JSON序列化时，json.dumps()的ensure_ascii参数需要为False，否则会以Ascii码转换"
   ]
  },
  {
   "cell_type": "markdown",
   "id": "18b30b37",
   "metadata": {},
   "source": [
    "# 常用内建模块"
   ]
  },
  {
   "cell_type": "markdown",
   "id": "20897730",
   "metadata": {},
   "source": [
    "## hashlib"
   ]
  },
  {
   "cell_type": "markdown",
   "id": "7a867b88",
   "metadata": {},
   "source": [
    "哈希算法不是加密算法，不能用于加密（因为无法通过哈希反推明文），只能用于防篡改，但是它的单向计算特性决定了可以在不存储明文口令的情况下验证用户口令。"
   ]
  },
  {
   "cell_type": "markdown",
   "id": "87470642",
   "metadata": {},
   "source": [
    "MD5是最常见的哈希算法，速度很快，生成结果是固定的128 bit/16字节，通常用一个32位的16进制字符串表示。"
   ]
  },
  {
   "cell_type": "code",
   "execution_count": null,
   "id": "a543e74d",
   "metadata": {},
   "outputs": [
    {
     "name": "stdout",
     "output_type": "stream",
     "text": [
      "d26a53750bc40b38b65a520292f69306\n"
     ]
    }
   ],
   "source": [
    "import hashlib\n",
    "\n",
    "md5 = hashlib.md5()\n",
    "md5.update('how to use md5 in python hashlib?'.encode('utf-8'))\n",
    "print(md5.hexdigest())"
   ]
  },
  {
   "cell_type": "markdown",
   "id": "11601b73",
   "metadata": {},
   "source": [
    "另一种常见的哈希算法是SHA1，SHA1的结果是160 bit/20字节，通常用一个40位的16进制字符串表示。\n",
    "\n",
    "如果数据量很大，可以分块多次调用update()，最后计算的结果是一样的："
   ]
  },
  {
   "cell_type": "code",
   "execution_count": 17,
   "id": "79f6e871",
   "metadata": {},
   "outputs": [
    {
     "name": "stdout",
     "output_type": "stream",
     "text": [
      "2c76b57293ce30acef38d98f6046927161b46a44\n"
     ]
    }
   ],
   "source": [
    "import hashlib\n",
    "\n",
    "sha1 = hashlib.sha1()\n",
    "sha1.update('how to use sha1 in '.encode('utf-8'))\n",
    "sha1.update('python hashlib?'.encode('utf-8'))\n",
    "print(sha1.hexdigest())"
   ]
  },
  {
   "cell_type": "markdown",
   "id": "1b651ca2",
   "metadata": {},
   "source": [
    "比SHA1更安全的算法是SHA256和SHA512，不过越安全的算法不仅越慢，而且哈希长度更长。"
   ]
  },
  {
   "cell_type": "markdown",
   "id": "015a607f",
   "metadata": {},
   "source": [
    "## hmac"
   ]
  },
  {
   "cell_type": "markdown",
   "id": "8b84f664",
   "metadata": {},
   "source": [
    "Hmac算法：Keyed-Hashing for Message Authentication。它通过一个标准算法，在计算哈希的过程中，把key混入计算过程中。\n",
    "\n",
    "和我们自定义的加salt算法不同，Hmac算法针对所有哈希算法都通用，无论是MD5还是SHA-1。采用Hmac替代我们自己的salt算法，可以使程序算法更标准化，也更安全。"
   ]
  },
  {
   "cell_type": "code",
   "execution_count": 18,
   "id": "d1235b17",
   "metadata": {},
   "outputs": [
    {
     "data": {
      "text/plain": [
       "'fa4ee7d173f2d97ee79022d1a7355bcf'"
      ]
     },
     "execution_count": 18,
     "metadata": {},
     "output_type": "execute_result"
    }
   ],
   "source": [
    "import hmac\n",
    "message = b'Hello, world!'\n",
    "key = b'secret'\n",
    "h = hmac.new(key, message, digestmod='MD5')\n",
    "# 如果消息很长，可以多次调用h.update(msg)\n",
    "h.hexdigest()"
   ]
  },
  {
   "cell_type": "markdown",
   "id": "d48ffcc3",
   "metadata": {},
   "source": [
    "需要注意传入的key和message都是bytes类型，str类型需要首先编码为bytes。"
   ]
  },
  {
   "cell_type": "markdown",
   "id": "064b3c2e",
   "metadata": {},
   "source": [
    "## HTMLParser"
   ]
  },
  {
   "cell_type": "markdown",
   "id": "a9126af9",
   "metadata": {},
   "source": [
    "# 常用第三方模块"
   ]
  },
  {
   "cell_type": "markdown",
   "id": "db7b4e7d",
   "metadata": {},
   "source": [
    "## requests"
   ]
  },
  {
   "cell_type": "code",
   "execution_count": 6,
   "id": "5f817473",
   "metadata": {},
   "outputs": [
    {
     "name": "stdout",
     "output_type": "stream",
     "text": [
      "\n",
      "\n",
      "\n",
      "\n",
      "\n",
      "<!DOCTYPE HTML>\n",
      "<html lang=\"zh-cmn-Hans\" class=\"ua-windows ua-webkit\">\n",
      "<head>\n",
      "<meta charset=\"UTF-8\">\n",
      "<meta name=\"google-site-verification\" content=\"ok0wCgT20tBBgo9_zat2iAcimtN4Ftf5ccsh092Xeyw\" />\n",
      "<meta name=\"description\" content=\"提供图书、电影、音乐唱片的推荐、评论和价格比较，以及城市独特的文化生活。\">\n",
      "<meta name=\"keywords\" content=\"豆瓣,小组,电影,同城,豆品,广播,登录豆瓣\">\n",
      "<meta property=\"qc:admins\" content=\"2554215131764752166375\" />\n",
      "<meta property=\"wb:webmaster\" content=\"375d4a17a4fa24c2\" />\n",
      "<meta name=\"mobile-agent\" content=\"format=html5; url=https://m.douban.com\">\n",
      "<title>豆瓣</title>\n",
      "<link rel=\"stylesheet\" href=\"https://img1.doubanio.com/f/vendors/e8a7261937da62636d22ca4c579efc4a4d759b1b/css/ui/dialog.css\">\n",
      "<link rel=\"stylesheet\" href=\"https://img1.doubanio.com/f/vendors/3a8b90f5419888f58be10eaba23e024bb4caf9c3/css/core/_init_.css\">\n",
      "<link rel=\"stylesheet\" href=\"https://img1.doubanio.com/cuphead/sns-static/anony-home/css/index.fb1ed.css\">\n",
      "<!-- COLLECTED CSS -->\n",
      "\n",
      "<script type=\"text/javascript\" src=\"https://img1.doubanio.com/f/vendors/0511abe9863c2ea7084efa7e24d1d86c5b3974f1/js/jquery-1.10.2.min.js\"></script>\n",
      "<script src=\"https://img1.doubanio.com/f/vendors/b0d3faaf7a432605add54908e39e17746824d6cc/js/separation/_all.js\"></script>\n",
      "<script src=\"https://img1.doubanio.com/f/vendors/e258329ca4b2122b4efe53fddc418967441e0e7f/js/douban.js\"></script>\n",
      "<script src=\"https://img1.doubanio.com/f/vendors/084b39fa262eabe5828059b3e8072184589b6b89/js/core/_init_.js\"></script>\n",
      "<script src=\"\"></script>\n",
      "<script src=\"https://img1.doubanio.com/f/vendors/f25ae221544f39046484a823776f3aa01769ee10/js/ui/dialog.js\"></script>\n",
      "\n",
      "<script src=\"https://img1.doubanio.com/f/vendors/c714e1dc3cceb07b6e7c095e01fe136cf79726b1/js/sns/fp/base.js\"></script>\n",
      "<script src=\"https://img1.doubanio.com/f/vendors/6a6ebb88ef379a31fe198305b7cd75aafa3314f4/js/sns/fp/lazypic.js\"></script>\n",
      "<script src=\"https://img1.doubanio.com/f/vendors/8360a10d497f46c162c6c527954f580eedc4d4e0/js/sns/fp/inp_label.js\"></script>\n",
      "<script>\n",
      "  \n",
      "  Do('https://img1.doubanio.com/f/sns/28a10f2554b8b7deb45b54964e9eab7df7cd40a4/js/sns/doulist/doulist_item.js', function(){\n",
      "    $(function(){var i=$(\".doulist-item\");i.find(\".mod\").each(function(i,t){var n=$(this),a=n.parent(),o=a?a.attr(\"id\"):void 0;if(o){var c=new DoulistItem($(this),o);c.init()}});var t=location.hash;t&&$(t).find(\".btn-action-reply\").click()});\n",
      "  });\n",
      "  Do('https://img1.doubanio.com/f/sns/42edebac3163bc6286ec1d45f5eddddbcc56d1a3/js/sns/lib/shear.js', function(){\n",
      "    $('.doulist-subject-shuo .status-text').each(function(_, ele){\n",
      "      var result = shear(ele, 4, '<span class=\"status-text-expand\">...（<a href=\"javascript:;;\">展开</a>）</span>');\n",
      "      ele.setAttribute('data-full', result.fullHTML);\n",
      "      ele.setAttribute('data-cut', result.cutedWithAfterHTML);\n",
      "    });\n",
      "    $('body').delegate('.status-text-expand', 'click', function(){\n",
      "      var $target = $(this).closest('.status-text');\n",
      "      $target.html($target.attr('data-full') + '<span class=\"status-text-fold\">（<a href=\"javascript:;;\">收起</a>）</span>');\n",
      "    });\n",
      "    $('body').delegate('.status-text-fold', 'click', function(){\n",
      "      var $target = $(this).closest('.status-text');\n",
      "      $target.html($target.attr('data-cut'));\n",
      "    })\n",
      "  });\n",
      "\n",
      "</script>\n",
      "<script src=\"https://img1.doubanio.com/f/vendors/0be2f3b8c39486ca57872ce65ac23f50a11aca9f/js/lib/head.js\"></script>\n",
      "</head>\n",
      "\n",
      "<body class=''>\n",
      "\n",
      "\n",
      "<div>\n",
      "  <div id=\"anony-nav-banner\"\n",
      "    style=\"clear: both;overflow: hidden;background-color: #EDF4EC;margin-bottom: 30px;margin-top: -30px;\">\n",
      "    <h1 id=\"douban-logo\"\n",
      "      style=\"height: 20px;width: 102px;margin: 7px 13px;background-size: contain;\">\n",
      "      <a href=\"https://www.douban.com\"\n",
      "        style=\"height: 20px;\">豆瓣</a>\n",
      "    </h1>\n",
      "  </div>\n",
      "  <div id=\"anony-nav\">\n",
      "    <div class=\"anony-nav-links\">\n",
      "      <ul>\n",
      "        <li>\n",
      "          <a target=\"_blank\" class=\"lnk-book\" href=\"https://book.douban.com\">豆瓣读书</a>\n",
      "        </li>\n",
      "        <li>\n",
      "          <a target=\"_blank\" class=\"lnk-movie\" href=\"https://movie.douban.com\">豆瓣电影</a>\n",
      "        </li>\n",
      "        <li>\n",
      "          <a target=\"_blank\" class=\"lnk-music\" href=\"https://music.douban.com\">豆瓣音乐</a>\n",
      "        </li>\n",
      "        <li>\n",
      "          <a target=\"_blank\" class=\"lnk-events\" href=\"https://www.douban.com/location/\">豆瓣同城</a>\n",
      "        </li>\n",
      "        <li>\n",
      "          <a target=\"_blank\" class=\"lnk-group\" href=\"https://www.douban.com/group/\">豆瓣小组</a>\n",
      "        </li>\n",
      "        <li>\n",
      "          <a target=\"_blank\" class=\"lnk-read\" href=\"https://read.douban.com\">豆瓣阅读</a>\n",
      "        </li>\n",
      "        <li>\n",
      "          <a target=\"_blank\" class=\"lnk-fm\" href=\"https://fm.douban.com\">豆瓣FM</a>\n",
      "        </li>\n",
      "        <li>\n",
      "          <a target=\"_blank\" class=\"lnk-shijian\" href=\"https://time.douban.com/?dt_time_source=douban-web_anonymous_index_top_nav\">豆瓣时间</a>\n",
      "        </li>\n",
      "        <li>\n",
      "          <a target=\"_blank\" class=\"lnk-market\" href=\"https://market.douban.com?utm_campaign=anonymous_top_nav&utm_source=douban&utm_medium=pc_web\">豆瓣豆品</a>\n",
      "        </li>\n",
      "      </ul>\n",
      "    </div>\n",
      "\n",
      "    <div class=\"site-name\" title=\"豆瓣网\"\n",
      "      style=\"display: inline-block; line-height: 24px; height: 24px; margin-top: 4px;margin-right: 24px;width: 73px;background-image: url(https://img2.doubanio.com/cuphead/sns-static/anony-home/pics/sitename.png);background-size: contain; background-repeat: no-repeat;text-indent: -999em;\">\n",
      "      豆瓣网\n",
      "    </div>\n",
      "\n",
      "    <div class=\"anony-srh\">\n",
      "    <form action=\"https://www.douban.com/search\" method=\"get\">\n",
      "      <span class=\"inp\"><input type=\"text\" maxlength=\"60\" size=\"12\" placeholder=\"书籍、电影、音乐、小组、小站、成员\" name=\"q\" autocomplete=\"off\"></span>\n",
      "    <span class=\"bn\"><input type=\"submit\" value=\"搜索\"></span>\n",
      "    </form>\n",
      "    </div>\n",
      "  </div>\n",
      "</div>\n",
      "\n",
      "\n",
      "\n",
      "<div id=\"anony-reg-new\" style=\"background-image: url(https://img9.doubanio.com/view/puppy_image/raw/public/1771365ca98ig9er706.jpg)\">\n",
      "  <div class=\"wrapper\">\n",
      "    <div class=\"login\">\n",
      "      <iframe style=\"height: 300px; width: 300px;\" frameborder='0' src=\"//accounts.douban.com/passport/login_popup?login_source=anony\"></iframe>\n",
      "    </div>\n",
      "    <div class=\"app\">\n",
      "      <p class=\"app-title\">豆瓣<span>7.0</span></p>\n",
      "      <p class=\"app-slogan\"></p>\n",
      "      <a href=\"https://www.douban.com/doubanapp/app?channel=nimingye\" class=\"lnk-app\">下载豆瓣 App</a>\n",
      "      <div class=\"app-qr\">\n",
      "        <a href=\"javascript: void 0;\" class=\"lnk-qr\" id=\"expand-qr\"><img src=\"https://img1.doubanio.com/cuphead/sns-static/anony-home/pics/icon_qrcode_green.png\" width=\"28\" height=\"28\" /></a>\n",
      "        <div class=\"app-qr-expand\">\n",
      "          <img src=\"https://img2.doubanio.com/cuphead/sns-static/anony-home/pics/doubanapp_qrcode.png\" width=\"160\" height=\"160\" />\n",
      "          <p>iOS / Android 扫码直接下载</p>\n",
      "        </div>\n",
      "      </div>\n",
      "    </div>\n",
      "  </div>\n",
      "\n",
      "  <script type=\"text/javascript\">\n",
      "    $(function() {\n",
      "      var app_qr = $('.app-qr');\n",
      "      app_qr.hover(function() {\n",
      "        app_qr.addClass('open');\n",
      "      }, function() {\n",
      "        app_qr.removeClass('open');\n",
      "      });\n",
      "    });\n",
      "  </script>\n",
      "</div>\n",
      "\n",
      "\n",
      "\n",
      "\n",
      "    \n",
      "<div id=\"anony-sns\" class=\"section\">\n",
      "  <div class=\"wrapper\">\n",
      "  \n",
      "<!-- douban ad begin -->\n",
      "<div id=\"dale_anonymous_homepage_top_for_crazy_ad\"></div>\n",
      "<!-- douban ad end -->\n",
      "\n",
      "  \n",
      "  <div class=\"side\">\n",
      "  <div style=\"margin:10px 0px;\">\n",
      "    <div id=\"dale_anonymous_homepage_right_top\"></div>\n",
      "  </div>\n",
      "  <div class=\"online\">\n",
      "    <ul>\n",
      "      \n",
      "\n",
      "\n",
      "\n",
      "\n",
      "\n",
      "<link rel=\"stylesheet\" href=\"https://img1.doubanio.com/cuphead/sns-static/common/hot_topics/style.38f5b.css\">\n",
      "\n",
      "<div class=\"mod\" id=\"hot-topics-mod\">\n",
      "    \n",
      "    \n",
      "    <h2>\n",
      "        热门话题\n",
      "            &nbsp;&middot;&nbsp;&middot;&nbsp;&middot;&nbsp;&middot;&nbsp;&middot;&nbsp;&middot;\n",
      "            <span class=\"pl\">&nbsp;(\n",
      "                \n",
      "                    <a href=\"/gallery/\" target=\"_self\">去话题广场</a>\n",
      "                ) </span>\n",
      "    </h2>\n",
      "\n",
      "\n",
      "    <ul id=\"hot-topics\">\n",
      "        <span class=\"loading-hot-topics\">加载中...</span>\n",
      "    </ul>\n",
      "\n",
      "</div>\n",
      "\n",
      "<script>\n",
      "    var moduleName = 'hot_topic_anony_sns';\n",
      "</script>\n",
      "<script src=\"https://img3.doubanio.com/cuphead/sns-static/common/hot_topics/render.71e3f.js\"></script>\n",
      "\n",
      "    </ul>\n",
      "  </div>\n",
      "\n",
      "  \n",
      "\n",
      "<style>\n",
      "  .rumor-links li {\n",
      "    padding: 5px 0;\n",
      "    border-bottom: 1px dashed #e0e0e0;\n",
      "  }\n",
      "\n",
      "  .rumor-links li:first-child {\n",
      "    padding-top: 0;\n",
      "  }\n",
      "</style>\n",
      "<div class=\"mod\">\n",
      "  <div class=\"mod-header\">\n",
      "    \n",
      "    <h2>\n",
      "        辟谣专区\n",
      "            &nbsp;&middot;&nbsp;&middot;&nbsp;&middot;&nbsp;&middot;&nbsp;&middot;&nbsp;&middot;\n",
      "            <span class=\"pl\">&nbsp;(\n",
      "                \n",
      "                    <a href=\"https://site.douban.com/144296/widget/notes/194620427/\" target=\"_self\">更多</a>\n",
      "                ) </span>\n",
      "    </h2>\n",
      "\n",
      "  </div>\n",
      "  <ul class=\"rumor-links\">\n",
      "      <li>\n",
      "        <a href=\"https://site.douban.com/144296/widget/notes/194620427/note/875150534/\" target=\"_blank\">喝淡盐水能预防中暑？</a>\n",
      "      </li>\n",
      "      <li>\n",
      "        <a href=\"https://site.douban.com/144296/widget/notes/194620427/note/875137165/\" target=\"_blank\">今日辟谣（2025年8月14日）</a>\n",
      "      </li>\n",
      "      <li>\n",
      "        <a href=\"https://site.douban.com/144296/widget/notes/194620427/note/875125381/\" target=\"_blank\">雷雨天用手机打电话会引雷？</a>\n",
      "      </li>\n",
      "      <li>\n",
      "        <a href=\"https://site.douban.com/144296/widget/notes/194620427/note/875106871/\" target=\"_blank\">互联护苗 │ 急诊科专家解答猫狗抓咬伤八大问题</a>\n",
      "      </li>\n",
      "      <li>\n",
      "        <a href=\"https://site.douban.com/144296/widget/notes/194620427/note/875104847/\" target=\"_blank\">翻炒医保旧谣 谎报地震预警 伪造警情通报 网信、公安严打自媒体发布不实信息</a>\n",
      "      </li>\n",
      "  </ul>\n",
      "</div>\n",
      "\n",
      "\n",
      "</div>\n",
      "  <div class=\"main\">\n",
      "<link rel=\"stylesheet\" href=\"https://img1.doubanio.com/f/sns/c95eea893f80924788deebf38e4ad6f637c33e6a/css/sns/doulist/list.css\">\n",
      "<div class=\"mod\">\n",
      "  \n",
      "    <h2>\n",
      "        精选内容\n",
      "            &nbsp;&middot;&nbsp;&middot;&nbsp;&middot;&nbsp;&middot;&nbsp;&middot;&nbsp;&middot;\n",
      "            <span class=\"pl\">&nbsp;(\n",
      "                \n",
      "                    <a href=\"https://www.douban.com/explore/\" target=\"_self\">更多</a>\n",
      "                ) </span>\n",
      "    </h2>\n",
      "\n",
      "      <div id=\"1651050112\" class=\"doulist-item\">\n",
      "        <div class=\"mod\">\n",
      "          \n",
      "  \n",
      "  \n",
      "  \n",
      "  <div class=\"bd doulist-note\">\n",
      "    \n",
      "\n",
      "\n",
      "\n",
      "    <div class=\"source\">\n",
      "        来自：豆瓣日记\n",
      "    </div>\n",
      "\n",
      "      \n",
      "\n",
      "\n",
      "\n",
      "    <div class=\"note-fl\">\n",
      "\n",
      "    <div class=\"meta\">\n",
      "      \n",
      "\n",
      "          <a href=\"https://www.douban.com/people/gracexcy2/\" target=\"_blank\" style=\"display: inline-block; margin-right: 4px;\">\n",
      "            <img src=\"https://img2.doubanio.com/icon/u261976267-1.jpg\" alt=\"HISOKA\" width=\"24\" />\n",
      "          </a>\n",
      "        <a href=\"https://www.douban.com/people/gracexcy2/\" target=\"_blank\">HISOKA</a>\n",
      "    </div>\n",
      "    <div class=\"title\">\n",
      "      <a href=\"https://www.douban.com/note/875053438/\" target=\"_blank\">\n",
      "          老中人的“爱吃苦”真是全方位的\n",
      "      </a>\n",
      "    </div>\n",
      "\n",
      "\n",
      "    <div class=\"abstract\">\n",
      "      都知道老中人爱吃苦，但我最近才想到，喜欢特种兵式旅游，也是老中人爱吃苦的一个体现。 对我来说，旅游是出来玩，看点漂亮的风景，吃点好吃的，觉要睡得更好，心情要比在家更放松——也即我是出来享受的。 首先，虽然我不会花很多钱住很贵吃很贵，但必须要舒服。我不多花钱但我要求很多——房间必须25平米以上，必须安静干净无异味，如果一个地方找不到这样的住处，我就不去。 并且我带着二狗一猫，我自己不能吃苦，也没让他们吃过苦，他们每天都是在舒舒服服的大空间里活动、吃喝、睡觉。 我每个地方都停留三四天，让我和他们好好休息而不是每天赶路，充分适应环境，避免水土不服和高反。 吃的东西必须新鲜好吃，如果没有新鲜好吃的东西，我宁愿不吃。 而特种兵，尤其是节假日特种兵，打一枪换一个地方，住的地方贵得要死但很可能又小又吵——在各大app都可以看到酒店差评多是节假日的特种兵留下的，接待的人多了质量必定下降，同时价格又抬高，当...\n",
      "    </div>\n",
      "\n",
      "      <div class=\"meta\">\n",
      "        <a class=\"rec_nums\" style=\"color: #999; margin-top: 15px;\" href=\"https://www.douban.com/note/875053438/\" target=\"_blank\">\n",
      "          <span>14回应</span>\n",
      "          <span>175赞</span>\n",
      "          <span>32转发</span>\n",
      "        </a>\n",
      "      </div>\n",
      "\n",
      "    </div>\n",
      "  </div>\n",
      "\n",
      "\n",
      "        </div>\n",
      "      </div>\n",
      "      <div id=\"1651374938\" class=\"doulist-item\">\n",
      "        <div class=\"mod\">\n",
      "          \n",
      "  \n",
      "  \n",
      "  \n",
      "  <div class=\"bd doulist-note\">\n",
      "    \n",
      "\n",
      "\n",
      "\n",
      "    <div class=\"source\">\n",
      "        来自：豆瓣日记\n",
      "    </div>\n",
      "\n",
      "      \n",
      "    <div class=\"pic\">\n",
      "      <div class=\"pic-wrap\">\n",
      "        <a href=\"https://www.douban.com/note/875104320/\" target=\"_blank\"><img src=\"https://img1.doubanio.com/view/note/small/public/p101756649.jpg\" /></a>\n",
      "      </div>\n",
      "    </div>\n",
      "\n",
      "\n",
      "\n",
      "    <div class=\"note-fl\">\n",
      "\n",
      "    <div class=\"meta\">\n",
      "      \n",
      "\n",
      "          <a href=\"https://www.douban.com/people/144906475/\" target=\"_blank\" style=\"display: inline-block; margin-right: 4px;\">\n",
      "            <img src=\"https://img3.doubanio.com/icon/u144906475-2.jpg\" alt=\"杜瑟\" width=\"24\" />\n",
      "          </a>\n",
      "        <a href=\"https://www.douban.com/people/144906475/\" target=\"_blank\">杜瑟</a>\n",
      "    </div>\n",
      "    <div class=\"title\">\n",
      "      <a href=\"https://www.douban.com/note/875104320/\" target=\"_blank\">\n",
      "          我们能够共情有钱人的痛苦吗？\n",
      "      </a>\n",
      "    </div>\n",
      "\n",
      "\n",
      "    <div class=\"abstract\">\n",
      "      以前还是穷学生的时候，常去书店蹭书看，像《达芬奇密码》就是刚出来一天内看完。前些天又去Barnes &amp; Noble坐了一下午，读完琼·狄迪恩（Joan Didion）的新书Notes to John。 第一次知道狄迪恩是很多年前从一本英美现代散文选之中，因其年轻，收在末尾，内容和译文都没什么感觉。出国后读了她的代表作 Slouching Towards Bethlehem（《向伯利恒跋涉》），语言精确冷峻，有海明威之风，颇为折服，要是自己能写出那样的英文就好了。 几年后读The Year of ...\n",
      "    </div>\n",
      "\n",
      "      <div class=\"meta\">\n",
      "        <a class=\"rec_nums\" style=\"color: #999; margin-top: 15px;\" href=\"https://www.douban.com/note/875104320/\" target=\"_blank\">\n",
      "          <span>52回应</span>\n",
      "          <span>151赞</span>\n",
      "          <span>14转发</span>\n",
      "        </a>\n",
      "      </div>\n",
      "\n",
      "    </div>\n",
      "  </div>\n",
      "\n",
      "\n",
      "        </div>\n",
      "      </div>\n",
      "      <div id=\"1651378283\" class=\"doulist-item\">\n",
      "        <div class=\"mod\">\n",
      "          \n",
      "  \n",
      "  \n",
      "  \n",
      "  <div class=\"bd doulist-note\">\n",
      "    \n",
      "\n",
      "\n",
      "\n",
      "    <div class=\"source\">\n",
      "        来自：豆瓣小组\n",
      "    </div>\n",
      "\n",
      "      \n",
      "    <div class=\"pic\">\n",
      "      <div class=\"pic-wrap\">\n",
      "        <a href=\"https://www.douban.com/group/topic/333615531/?_spm_id=MTg0MzAzODIx\" target=\"_blank\"><img src=\"https://img3.doubanio.com/view/group_topic/large/public/p696584862.jpg\" /></a>\n",
      "      </div>\n",
      "    </div>\n",
      "\n",
      "\n",
      "\n",
      "    <div class=\"note-fl\">\n",
      "\n",
      "    <div class=\"meta\">\n",
      "      \n",
      "\n",
      "          <a href=\"https://www.douban.com/people/184303821/\" target=\"_blank\" style=\"display: inline-block; margin-right: 4px;\">\n",
      "            <img src=\"https://img9.doubanio.com/icon/u184303821-5.jpg\" alt=\"第三视角\" width=\"24\" />\n",
      "          </a>\n",
      "        <a href=\"https://www.douban.com/people/184303821/\" target=\"_blank\">第三视角</a>\n",
      "    </div>\n",
      "    <div class=\"title\">\n",
      "      <a href=\"https://www.douban.com/group/topic/333615531/?_spm_id=MTg0MzAzODIx\" target=\"_blank\">\n",
      "          手机先吃📷，从初夏到初秋\n",
      "      </a>\n",
      "    </div>\n",
      "\n",
      "\n",
      "    <div class=\"abstract\">\n",
      "      \n",
      "    </div>\n",
      "\n",
      "      <div class=\"meta\">\n",
      "        <a class=\"rec_nums\" style=\"color: #999; margin-top: 15px;\" href=\"https://www.douban.com/group/topic/333615531/?_spm_id=MTg0MzAzODIx\" target=\"_blank\">\n",
      "          <span>95回应</span>\n",
      "          <span>196赞</span>\n",
      "          <span>8转发</span>\n",
      "        </a>\n",
      "      </div>\n",
      "\n",
      "    </div>\n",
      "  </div>\n",
      "\n",
      "\n",
      "        </div>\n",
      "      </div>\n",
      "</div>\n",
      "</div>\n",
      "  </div>\n",
      "  \n",
      "</div>\n",
      "\n",
      "\n",
      "\n",
      "\n",
      "\n",
      "\n",
      "\n",
      "\n",
      "    \n",
      "<div id=\"anony-group\" class=\"section\">\n",
      "  <div class=\"wrapper\">\n",
      "  \n",
      "  \n",
      "  <div class=\"sidenav\">\n",
      "    <h2 class=\"section-title\"><a href=\"https://www.douban.com/group/\">小组</a></h2>\n",
      "    <div class=\"side-links nav-anon\">\n",
      "      <ul>\n",
      "        <li>\n",
      "          <a href=\"https://www.douban.com/group/explore?tag=新组\">新组</a>\n",
      "        </li>\n",
      "        <li>\n",
      "          <a href=\"https://www.douban.com/group/explore?tag=追剧\">追剧</a>\n",
      "        </li>\n",
      "        <li>\n",
      "          <a href=\"https://www.douban.com/group/explore?tag=书影音\">书影音</a>\n",
      "        </li>\n",
      "        <li>\n",
      "          <a href=\"https://www.douban.com/group/explore?tag=人文\">人文</a>\n",
      "        </li>\n",
      "        <li>\n",
      "          <a href=\"https://www.douban.com/group/explore?tag=闲趣\">闲趣</a>\n",
      "        </li>\n",
      "        <li>\n",
      "          <a href=\"https://www.douban.com/group/explore?tag=兴趣\">兴趣</a>\n",
      "        </li>\n",
      "        <li>\n",
      "          <a href=\"https://www.douban.com/group/explore?tag=生活\">生活</a>\n",
      "        </li>\n",
      "        <li>\n",
      "          <a href=\"https://www.douban.com/group/explore?tag=美食\">美食</a>\n",
      "        </li>\n",
      "        <li>\n",
      "          <a href=\"https://www.douban.com/group/explore?tag=家居\">家居</a>\n",
      "        </li>\n",
      "        <li>\n",
      "          <a href=\"https://www.douban.com/group/explore?tag=体育运动\">体育运动</a>\n",
      "        </li>\n",
      "        <li>\n",
      "          <a href=\"https://www.douban.com/group/explore?tag=宠物\">宠物</a>\n",
      "        </li>\n",
      "        <li>\n",
      "          <a href=\"https://www.douban.com/group/explore?tag=艺术\">艺术</a>\n",
      "        </li>\n",
      "        <li>\n",
      "          <a href=\"https://www.douban.com/group/explore?tag=科技\">科技</a>\n",
      "        </li>\n",
      "        <li>\n",
      "          <a href=\"https://www.douban.com/group/explore?tag=情感\">情感</a>\n",
      "        </li>\n",
      "        <li>\n",
      "          <a href=\"https://www.douban.com/group/explore?tag=科学自然\">科学自然</a>\n",
      "        </li>\n",
      "        <li>\n",
      "          <a href=\"https://www.douban.com/group/explore?tag=学习\">学习</a>\n",
      "        </li>\n",
      "        <li>\n",
      "          <a href=\"https://www.douban.com/group/explore?tag=校园\">校园</a>\n",
      "        </li>\n",
      "        <li>\n",
      "          <a href=\"https://www.douban.com/group/explore?tag=ACG\">ACG</a>\n",
      "        </li>\n",
      "        <li>\n",
      "          <a href=\"https://www.douban.com/group/explore?tag=职场\">职场</a>\n",
      "        </li>\n",
      "        <li>\n",
      "          <a href=\"https://www.douban.com/group/explore?tag=理财\">理财</a>\n",
      "        </li>\n",
      "      </ul>\n",
      "    </div>\n",
      "  </div>\n",
      "\n",
      "  <div class=\"side\"></div>\n",
      "  <div class=\"main\">\n",
      "  \n",
      "  \n",
      "    <h2>\n",
      "        热门小组\n",
      "            &nbsp;&middot;&nbsp;&middot;&nbsp;&middot;&nbsp;&middot;&nbsp;&middot;&nbsp;&middot;\n",
      "            <span class=\"pl\">&nbsp;(\n",
      "                \n",
      "                    <a href=\"https://www.douban.com/group/explore/hot_groups\" target=\"_self\">更多</a>\n",
      "                ) </span>\n",
      "    </h2>\n",
      "\n",
      "  <div class=\"group-list list\">\n",
      "    <ul>\n",
      "      <li>\n",
      "      <div class=\"pic\">\n",
      "          <a href=\"https://www.douban.com/group/642067/\"><img src=\"https://img1.doubanio.com/f/vendors/a1fdee122b95748d81cee426d717c05b5174fe96/pics/blank.gif\" data-origin=\"https://img1.doubanio.com/view/group/sqxs/public/57298984e11ba9d.jpg\" alt=\"\" width=\"48\" /></a>\n",
      "      </div>\n",
      "      <div class=\"info\">\n",
      "        <div class=\"title\">\n",
      "          <a href=\"https://www.douban.com/group/642067/\">心动的信号</a>\n",
      "        </div>\n",
      "        147996 个成员\n",
      "      </div>\n",
      "      <li>\n",
      "      <div class=\"pic\">\n",
      "          <a href=\"https://www.douban.com/group/728345/\"><img src=\"https://img1.doubanio.com/f/vendors/a1fdee122b95748d81cee426d717c05b5174fe96/pics/blank.gif\" data-origin=\"https://img3.doubanio.com/view/group/sqxs/public/707fd62ba51bb27.jpg\" alt=\"\" width=\"48\" /></a>\n",
      "      </div>\n",
      "      <div class=\"info\">\n",
      "        <div class=\"title\">\n",
      "          <a href=\"https://www.douban.com/group/728345/\">独爱街头摄影</a>\n",
      "        </div>\n",
      "        54893 个成员\n",
      "      </div>\n",
      "      <li>\n",
      "      <div class=\"pic\">\n",
      "          <a href=\"https://www.douban.com/group/729068/\"><img src=\"https://img1.doubanio.com/f/vendors/a1fdee122b95748d81cee426d717c05b5174fe96/pics/blank.gif\" data-origin=\"https://img1.doubanio.com/view/group/sqxs/public/56b6b0687dc0599.jpg\" alt=\"\" width=\"48\" /></a>\n",
      "      </div>\n",
      "      <div class=\"info\">\n",
      "        <div class=\"title\">\n",
      "          <a href=\"https://www.douban.com/group/729068/\">小毛小病研究互助中心</a>\n",
      "        </div>\n",
      "        140402 个成员\n",
      "      </div>\n",
      "      <li>\n",
      "      <div class=\"pic\">\n",
      "          <a href=\"https://www.douban.com/group/677543/\"><img src=\"https://img1.doubanio.com/f/vendors/a1fdee122b95748d81cee426d717c05b5174fe96/pics/blank.gif\" data-origin=\"https://img9.doubanio.com/view/group/sqxs/public/08684cb3f538265.jpg\" alt=\"\" width=\"48\" /></a>\n",
      "      </div>\n",
      "      <div class=\"info\">\n",
      "        <div class=\"title\">\n",
      "          <a href=\"https://www.douban.com/group/677543/\">「人生问题」研究社</a>\n",
      "        </div>\n",
      "        313788 个成员\n",
      "      </div>\n",
      "      <li>\n",
      "      <div class=\"pic\">\n",
      "          <a href=\"https://www.douban.com/group/726329/\"><img src=\"https://img1.doubanio.com/f/vendors/a1fdee122b95748d81cee426d717c05b5174fe96/pics/blank.gif\" data-origin=\"https://img1.doubanio.com/view/group/sqxs/public/fe6965c28a1d86c.jpg\" alt=\"\" width=\"48\" /></a>\n",
      "      </div>\n",
      "      <div class=\"info\">\n",
      "        <div class=\"title\">\n",
      "          <a href=\"https://www.douban.com/group/726329/\">披荆斩棘的哥哥</a>\n",
      "        </div>\n",
      "        115524 个成员\n",
      "      </div>\n",
      "      <li>\n",
      "      <div class=\"pic\">\n",
      "          <a href=\"https://www.douban.com/group/754422/\"><img src=\"https://img1.doubanio.com/f/vendors/a1fdee122b95748d81cee426d717c05b5174fe96/pics/blank.gif\" data-origin=\"https://img3.doubanio.com/view/group/sqxs/public/3730a862d67a002.jpg\" alt=\"\" width=\"48\" /></a>\n",
      "      </div>\n",
      "      <div class=\"info\">\n",
      "        <div class=\"title\">\n",
      "          <a href=\"https://www.douban.com/group/754422/\">主体性复建计划</a>\n",
      "        </div>\n",
      "        21183 个成员\n",
      "      </div>\n",
      "      <li>\n",
      "      <div class=\"pic\">\n",
      "          <a href=\"https://www.douban.com/group/674128/\"><img src=\"https://img1.doubanio.com/f/vendors/a1fdee122b95748d81cee426d717c05b5174fe96/pics/blank.gif\" data-origin=\"https://img9.doubanio.com/view/group/sqxs/public/0eee9e259ccc986.jpg\" alt=\"\" width=\"48\" /></a>\n",
      "      </div>\n",
      "      <div class=\"info\">\n",
      "        <div class=\"title\">\n",
      "          <a href=\"https://www.douban.com/group/674128/\">画云小分队</a>\n",
      "        </div>\n",
      "        49652 个成员\n",
      "      </div>\n",
      "      <li>\n",
      "      <div class=\"pic\">\n",
      "          <a href=\"https://www.douban.com/group/720659/\"><img src=\"https://img1.doubanio.com/f/vendors/a1fdee122b95748d81cee426d717c05b5174fe96/pics/blank.gif\" data-origin=\"https://img3.doubanio.com/view/group/sqxs/public/98457097bed8c73.jpg\" alt=\"\" width=\"48\" /></a>\n",
      "      </div>\n",
      "      <div class=\"info\">\n",
      "        <div class=\"title\">\n",
      "          <a href=\"https://www.douban.com/group/720659/\">人间情侣观察</a>\n",
      "        </div>\n",
      "        237029 个成员\n",
      "      </div>\n",
      "      <li>\n",
      "      <div class=\"pic\">\n",
      "          <a href=\"https://www.douban.com/group/674249/\"><img src=\"https://img1.doubanio.com/f/vendors/a1fdee122b95748d81cee426d717c05b5174fe96/pics/blank.gif\" data-origin=\"https://img3.doubanio.com/view/group/sqxs/public/a725101dde8d04a.jpg\" alt=\"\" width=\"48\" /></a>\n",
      "      </div>\n",
      "      <div class=\"info\">\n",
      "        <div class=\"title\">\n",
      "          <a href=\"https://www.douban.com/group/674249/\">侦探推理小说交流</a>\n",
      "        </div>\n",
      "        113310 个成员\n",
      "      </div>\n",
      "      <li>\n",
      "      <div class=\"pic\">\n",
      "          <a href=\"https://www.douban.com/group/562227/\"><img src=\"https://img1.doubanio.com/f/vendors/a1fdee122b95748d81cee426d717c05b5174fe96/pics/blank.gif\" data-origin=\"https://img1.doubanio.com/view/group/sqxs/public/99d9f7389344c29.jpg\" alt=\"\" width=\"48\" /></a>\n",
      "      </div>\n",
      "      <div class=\"info\">\n",
      "        <div class=\"title\">\n",
      "          <a href=\"https://www.douban.com/group/562227/\">抠门男性联合会</a>\n",
      "        </div>\n",
      "        248070 个成员\n",
      "      </div>\n",
      "      <li>\n",
      "      <div class=\"pic\">\n",
      "          <a href=\"https://www.douban.com/group/738555/\"><img src=\"https://img1.doubanio.com/f/vendors/a1fdee122b95748d81cee426d717c05b5174fe96/pics/blank.gif\" data-origin=\"https://img1.doubanio.com/view/group/sqxs/public/a7dee198893724d.jpg\" alt=\"\" width=\"48\" /></a>\n",
      "      </div>\n",
      "      <div class=\"info\">\n",
      "        <div class=\"title\">\n",
      "          <a href=\"https://www.douban.com/group/738555/\">豆瓣学习区</a>\n",
      "        </div>\n",
      "        67138 个成员\n",
      "      </div>\n",
      "      <li>\n",
      "      <div class=\"pic\">\n",
      "          <a href=\"https://www.douban.com/group/725960/\"><img src=\"https://img1.doubanio.com/f/vendors/a1fdee122b95748d81cee426d717c05b5174fe96/pics/blank.gif\" data-origin=\"https://img3.doubanio.com/view/group/sqxs/public/0684cf3782658ff.jpg\" alt=\"\" width=\"48\" /></a>\n",
      "      </div>\n",
      "      <div class=\"info\">\n",
      "        <div class=\"title\">\n",
      "          <a href=\"https://www.douban.com/group/725960/\">友谊的小船我一个人也能划</a>\n",
      "        </div>\n",
      "        76043 个成员\n",
      "      </div>\n",
      "      <li>\n",
      "      <div class=\"pic\">\n",
      "          <a href=\"https://www.douban.com/group/729136/\"><img src=\"https://img1.doubanio.com/f/vendors/a1fdee122b95748d81cee426d717c05b5174fe96/pics/blank.gif\" data-origin=\"https://img1.doubanio.com/view/group/sqxs/public/71ffb418af71c8d.jpg\" alt=\"\" width=\"48\" /></a>\n",
      "      </div>\n",
      "      <div class=\"info\">\n",
      "        <div class=\"title\">\n",
      "          <a href=\"https://www.douban.com/group/729136/\">「这是什么」小组</a>\n",
      "        </div>\n",
      "        127431 个成员\n",
      "      </div>\n",
      "      <li>\n",
      "      <div class=\"pic\">\n",
      "          <a href=\"https://www.douban.com/group/734048/\"><img src=\"https://img1.doubanio.com/f/vendors/a1fdee122b95748d81cee426d717c05b5174fe96/pics/blank.gif\" data-origin=\"https://img3.doubanio.com/view/group/sqxs/public/0f67397088ad632.jpg\" alt=\"\" width=\"48\" /></a>\n",
      "      </div>\n",
      "      <div class=\"info\">\n",
      "        <div class=\"title\">\n",
      "          <a href=\"https://www.douban.com/group/734048/\">电影票房·资料库</a>\n",
      "        </div>\n",
      "        63516 个成员\n",
      "      </div>\n",
      "      <li>\n",
      "      <div class=\"pic\">\n",
      "          <a href=\"https://www.douban.com/group/732421/\"><img src=\"https://img1.doubanio.com/f/vendors/a1fdee122b95748d81cee426d717c05b5174fe96/pics/blank.gif\" data-origin=\"https://img1.doubanio.com/view/group/sqxs/public/06b7fe490b59c1d.jpg\" alt=\"\" width=\"48\" /></a>\n",
      "      </div>\n",
      "      <div class=\"info\">\n",
      "        <div class=\"title\">\n",
      "          <a href=\"https://www.douban.com/group/732421/\">不富不穷FIRE</a>\n",
      "        </div>\n",
      "        54808 个成员\n",
      "      </div>\n",
      "      <li>\n",
      "      <div class=\"pic\">\n",
      "          <a href=\"https://www.douban.com/group/732499/\"><img src=\"https://img1.doubanio.com/f/vendors/a1fdee122b95748d81cee426d717c05b5174fe96/pics/blank.gif\" data-origin=\"https://img3.doubanio.com/view/group/sqxs/public/2e74c0475222832.jpg\" alt=\"\" width=\"48\" /></a>\n",
      "      </div>\n",
      "      <div class=\"info\">\n",
      "        <div class=\"title\">\n",
      "          <a href=\"https://www.douban.com/group/732499/\">每天都在听播客</a>\n",
      "        </div>\n",
      "        50938 个成员\n",
      "      </div>\n",
      "      <li>\n",
      "      <div class=\"pic\">\n",
      "          <a href=\"https://www.douban.com/group/699221/\"><img src=\"https://img1.doubanio.com/f/vendors/a1fdee122b95748d81cee426d717c05b5174fe96/pics/blank.gif\" data-origin=\"https://img1.doubanio.com/view/group/sqxs/public/b211bca0846705c.jpg\" alt=\"\" width=\"48\" /></a>\n",
      "      </div>\n",
      "      <div class=\"info\">\n",
      "        <div class=\"title\">\n",
      "          <a href=\"https://www.douban.com/group/699221/\">我们都不懂车</a>\n",
      "        </div>\n",
      "        102277 个成员\n",
      "      </div>\n",
      "      <li>\n",
      "      <div class=\"pic\">\n",
      "          <a href=\"https://www.douban.com/group/735707/\"><img src=\"https://img1.doubanio.com/f/vendors/a1fdee122b95748d81cee426d717c05b5174fe96/pics/blank.gif\" data-origin=\"https://img3.doubanio.com/view/group/sqxs/public/66b540182359c3a.jpg\" alt=\"\" width=\"48\" /></a>\n",
      "      </div>\n",
      "      <div class=\"info\">\n",
      "        <div class=\"title\">\n",
      "          <a href=\"https://www.douban.com/group/735707/\">懒人生活指北</a>\n",
      "        </div>\n",
      "        265967 个成员\n",
      "      </div>\n",
      "    </ul>\n",
      "  </div>\n",
      "</div>\n",
      "  </div>\n",
      "  \n",
      "</div>\n",
      "\n",
      "\n",
      "\n",
      "\n",
      "\n",
      "\n",
      "\n",
      "\n",
      "    \n",
      "<div id=\"anony-movie\" class=\"section\">\n",
      "  <div class=\"wrapper\">\n",
      "  \n",
      "  \n",
      "<div class=\"sidenav\">\n",
      "  <h2 class=\"section-title\"><a href=\"https://movie.douban.com\">电影</a></h2>\n",
      "  \n",
      "  \n",
      "  <div class=\"side-links nav-anon\">\n",
      "      <ul>\n",
      "                          \n",
      "                 <li><a href=\"https://movie.douban.com/nowplaying/\">影讯&amp;购票</a></li>\n",
      "             \n",
      "                 <li class=\"site-nav-bt\"><a href=\"https://movie.douban.com/explore\">选电影</a></li>\n",
      "             \n",
      "                 <li><a href=\"https://movie.douban.com/tv/\">电视剧</a></li>\n",
      "             \n",
      "                 <li><a href=\"https://movie.douban.com/chart\">排行榜</a></li>\n",
      "             \n",
      "                 <li><a href=\"https://movie.douban.com/review/best/\">影评</a></li>\n",
      "\n",
      "      \n",
      "      </ul>\n",
      "  </div>\n",
      "\n",
      "  \n",
      "\n",
      "\n",
      "    <div class=\"apps-list\">\n",
      "    <ul>\n",
      "    </ul>\n",
      "    </div>\n",
      "\n",
      "</div>\n",
      "\n",
      "  <div class=\"side\">\n",
      "<div class=\"mod\">\n",
      "\n",
      "\n",
      "    <h2>\n",
      "        近期热门\n",
      "            &nbsp;&middot;&nbsp;&middot;&nbsp;&middot;&nbsp;&middot;&nbsp;&middot;&nbsp;&middot;\n",
      "            <span class=\"pl\">&nbsp;(\n",
      "                \n",
      "                    <a href=\"https://movie.douban.com/chart\" target=\"_self\">更多</a>\n",
      "                ) </span>\n",
      "    </h2>\n",
      "\n",
      "<div class=\"list1 movie-charts\">\n",
      "  <ol>\n",
      "    <li>\n",
      "    <a href=\"https://movie.douban.com/subject/36876356/\">复活她</a>\n",
      "    </li>\n",
      "    <li>\n",
      "    <a href=\"https://movie.douban.com/subject/36465394/\">腓尼基计划</a>\n",
      "    </li>\n",
      "    <li>\n",
      "    <a href=\"https://movie.douban.com/subject/33414470/\">水饺皇后</a>\n",
      "    </li>\n",
      "    <li>\n",
      "    <a href=\"https://movie.douban.com/subject/36170178/\">国家元首</a>\n",
      "    </li>\n",
      "    <li>\n",
      "    <a href=\"https://movie.douban.com/subject/36144741/\">惊变28年</a>\n",
      "    </li>\n",
      "    <li>\n",
      "    <a href=\"https://movie.douban.com/subject/36988926/\">人生开门红</a>\n",
      "    </li>\n",
      "    <li>\n",
      "    <a href=\"https://movie.douban.com/subject/35512485/\">永生守卫2</a>\n",
      "    </li>\n",
      "    <li>\n",
      "    <a href=\"https://movie.douban.com/subject/36742579/\">罪人</a>\n",
      "    </li>\n",
      "    <li>\n",
      "    <a href=\"https://movie.douban.com/subject/30429388/\">死神来了：血脉诅咒</a>\n",
      "    </li>\n",
      "    <li>\n",
      "    <a href=\"https://movie.douban.com/subject/37067150/\">关于约会的一切</a>\n",
      "    </li>\n",
      "  </ol>\n",
      "</div>\n",
      "</div>\n",
      "</div>\n",
      "  <div class=\"main\">\n",
      "\n",
      "\n",
      "    <h2>\n",
      "        正在热映\n",
      "            &nbsp;&middot;&nbsp;&middot;&nbsp;&middot;&nbsp;&middot;&nbsp;&middot;&nbsp;&middot;\n",
      "            <span class=\"pl\">&nbsp;(\n",
      "                \n",
      "                    <a href=\"https://movie.douban.com/showtimes/\" target=\"_self\">更多</a>\n",
      "                ) </span>\n",
      "    </h2>\n",
      "\n",
      "<div class=\"movie-list list\">\n",
      "  <ul>\n",
      "    <li>\n",
      "    <div class=\"pic\">\n",
      "        <a href=\"https://movie.douban.com/subject/36438475/\"><img src=\"https://img1.doubanio.com/f/vendors/a1fdee122b95748d81cee426d717c05b5174fe96/pics/blank.gif\" data-origin=\"https://img1.doubanio.com/view/photo/s_ratio_poster/public/p2923770138.jpg\" alt=\"浪浪山小妖怪\" /></a>\n",
      "    </div>\n",
      "    <div class=\"title\">\n",
      "      <a href=\"https://movie.douban.com/subject/36438475/\">浪浪山小妖怪</a>\n",
      "    </div>\n",
      "    <div class=\"rating\">\n",
      "        <span class=\"allstar45\"></span><i>8.6</i>\n",
      "    </div>\n",
      "    <a href=\"https://movie.douban.com/subject/36438475/cinema/\" class=\"bn-link bn-ticket\">选座购票</a>\n",
      "    <li>\n",
      "    <div class=\"pic\">\n",
      "        <a href=\"https://movie.douban.com/subject/26660874/\"><img src=\"https://img1.doubanio.com/f/vendors/a1fdee122b95748d81cee426d717c05b5174fe96/pics/blank.gif\" data-origin=\"https://img3.doubanio.com/view/photo/s_ratio_poster/public/p2922389852.jpg\" alt=\"东极岛\" /></a>\n",
      "    </div>\n",
      "    <div class=\"title\">\n",
      "      <a href=\"https://movie.douban.com/subject/26660874/\">东极岛</a>\n",
      "    </div>\n",
      "    <div class=\"rating\">\n",
      "        <span class=\"txt-tip\">暂无评分</span>\n",
      "    </div>\n",
      "    <a href=\"https://movie.douban.com/subject/26660874/cinema/\" class=\"bn-link bn-ticket\">选座购票</a>\n",
      "    <li>\n",
      "    <div class=\"pic\">\n",
      "        <a href=\"https://movie.douban.com/subject/36738997/\"><img src=\"https://img1.doubanio.com/f/vendors/a1fdee122b95748d81cee426d717c05b5174fe96/pics/blank.gif\" data-origin=\"https://img1.doubanio.com/view/photo/s_ratio_poster/public/p2923810598.jpg\" alt=\"坪石先生\" /></a>\n",
      "    </div>\n",
      "    <div class=\"title\">\n",
      "      <a href=\"https://movie.douban.com/subject/36738997/\">坪石先生</a>\n",
      "    </div>\n",
      "    <div class=\"rating\">\n",
      "        <span class=\"txt-tip\">暂无评分</span>\n",
      "    </div>\n",
      "    <a href=\"https://movie.douban.com/subject/36738997/cinema/\" class=\"bn-link bn-ticket\">选座购票</a>\n",
      "    <li>\n",
      "    <div class=\"pic\">\n",
      "        <a href=\"https://movie.douban.com/subject/37355513/\"><img src=\"https://img1.doubanio.com/f/vendors/a1fdee122b95748d81cee426d717c05b5174fe96/pics/blank.gif\" data-origin=\"https://img3.doubanio.com/view/photo/s_ratio_poster/public/p2924224097.jpg\" alt=\"山河为证\" /></a>\n",
      "    </div>\n",
      "    <div class=\"title\">\n",
      "      <a href=\"https://movie.douban.com/subject/37355513/\">山河为证</a>\n",
      "    </div>\n",
      "    <div class=\"rating\">\n",
      "        <span class=\"txt-tip\">暂无评分</span>\n",
      "    </div>\n",
      "    <a href=\"https://movie.douban.com/subject/37355513/cinema/\" class=\"bn-link bn-ticket\">选座购票</a>\n",
      "    <li>\n",
      "    <div class=\"pic\">\n",
      "        <a href=\"https://movie.douban.com/subject/36809864/\"><img src=\"https://img1.doubanio.com/f/vendors/a1fdee122b95748d81cee426d717c05b5174fe96/pics/blank.gif\" data-origin=\"https://img1.doubanio.com/view/photo/s_ratio_poster/public/p2924276740.jpg\" alt=\"南京照相馆\" /></a>\n",
      "    </div>\n",
      "    <div class=\"title\">\n",
      "      <a href=\"https://movie.douban.com/subject/36809864/\">南京照相馆</a>\n",
      "    </div>\n",
      "    <div class=\"rating\">\n",
      "        <span class=\"allstar45\"></span><i>8.7</i>\n",
      "    </div>\n",
      "    <a href=\"https://movie.douban.com/subject/36809864/cinema/\" class=\"bn-link bn-ticket\">选座购票</a>\n",
      "    <li>\n",
      "    <div class=\"pic\">\n",
      "        <a href=\"https://movie.douban.com/subject/36522427/\"><img src=\"https://img1.doubanio.com/f/vendors/a1fdee122b95748d81cee426d717c05b5174fe96/pics/blank.gif\" data-origin=\"https://img3.doubanio.com/view/photo/s_ratio_poster/public/p2920978322.jpg\" alt=\"奇遇\" /></a>\n",
      "    </div>\n",
      "    <div class=\"title\">\n",
      "      <a href=\"https://movie.douban.com/subject/36522427/\">奇遇</a>\n",
      "    </div>\n",
      "    <div class=\"rating\">\n",
      "        <span class=\"allstar40\"></span><i>7.4</i>\n",
      "    </div>\n",
      "    <a href=\"https://movie.douban.com/subject/36522427/cinema/\" class=\"bn-link bn-ticket\">选座购票</a>\n",
      "    <li>\n",
      "    <div class=\"pic\">\n",
      "        <a href=\"https://movie.douban.com/subject/3072124/\"><img src=\"https://img1.doubanio.com/f/vendors/a1fdee122b95748d81cee426d717c05b5174fe96/pics/blank.gif\" data-origin=\"https://img9.doubanio.com/view/photo/s_ratio_poster/public/p2923412445.jpg\" alt=\"玛丽和麦克斯\" /></a>\n",
      "    </div>\n",
      "    <div class=\"title\">\n",
      "      <a href=\"https://movie.douban.com/subject/3072124/\">玛丽和麦克斯</a>\n",
      "    </div>\n",
      "    <div class=\"rating\">\n",
      "        <span class=\"allstar45\"></span><i>9.0</i>\n",
      "    </div>\n",
      "    <a href=\"https://movie.douban.com/subject/3072124/cinema/\" class=\"bn-link bn-ticket\">选座购票</a>\n",
      "    <li>\n",
      "    <div class=\"pic\">\n",
      "        <a href=\"https://movie.douban.com/subject/35483395/\"><img src=\"https://img1.doubanio.com/f/vendors/a1fdee122b95748d81cee426d717c05b5174fe96/pics/blank.gif\" data-origin=\"https://img9.doubanio.com/view/photo/s_ratio_poster/public/p2923749086.jpg\" alt=\"戏台\" /></a>\n",
      "    </div>\n",
      "    <div class=\"title\">\n",
      "      <a href=\"https://movie.douban.com/subject/35483395/\">戏台</a>\n",
      "    </div>\n",
      "    <div class=\"rating\">\n",
      "        <span class=\"allstar40\"></span><i>8.0</i>\n",
      "    </div>\n",
      "    <a href=\"https://movie.douban.com/subject/35483395/cinema/\" class=\"bn-link bn-ticket\">选座购票</a>\n",
      "  </ul>\n",
      "</div>\n",
      "</div>\n",
      "  </div>\n",
      "  \n",
      "</div>\n",
      "\n",
      "\n",
      "\n",
      "\n",
      "\n",
      "\n",
      "\n",
      "\n",
      "    \n",
      "<div id=\"anony-book\" class=\"section\">\n",
      "  <div class=\"wrapper\">\n",
      "  \n",
      "  \n",
      "  <div class=\"sidenav\">\n",
      "    <div class=\"mod\">\n",
      "    <h2 class=\"section-title\"><a href=\"https://book.douban.com\">读书</a></h2>\n",
      "    \n",
      "  \n",
      "  <div class=\"side-links nav-anon\">\n",
      "      <ul>\n",
      "             \n",
      "                 <li><a href=\"https://book.douban.com/chart\">每月热门图书榜</a></li>\n",
      "             \n",
      "                 <li><a href=\"https://book.douban.com/activities?kind=0\">读书专题</a></li>\n",
      "             \n",
      "                 <li><a href=\"https://book.douban.com/activities?kind=1\">直播活动</a></li>\n",
      "             \n",
      "                 <li><a href=\"https://book.douban.com/activities?kind=2\">名家问答</a></li>\n",
      "             \n",
      "                 <li><a href=\"https://book.douban.com/activities?kind=3\">共读交流</a></li>\n",
      "             \n",
      "                 <li><a href=\"https://book.douban.com/activities?kind=4\">鉴书团</a></li>\n",
      "\n",
      "      \n",
      "      </ul>\n",
      "  </div>\n",
      "\n",
      "    </div>\n",
      "  </div>\n",
      "\n",
      "  <div class=\"side\">\n",
      "  \n",
      "  <div class=\"mod\">\n",
      "    \n",
      "    <h2>\n",
      "        热门标签\n",
      "            &nbsp;&middot;&nbsp;&middot;&nbsp;&middot;&nbsp;&middot;&nbsp;&middot;&nbsp;&middot;\n",
      "            <span class=\"pl\">&nbsp;(\n",
      "                \n",
      "                    <a href=\"https://book.douban.com/tag/?view=type\" target=\"_self\">更多</a>\n",
      "                ) </span>\n",
      "    </h2>\n",
      "\n",
      "    <div class=\"book-cate-mod\">\n",
      "      <div class=\"cate book-cate\">\n",
      "        <ul>\n",
      "          <li class=\"cate-label\">[文学]</li>\n",
      "            <li><a href=\"https://book.douban.com/tag/小说\">小说</a></li>\n",
      "            <li><a href=\"https://book.douban.com/tag/随笔\">随笔</a></li>\n",
      "            <li><a href=\"https://book.douban.com/tag/日本文学\">日本文学</a></li>\n",
      "            <li><a href=\"https://book.douban.com/tag/散文\">散文</a></li>\n",
      "            <li><a href=\"https://book.douban.com/tag/诗歌\">诗歌</a></li>\n",
      "            <li><a href=\"https://book.douban.com/tag/童话\">童话</a></li>\n",
      "            <li><a href=\"https://book.douban.com/tag/名著\">名著</a></li>\n",
      "            <li><a href=\"https://book.douban.com/tag/港台\">港台</a></li>\n",
      "            <li><a href=\"https://book.douban.com/tag/?view=type#文学\">更多</a></li>\n",
      "        </ul>\n",
      "      </div>\n",
      "      <div class=\"cate book-cate\">\n",
      "        <ul>\n",
      "          <li class=\"cate-label\">[流行]</li>\n",
      "            <li><a href=\"https://book.douban.com/tag/漫画\">漫画</a></li>\n",
      "            <li><a href=\"https://book.douban.com/tag/推理\">推理</a></li>\n",
      "            <li><a href=\"https://book.douban.com/tag/绘本\">绘本</a></li>\n",
      "            <li><a href=\"https://book.douban.com/tag/科幻\">科幻</a></li>\n",
      "            <li><a href=\"https://book.douban.com/tag/青春\">青春</a></li>\n",
      "            <li><a href=\"https://book.douban.com/tag/言情\">言情</a></li>\n",
      "            <li><a href=\"https://book.douban.com/tag/奇幻\">奇幻</a></li>\n",
      "            <li><a href=\"https://book.douban.com/tag/武侠\">武侠</a></li>\n",
      "            <li><a href=\"https://book.douban.com/tag/?view=type#流行\">更多</a></li>\n",
      "        </ul>\n",
      "      </div>\n",
      "      <div class=\"cate book-cate\">\n",
      "        <ul>\n",
      "          <li class=\"cate-label\">[文化]</li>\n",
      "            <li><a href=\"https://book.douban.com/tag/历史\">历史</a></li>\n",
      "            <li><a href=\"https://book.douban.com/tag/哲学\">哲学</a></li>\n",
      "            <li><a href=\"https://book.douban.com/tag/传记\">传记</a></li>\n",
      "            <li><a href=\"https://book.douban.com/tag/设计\">设计</a></li>\n",
      "            <li><a href=\"https://book.douban.com/tag/电影\">电影</a></li>\n",
      "            <li><a href=\"https://book.douban.com/tag/建筑\">建筑</a></li>\n",
      "            <li><a href=\"https://book.douban.com/tag/回忆录\">回忆录</a></li>\n",
      "            <li><a href=\"https://book.douban.com/tag/音乐\">音乐</a></li>\n",
      "            <li><a href=\"https://book.douban.com/tag/?view=type#文化\">更多</a></li>\n",
      "        </ul>\n",
      "      </div>\n",
      "      <div class=\"cate book-cate\">\n",
      "        <ul>\n",
      "          <li class=\"cate-label\">[生活]</li>\n",
      "            <li><a href=\"https://book.douban.com/tag/旅行\">旅行</a></li>\n",
      "            <li><a href=\"https://book.douban.com/tag/励志\">励志</a></li>\n",
      "            <li><a href=\"https://book.douban.com/tag/教育\">教育</a></li>\n",
      "            <li><a href=\"https://book.douban.com/tag/职场\">职场</a></li>\n",
      "            <li><a href=\"https://book.douban.com/tag/美食\">美食</a></li>\n",
      "            <li><a href=\"https://book.douban.com/tag/健康\">健康</a></li>\n",
      "            <li><a href=\"https://book.douban.com/tag/灵修\">灵修</a></li>\n",
      "            <li><a href=\"https://book.douban.com/tag/家居\">家居</a></li>\n",
      "            <li><a href=\"https://book.douban.com/tag/?view=type#生活\">更多</a></li>\n",
      "        </ul>\n",
      "      </div>\n",
      "      <div class=\"cate book-cate\">\n",
      "        <ul>\n",
      "          <li class=\"cate-label\">[经管]</li>\n",
      "            <li><a href=\"https://book.douban.com/tag/经济学\">经济学</a></li>\n",
      "            <li><a href=\"https://book.douban.com/tag/管理\">管理</a></li>\n",
      "            <li><a href=\"https://book.douban.com/tag/商业\">商业</a></li>\n",
      "            <li><a href=\"https://book.douban.com/tag/金融\">金融</a></li>\n",
      "            <li><a href=\"https://book.douban.com/tag/营销\">营销</a></li>\n",
      "            <li><a href=\"https://book.douban.com/tag/理财\">理财</a></li>\n",
      "            <li><a href=\"https://book.douban.com/tag/股票\">股票</a></li>\n",
      "            <li><a href=\"https://book.douban.com/tag/企业史\">企业史</a></li>\n",
      "            <li><a href=\"https://book.douban.com/tag/?view=type#经管\">更多</a></li>\n",
      "        </ul>\n",
      "      </div>\n",
      "      <div class=\"cate book-cate\">\n",
      "        <ul>\n",
      "          <li class=\"cate-label\">[科技]</li>\n",
      "            <li><a href=\"https://book.douban.com/tag/科普\">科普</a></li>\n",
      "            <li><a href=\"https://book.douban.com/tag/互联网\">互联网</a></li>\n",
      "            <li><a href=\"https://book.douban.com/tag/编程\">编程</a></li>\n",
      "            <li><a href=\"https://book.douban.com/tag/交互设计\">交互设计</a></li>\n",
      "            <li><a href=\"https://book.douban.com/tag/算法\">算法</a></li>\n",
      "            <li><a href=\"https://book.douban.com/tag/通信\">通信</a></li>\n",
      "            <li><a href=\"https://book.douban.com/tag/神经网络\">神经网络</a></li>\n",
      "            <li><a href=\"https://book.douban.com/tag/?view=type#科技\">更多</a></li>\n",
      "        </ul>\n",
      "      </div>\n",
      "    </div>\n",
      "  </div>\n",
      "</div>\n",
      "  <div class=\"main\">\n",
      "  \n",
      "  <div class=\"mod\">\n",
      "    \n",
      "    <h2>\n",
      "        新书速递\n",
      "            &nbsp;&middot;&nbsp;&middot;&nbsp;&middot;&nbsp;&middot;&nbsp;&middot;&nbsp;&middot;\n",
      "            <span class=\"pl\">&nbsp;(\n",
      "                \n",
      "                    <a href=\"https://book.douban.com/latest\" target=\"_self\">更多</a>\n",
      "                ) </span>\n",
      "    </h2>\n",
      "\n",
      "    <div class=\"book-list list\">\n",
      "      <ul>\n",
      "          <li>\n",
      "          <div class=\"pic\">\n",
      "              <a href=\"https://book.douban.com/subject/35574974/\"><img src=\"https://img1.doubanio.com/f/vendors/a1fdee122b95748d81cee426d717c05b5174fe96/pics/blank.gif\" data-origin=\"https://img3.doubanio.com/view/subject/m/public/s33997562.jpg\" alt=\"世界上最丑的女人\" /></a>\n",
      "          </div>\n",
      "          <div class=\"title\">\n",
      "            <a href=\"https://book.douban.com/subject/35574974/\" >世界上最丑的女...</a>\n",
      "          </div>\n",
      "          <div class=\"author\">[波兰] 奥尔...</div>\n",
      "          <a href=\"https://read.douban.com/reader/ebook/336703240/\" target=\"_blank\" class=\"bn-link\">免费试读</a>\n",
      "          <li>\n",
      "          <div class=\"pic\">\n",
      "              <a href=\"https://book.douban.com/subject/35587436/\"><img src=\"https://img1.doubanio.com/f/vendors/a1fdee122b95748d81cee426d717c05b5174fe96/pics/blank.gif\" data-origin=\"https://img1.doubanio.com/view/subject/m/public/s33987410.jpg\" alt=\"天堂主题公园\" /></a>\n",
      "          </div>\n",
      "          <div class=\"title\">\n",
      "            <a href=\"https://book.douban.com/subject/35587436/\" >天堂主题公园</a>\n",
      "          </div>\n",
      "          <div class=\"author\">[美] 乔治·...</div>\n",
      "          <a href=\"https://read.douban.com/reader/ebook/394184467/\" target=\"_blank\" class=\"bn-link\">免费试读</a>\n",
      "          <li>\n",
      "          <div class=\"pic\">\n",
      "              <a href=\"https://book.douban.com/subject/35569015/\"><img src=\"https://img1.doubanio.com/f/vendors/a1fdee122b95748d81cee426d717c05b5174fe96/pics/blank.gif\" data-origin=\"https://img3.doubanio.com/view/subject/m/public/s33979742.jpg\" alt=\"忍不住想打扰你\" /></a>\n",
      "          </div>\n",
      "          <div class=\"title\">\n",
      "            <a href=\"https://book.douban.com/subject/35569015/\" >忍不住想打扰你...</a>\n",
      "          </div>\n",
      "          <div class=\"author\">bibi园长</div>\n",
      "          <a href=\"https://read.douban.com/reader/ebook/418128489/\" target=\"_blank\" class=\"bn-link\">免费试读</a>\n",
      "          <li>\n",
      "          <div class=\"pic\">\n",
      "              <a href=\"https://book.douban.com/subject/35581763/\"><img src=\"https://img1.doubanio.com/f/vendors/a1fdee122b95748d81cee426d717c05b5174fe96/pics/blank.gif\" data-origin=\"https://img1.doubanio.com/view/subject/m/public/s33983628.jpg\" alt=\"十二月十日\" /></a>\n",
      "          </div>\n",
      "          <div class=\"title\">\n",
      "            <a href=\"https://book.douban.com/subject/35581763/\" >十二月十日</a>\n",
      "          </div>\n",
      "          <div class=\"author\">[美] 乔治·...</div>\n",
      "          <a href=\"https://read.douban.com/reader/ebook/394678347/\" target=\"_blank\" class=\"bn-link\">免费试读</a>\n",
      "      </ul>\n",
      "    </div>\n",
      "  </div>\n",
      "\n",
      "  <div class=\"mod\">\n",
      "    \n",
      "    <h2>\n",
      "        原创数字作品\n",
      "            &nbsp;&middot;&nbsp;&middot;&nbsp;&middot;&nbsp;&middot;&nbsp;&middot;&nbsp;&middot;\n",
      "            <span class=\"pl\">&nbsp;(\n",
      "                \n",
      "                    <a href=\"https://read.douban.com\" target=\"_self\">更多</a>\n",
      "                ) </span>\n",
      "    </h2>\n",
      "\n",
      "    <div class=\"book-list list\">\n",
      "      <ul>\n",
      "        <li>\n",
      "        <div class=\"pic\">\n",
      "            <a href=\"https://read.douban.com/ebook/419040148\" target=\"_blank\"><img src=\"https://img1.doubanio.com/f/vendors/a1fdee122b95748d81cee426d717c05b5174fe96/pics/blank.gif\" data-origin=\"https://pic.arkread.com/cover/column/u/63732102.1676269900.jpg!cover_upload.jpg\" alt=\"盲警\" /></a>\n",
      "        </div>\n",
      "        <div class=\"title\">\n",
      "          <a href=\"https://read.douban.com/ebook/419040148\" target=\"_blank\">盲警</a>\n",
      "        </div>\n",
      "        <div class=\"author\"></div>\n",
      "        <div class=\"price\">\n",
      "            8.60元\n",
      "        </div>\n",
      "        <a href=\"https://read.douban.com/reader/column/63732102/chapter/419043014/\" target=\"_blank\" class=\"bn-link\">免费试读</a>\n",
      "        <li>\n",
      "        <div class=\"pic\">\n",
      "            <a href=\"https://read.douban.com/ebook/418916983\" target=\"_blank\"><img src=\"https://img1.doubanio.com/f/vendors/a1fdee122b95748d81cee426d717c05b5174fe96/pics/blank.gif\" data-origin=\"https://pic.arkread.com/cover/column/u/63723451.1676253244.jpg!cover_upload.jpg\" alt=\"春缠树\" /></a>\n",
      "        </div>\n",
      "        <div class=\"title\">\n",
      "          <a href=\"https://read.douban.com/ebook/418916983\" target=\"_blank\">春缠树</a>\n",
      "        </div>\n",
      "        <div class=\"author\"></div>\n",
      "        <div class=\"price\">\n",
      "            3.15元\n",
      "        </div>\n",
      "        <a href=\"https://read.douban.com/reader/column/63723451/chapter/418917186/\" target=\"_blank\" class=\"bn-link\">免费试读</a>\n",
      "        <li>\n",
      "        <div class=\"pic\">\n",
      "            <a href=\"https://read.douban.com/ebook/418846988\" target=\"_blank\"><img src=\"https://img1.doubanio.com/f/vendors/a1fdee122b95748d81cee426d717c05b5174fe96/pics/blank.gif\" data-origin=\"https://pic.arkread.com/cover/column/u/63717097.1676256863.jpg!cover_upload.jpg\" alt=\"她的八零九零年代\" /></a>\n",
      "        </div>\n",
      "        <div class=\"title\">\n",
      "          <a href=\"https://read.douban.com/ebook/418846988\" target=\"_blank\">她的八零九零年...</a>\n",
      "        </div>\n",
      "        <div class=\"author\"></div>\n",
      "        <div class=\"price\">\n",
      "            6.80元\n",
      "        </div>\n",
      "        <a href=\"https://read.douban.com/reader/column/63717097/chapter/418847073/\" target=\"_blank\" class=\"bn-link\">免费试读</a>\n",
      "        <li>\n",
      "        <div class=\"pic\">\n",
      "            <a href=\"https://read.douban.com/ebook/418975338\" target=\"_blank\"><img src=\"https://img1.doubanio.com/f/vendors/a1fdee122b95748d81cee426d717c05b5174fe96/pics/blank.gif\" data-origin=\"https://pic.arkread.com/cover/column/u/63727725.1676857354.jpg!cover_upload.jpg\" alt=\"脸盘大有福\" /></a>\n",
      "        </div>\n",
      "        <div class=\"title\">\n",
      "          <a href=\"https://read.douban.com/ebook/418975338\" target=\"_blank\">脸盘大有福</a>\n",
      "        </div>\n",
      "        <div class=\"author\"></div>\n",
      "        <div class=\"price\">\n",
      "            6.50元\n",
      "        </div>\n",
      "        <a href=\"https://read.douban.com/reader/column/63727725/chapter/418975463/\" target=\"_blank\" class=\"bn-link\">免费试读</a>\n",
      "      </ul>\n",
      "    </div>\n",
      "  </div>\n",
      "</div>\n",
      "  </div>\n",
      "  \n",
      "</div>\n",
      "\n",
      "\n",
      "\n",
      "\n",
      "\n",
      "\n",
      "\n",
      "\n",
      "    \n",
      "<div id=\"anony-music\" class=\"section\">\n",
      "  <div class=\"wrapper\">\n",
      "  \n",
      "  \n",
      "  <div class=\"sidenav\">\n",
      "    <h2 class=\"section-title\"><a href=\"https://music.douban.com\">音乐</a></h2>\n",
      "    \n",
      "  \n",
      "  <div class=\"side-links nav-anon\">\n",
      "      <ul>\n",
      "                          \n",
      "                 <li><a href=\"https://music.douban.com/topics/\">专题</a></li>\n",
      "             \n",
      "                 <li><a href=\"https://music.douban.com/review/latest/\">乐评</a></li>\n",
      "             \n",
      "                 <li><a href=\"https://fm.douban.com/?from_=music_nav\">豆瓣FM</a></li>\n",
      "             \n",
      "                 <li><a href=\"https://artist.douban.com/abilu/\">阿比鹿音乐奖</a></li>\n",
      "\n",
      "      \n",
      "      </ul>\n",
      "  </div>\n",
      "\n",
      "    \n",
      "\n",
      "\n",
      "    <div class=\"apps-list\">\n",
      "    <ul>\n",
      "        <li>\n",
      "            <a href=\"https://fm.douban.com?from_=shire_anonymous_home\" class=\"lnk-icon\">\n",
      "                <i class=\"app-icon app-icon-fm\"></i>\n",
      "            </a>\n",
      "            <div><a href=\"https://fm.douban.com?from_=shire_anonymous_home\">豆瓣FM</a></div>\n",
      "        </li>\n",
      "    </ul>\n",
      "    </div>\n",
      "\n",
      "  </div>\n",
      "\n",
      "  <div class=\"side\">\n",
      "  <div class=\"mod\">\n",
      "    \n",
      "    \n",
      "    <h2>\n",
      "        热门标签\n",
      "            &nbsp;&middot;&nbsp;&middot;&nbsp;&middot;&nbsp;&middot;&nbsp;&middot;&nbsp;&middot;\n",
      "            <span class=\"pl\">&nbsp;(\n",
      "                \n",
      "                    <a href=\"https://music.douban.com/tag/\" target=\"_self\">更多</a>\n",
      "                ) </span>\n",
      "    </h2>\n",
      "\n",
      "    <div class=\"music-cate-mod\">\n",
      "      \n",
      "\n",
      "      <div class=\"cate book-cate\">\n",
      "        <ul>\n",
      "          <li class=\"cate-label\">&#91;风格&#93;</li>\n",
      "          \n",
      "            <li><a href=\"https://music.douban.com/tag/OST\" target=\"_blank\">OST</a></li>\n",
      "            <li><a href=\"https://music.douban.com/tag/流行\" target=\"_blank\">流行</a></li>\n",
      "            <li><a href=\"https://music.douban.com/tag/民谣\" target=\"_blank\">民谣</a></li>\n",
      "            <li><a href=\"https://music.douban.com/tag/pop\" target=\"_blank\">pop</a></li>\n",
      "            <li><a href=\"https://music.douban.com/tag/indie\" target=\"_blank\">indie</a></li>\n",
      "            <li><a href=\"https://music.douban.com/tag/Electronic\" target=\"_blank\">Electronic</a></li>\n",
      "            <li><a href=\"https://music.douban.com/tag/Folk\" target=\"_blank\">Folk</a></li>\n",
      "            <li><a href=\"https://music.douban.com/tag/摇滚\" target=\"_blank\">摇滚</a></li>\n",
      "            <li><a href=\"https://music.douban.com/tag/J-POP\" target=\"_blank\">J-POP</a></li>\n",
      "            <li><a href=\"https://music.douban.com/tag/电影原声\" target=\"_blank\">电影原声</a></li>\n",
      "            <li><a href=\"https://music.douban.com/tag/rock\" target=\"_blank\">rock</a></li>\n",
      "            <li><a href=\"https://music.douban.com/tag/R&amp;B\" target=\"_blank\">R&amp;B</a></li>\n",
      "            <li><a href=\"https://music.douban.com/tag/JPOP\" target=\"_blank\">JPOP</a></li>\n",
      "            <li><a href=\"https://music.douban.com/tag/post-rock\" target=\"_blank\">post-rock</a></li>\n",
      "            <li><a href=\"https://music.douban.com/tag/jazz\" target=\"_blank\">jazz</a></li>\n",
      "            <li><a href=\"https://music.douban.com/tag/独立音乐\" target=\"_blank\">独立音乐</a></li>\n",
      "            <li><a href=\"https://music.douban.com/tag/电子\" target=\"_blank\">电子</a></li>\n",
      "            <li><a href=\"https://music.douban.com/tag/中国摇滚\" target=\"_blank\">中国摇滚</a></li>\n",
      "            <li><a href=\"https://music.douban.com/tag/纯音乐\" target=\"_blank\">纯音乐</a></li>\n",
      "            <li><a href=\"https://music.douban.com/tag/经典\" target=\"_blank\">经典</a></li>\n",
      "        </ul>\n",
      "      </div>\n",
      "      \n",
      "\n",
      "      <div class=\"cate book-cate\">\n",
      "        <ul>\n",
      "          <li class=\"cate-label\">&#91;地区/语言&#93;</li>\n",
      "          \n",
      "            <li><a href=\"https://music.douban.com/tag/日本\" target=\"_blank\">日本</a></li>\n",
      "            <li><a href=\"https://music.douban.com/tag/台湾\" target=\"_blank\">台湾</a></li>\n",
      "            <li><a href=\"https://music.douban.com/tag/华语\" target=\"_blank\">华语</a></li>\n",
      "            <li><a href=\"https://music.douban.com/tag/欧美\" target=\"_blank\">欧美</a></li>\n",
      "            <li><a href=\"https://music.douban.com/tag/美国\" target=\"_blank\">美国</a></li>\n",
      "            <li><a href=\"https://music.douban.com/tag/内地\" target=\"_blank\">内地</a></li>\n",
      "            <li><a href=\"https://music.douban.com/tag/英国\" target=\"_blank\">英国</a></li>\n",
      "            <li><a href=\"https://music.douban.com/tag/香港\" target=\"_blank\">香港</a></li>\n",
      "            <li><a href=\"https://music.douban.com/tag/韩国\" target=\"_blank\">韩国</a></li>\n",
      "            <li><a href=\"https://music.douban.com/tag/UK\" target=\"_blank\">UK</a></li>\n",
      "            <li><a href=\"https://music.douban.com/tag/粤语\" target=\"_blank\">粤语</a></li>\n",
      "            <li><a href=\"https://music.douban.com/tag/大陆\" target=\"_blank\">大陆</a></li>\n",
      "            <li><a href=\"https://music.douban.com/tag/US\" target=\"_blank\">US</a></li>\n",
      "            <li><a href=\"https://music.douban.com/tag/法国\" target=\"_blank\">法国</a></li>\n",
      "            <li><a href=\"https://music.douban.com/tag/华语音乐\" target=\"_blank\">华语音乐</a></li>\n",
      "            <li><a href=\"https://music.douban.com/tag/港台\" target=\"_blank\">港台</a></li>\n",
      "            <li><a href=\"https://music.douban.com/tag/德国\" target=\"_blank\">德国</a></li>\n",
      "            <li><a href=\"https://music.douban.com/tag/英伦\" target=\"_blank\">英伦</a></li>\n",
      "            <li><a href=\"https://music.douban.com/tag/国语\" target=\"_blank\">国语</a></li>\n",
      "            <li><a href=\"https://music.douban.com/tag/瑞典\" target=\"_blank\">瑞典</a></li>\n",
      "        </ul>\n",
      "      </div>\n",
      "      \n",
      "\n",
      "      <div class=\"cate book-cate\">\n",
      "        <ul>\n",
      "          <li class=\"cate-label\">&#91;艺术家&#93;</li>\n",
      "          \n",
      "            <li><a href=\"https://music.douban.com/tag/周杰伦\" target=\"_blank\">周杰伦</a></li>\n",
      "            <li><a href=\"https://music.douban.com/tag/王菲\" target=\"_blank\">王菲</a></li>\n",
      "            <li><a href=\"https://music.douban.com/tag/陈奕迅\" target=\"_blank\">陈奕迅</a></li>\n",
      "            <li><a href=\"https://music.douban.com/tag/孙燕姿\" target=\"_blank\">孙燕姿</a></li>\n",
      "            <li><a href=\"https://music.douban.com/tag/五月天\" target=\"_blank\">五月天</a></li>\n",
      "            <li><a href=\"https://music.douban.com/tag/陈绮贞\" target=\"_blank\">陈绮贞</a></li>\n",
      "            <li><a href=\"https://music.douban.com/tag/苏打绿\" target=\"_blank\">苏打绿</a></li>\n",
      "            <li><a href=\"https://music.douban.com/tag/梁静茹\" target=\"_blank\">梁静茹</a></li>\n",
      "            <li><a href=\"https://music.douban.com/tag/Coldplay\" target=\"_blank\">Coldplay</a></li>\n",
      "            <li><a href=\"https://music.douban.com/tag/久石让\" target=\"_blank\">久石让</a></li>\n",
      "            <li><a href=\"https://music.douban.com/tag/张悬\" target=\"_blank\">张悬</a></li>\n",
      "            <li><a href=\"https://music.douban.com/tag/椎名林檎\" target=\"_blank\">椎名林檎</a></li>\n",
      "            <li><a href=\"https://music.douban.com/tag/Beethoven\" target=\"_blank\">Beethoven</a></li>\n",
      "            <li><a href=\"https://music.douban.com/tag/窦唯\" target=\"_blank\">窦唯</a></li>\n",
      "            <li><a href=\"https://music.douban.com/tag/蔡健雅\" target=\"_blank\">蔡健雅</a></li>\n",
      "            <li><a href=\"https://music.douban.com/tag/林俊杰\" target=\"_blank\">林俊杰</a></li>\n",
      "            <li><a href=\"https://music.douban.com/tag/莫文蔚\" target=\"_blank\">莫文蔚</a></li>\n",
      "            <li><a href=\"https://music.douban.com/tag/Bach\" target=\"_blank\">Bach</a></li>\n",
      "            <li><a href=\"https://music.douban.com/tag/Jay\" target=\"_blank\">Jay</a></li>\n",
      "            <li><a href=\"https://music.douban.com/tag/范晓萱\" target=\"_blank\">范晓萱</a></li>\n",
      "        </ul>\n",
      "      </div>\n",
      "    </div>\n",
      "  </div>\n",
      "</div>\n",
      "  <div class=\"main\">\n",
      "\n",
      "  \n",
      "    \n",
      "    <h2>\n",
      "        豆瓣新碟榜\n",
      "            &nbsp;&middot;&nbsp;&middot;&nbsp;&middot;&nbsp;&middot;&nbsp;&middot;&nbsp;&middot;\n",
      "            <span class=\"pl\">&nbsp;(\n",
      "                \n",
      "                    <a href=\"https://music.douban.com#new1\" target=\"_self\">更多</a>\n",
      "                ) </span>\n",
      "    </h2>\n",
      "\n",
      "    <div class=\"album-list list\">\n",
      "      <ul>\n",
      "          <li>\n",
      "            <div class=\"pic\">\n",
      "              <a href=\"https://music.douban.com/subject/37448993/\" target=\"_blank\">\n",
      "                <img src=\"https://img1.doubanio.com/f/vendors/a1fdee122b95748d81cee426d717c05b5174fe96/pics/blank.gif\" data-origin=\"https://img3.doubanio.com/view/subject/s/public/s35209833.jpg\" alt=\"跟着感觉走\" style=\"width: 80px; max-height: 120px;\"/>\n",
      "              </a>\n",
      "            </div>\n",
      "            <div class=\"title\">\n",
      "              1. <a href=\"https://music.douban.com/subject/37448993/\" target=\"_blank\">跟着感觉走</a>\n",
      "            </div>\n",
      "            <div class=\"artist\">\n",
      "              \n",
      "              <a href=\"https://music.douban.com/subject_search?search_text=%E5%BC%A0%E9%9C%87%E5%B2%B3+Ayal+Komod\" target=\"_blank\">张震岳 Ayal Komod</a>\n",
      "            </div>\n",
      "            <div class=\"rating\">\n",
      "              <span class=\"allstar00\"></span><i></i>\n",
      "            </div>\n",
      "          </li>\n",
      "          <li>\n",
      "            <div class=\"pic\">\n",
      "              <a href=\"https://music.douban.com/subject/37472901/\" target=\"_blank\">\n",
      "                <img src=\"https://img1.doubanio.com/f/vendors/a1fdee122b95748d81cee426d717c05b5174fe96/pics/blank.gif\" data-origin=\"https://img1.doubanio.com/view/subject/s/public/s35223618.jpg\" alt=\"QUIT QUIETLY\" style=\"width: 80px; max-height: 120px;\"/>\n",
      "              </a>\n",
      "            </div>\n",
      "            <div class=\"title\">\n",
      "              2. <a href=\"https://music.douban.com/subject/37472901/\" target=\"_blank\">QUIT QUIETLY</a>\n",
      "            </div>\n",
      "            <div class=\"artist\">\n",
      "              \n",
      "              <a href=\"https://music.douban.com/subject_search?search_text=%E8%90%BD%E6%97%A5%E9%A3%9E%E8%BD%A6\" target=\"_blank\">落日飞车</a>\n",
      "            </div>\n",
      "            <div class=\"rating\">\n",
      "              <span class=\"allstar00\"></span><i></i>\n",
      "            </div>\n",
      "          </li>\n",
      "          <li>\n",
      "            <div class=\"pic\">\n",
      "              <a href=\"https://music.douban.com/subject/37457170/\" target=\"_blank\">\n",
      "                <img src=\"https://img1.doubanio.com/f/vendors/a1fdee122b95748d81cee426d717c05b5174fe96/pics/blank.gif\" data-origin=\"https://img9.doubanio.com/view/subject/s/public/s35214315.jpg\" alt=\"Apples of Thy Eye\" style=\"width: 80px; max-height: 120px;\"/>\n",
      "              </a>\n",
      "            </div>\n",
      "            <div class=\"title\">\n",
      "              3. <a href=\"https://music.douban.com/subject/37457170/\" target=\"_blank\">Apples of Thy Eye</a>\n",
      "            </div>\n",
      "            <div class=\"artist\">\n",
      "              \n",
      "              <a href=\"https://music.douban.com/subject_search?search_text=%E6%9E%97%E5%AE%A5%E5%98%89+Yoga+Lin\" target=\"_blank\">林宥嘉 Yoga Lin</a>\n",
      "            </div>\n",
      "            <div class=\"rating\">\n",
      "              <span class=\"allstar00\"></span><i></i>\n",
      "            </div>\n",
      "          </li>\n",
      "          <li>\n",
      "            <div class=\"pic\">\n",
      "              <a href=\"https://music.douban.com/subject/37465997/\" target=\"_blank\">\n",
      "                <img src=\"https://img1.doubanio.com/f/vendors/a1fdee122b95748d81cee426d717c05b5174fe96/pics/blank.gif\" data-origin=\"https://img9.doubanio.com/view/subject/s/public/s35219734.jpg\" alt=\"Vooid (2025)\" style=\"width: 80px; max-height: 120px;\"/>\n",
      "              </a>\n",
      "            </div>\n",
      "            <div class=\"title\">\n",
      "              4. <a href=\"https://music.douban.com/subject/37465997/\" target=\"_blank\">Vooid (2025)</a>\n",
      "            </div>\n",
      "            <div class=\"artist\">\n",
      "              \n",
      "              <a href=\"https://music.douban.com/subject_search?search_text=VOOID\" target=\"_blank\">VOOID</a>\n",
      "            </div>\n",
      "            <div class=\"rating\">\n",
      "              <span class=\"allstar00\"></span><i></i>\n",
      "            </div>\n",
      "          </li>\n",
      "          <li>\n",
      "            <div class=\"pic\">\n",
      "              <a href=\"https://music.douban.com/subject/37289475/\" target=\"_blank\">\n",
      "                <img src=\"https://img1.doubanio.com/f/vendors/a1fdee122b95748d81cee426d717c05b5174fe96/pics/blank.gif\" data-origin=\"https://img3.doubanio.com/view/subject/s/public/s35113712.jpg\" alt=\"Willoughby Tucker, I&#39;ll Always Love You\" style=\"width: 80px; max-height: 120px;\"/>\n",
      "              </a>\n",
      "            </div>\n",
      "            <div class=\"title\">\n",
      "              5. <a href=\"https://music.douban.com/subject/37289475/\" target=\"_blank\">Willoughby Tucker, I&#39;ll Always Love You</a>\n",
      "            </div>\n",
      "            <div class=\"artist\">\n",
      "              \n",
      "              <a href=\"https://music.douban.com/subject_search?search_text=Ethel+Cain\" target=\"_blank\">Ethel Cain</a>\n",
      "            </div>\n",
      "            <div class=\"rating\">\n",
      "              <span class=\"allstar00\"></span><i></i>\n",
      "            </div>\n",
      "          </li>\n",
      "          <li>\n",
      "            <div class=\"pic\">\n",
      "              <a href=\"https://music.douban.com/subject/37401706/\" target=\"_blank\">\n",
      "                <img src=\"https://img1.doubanio.com/f/vendors/a1fdee122b95748d81cee426d717c05b5174fe96/pics/blank.gif\" data-origin=\"https://img3.doubanio.com/view/subject/s/public/s35184853.jpg\" alt=\"Black Star\" style=\"width: 80px; max-height: 120px;\"/>\n",
      "              </a>\n",
      "            </div>\n",
      "            <div class=\"title\">\n",
      "              6. <a href=\"https://music.douban.com/subject/37401706/\" target=\"_blank\">Black Star</a>\n",
      "            </div>\n",
      "            <div class=\"artist\">\n",
      "              \n",
      "              <a href=\"https://music.douban.com/subject_search?search_text=Amaarae\" target=\"_blank\">Amaarae</a>\n",
      "            </div>\n",
      "            <div class=\"rating\">\n",
      "              <span class=\"allstar00\"></span><i></i>\n",
      "            </div>\n",
      "          </li>\n",
      "          <li>\n",
      "            <div class=\"pic\">\n",
      "              <a href=\"https://music.douban.com/subject/37442980/\" target=\"_blank\">\n",
      "                <img src=\"https://img1.doubanio.com/f/vendors/a1fdee122b95748d81cee426d717c05b5174fe96/pics/blank.gif\" data-origin=\"https://img1.doubanio.com/view/subject/s/public/s35209658.jpg\" alt=\"Soft Error\" style=\"width: 80px; max-height: 120px;\"/>\n",
      "              </a>\n",
      "            </div>\n",
      "            <div class=\"title\">\n",
      "              7. <a href=\"https://music.douban.com/subject/37442980/\" target=\"_blank\">Soft Error</a>\n",
      "            </div>\n",
      "            <div class=\"artist\">\n",
      "              \n",
      "              <a href=\"https://music.douban.com/subject_search?search_text=Yves\" target=\"_blank\">Yves</a>\n",
      "            </div>\n",
      "            <div class=\"rating\">\n",
      "              <span class=\"allstar00\"></span><i></i>\n",
      "            </div>\n",
      "          </li>\n",
      "          <li>\n",
      "            <div class=\"pic\">\n",
      "              <a href=\"https://music.douban.com/subject/37448937/\" target=\"_blank\">\n",
      "                <img src=\"https://img1.doubanio.com/f/vendors/a1fdee122b95748d81cee426d717c05b5174fe96/pics/blank.gif\" data-origin=\"https://img3.doubanio.com/view/subject/s/public/s35223762.jpg\" alt=\"Chaotic and Confused\" style=\"width: 80px; max-height: 120px;\"/>\n",
      "              </a>\n",
      "            </div>\n",
      "            <div class=\"title\">\n",
      "              8. <a href=\"https://music.douban.com/subject/37448937/\" target=\"_blank\">Chaotic and Confused</a>\n",
      "            </div>\n",
      "            <div class=\"artist\">\n",
      "              \n",
      "              <a href=\"https://music.douban.com/subject_search?search_text=SOMI\" target=\"_blank\">SOMI</a>\n",
      "            </div>\n",
      "            <div class=\"rating\">\n",
      "              <span class=\"allstar00\"></span><i></i>\n",
      "            </div>\n",
      "          </li>\n",
      "      </ul>\n",
      "    </div>\n",
      "</div>\n",
      "  </div>\n",
      "  \n",
      "</div>\n",
      "\n",
      "\n",
      "\n",
      "\n",
      "\n",
      "\n",
      "\n",
      "\n",
      "    \n",
      "<div id=\"anony-market\" class=\"section\">\n",
      "  <div class=\"wrapper\">\n",
      "  \n",
      "  \n",
      "<div class=\"sidenav\">\n",
      "  <h2 class=\"section-title\">\n",
      "    <a href=\"https://market.douban.com?dcs=anonymous-home-sidenav&amp;dcm=douban\">\n",
      "      豆品\n",
      "    </a>\n",
      "    <div class=\"link-container\">\n",
      "      <ul>\n",
      "        <li>\n",
      "          <a href=\"https://market.douban.com/categories/?name=all&amp;halfhill_content=%E5%85%A8%E9%83%A8%E5%95%86%E5%93%81&amp;dt_market_source=pc&amp;classify_pos=2&amp;halfhill_business=1&amp;halfhill_category=pcdp_classify&amp;halfhill_index=1\">\n",
      "            全部商品\n",
      "          </a>\n",
      "        </li>\n",
      "        <li>\n",
      "          <a href=\"https://market.douban.com/categories/?name=classic&amp;halfhill_content=%E8%B1%86%E7%93%A3%E7%BB%8F%E5%85%B8&amp;dt_market_source=pc&amp;classify_pos=2&amp;halfhill_business=1&amp;halfhill_category=pcdp_classify&amp;halfhill_index=2\">\n",
      "            豆瓣经典\n",
      "          </a>\n",
      "        </li>\n",
      "        <li>\n",
      "          <a href=\"https://market.douban.com/categories/?name=homelife&amp;halfhill_content=%E5%AE%B6%E5%B1%85%E7%94%9F%E6%B4%BB&amp;dt_market_source=pc&amp;classify_pos=2&amp;halfhill_business=1&amp;halfhill_category=pcdp_classify&amp;halfhill_index=3\">\n",
      "            家居生活\n",
      "          </a>\n",
      "        </li>\n",
      "        <li>\n",
      "          <a href=\"https://market.douban.com/categories/?name=travel&amp;halfhill_content=%E5%A4%96%E5%87%BA%E6%97%85%E8%A1%8C&amp;dt_market_source=pc&amp;classify_pos=2&amp;halfhill_business=1&amp;halfhill_category=dp_classify&amp;halfhill_index=4\">\n",
      "            外出旅行\n",
      "          </a>\n",
      "        </li>\n",
      "        <li>\n",
      "          <a href=\"https://market.douban.com/categories/?name=stationery&amp;halfhill_content=%E6%96%87%E5%85%B7%E5%B0%8F%E7%89%A9&amp;dt_market_source=pc&amp;classify_pos=2&amp;halfhill_business=1&amp;halfhill_category=dp_classify&amp;halfhill_index=5\">\n",
      "            文具小物\n",
      "          </a>\n",
      "        </li>\n",
      "      </ul>\n",
      "    </div>\n",
      "  </h2>\n",
      "</div>\n",
      "\n",
      "  <div class=\"side\">\n",
      "<div class=\"mod\">\n",
      "  \n",
      "    <h2>\n",
      "        热门活动\n",
      "            &nbsp;&middot;&nbsp;&middot;&nbsp;&middot;&nbsp;&middot;&nbsp;&middot;&nbsp;&middot;\n",
      "    </h2>\n",
      "\n",
      "  <ul class=\"market-topics\">\n",
      "      <li class=\"market-topic-item\" >\n",
      "        <a href=\"https://www.douban.com/gallery/topic/3397144/?dcm=douban&dcs=anonymous-home-topic\"\n",
      "          target=\"_blank\">\n",
      "          <div class=\"market-topic-pic\"\n",
      "            style=\"background-image:url(https://img1.doubanio.com/img/files/file-1683473403-0.jpg)\">\n",
      "          </div>\n",
      "        </a>\n",
      "        <p class=\"market-topic-footer\">\n",
      "          <a href=\"https://www.douban.com/gallery/topic/3397144/?dcm=douban&dcs=anonymous-home-topic\"\n",
      "            target=\"_blank\">\n",
      "          分享你看过的电影中最触动你的台词\n",
      "          </a>\n",
      "        </p>\n",
      "      </li>\n",
      "  </ul>\n",
      "</div>\n",
      "\n",
      "  <div class=\"mod\">\n",
      "    \n",
      "    <h2>\n",
      "        官方小组\n",
      "            &nbsp;&middot;&nbsp;&middot;&nbsp;&middot;&nbsp;&middot;&nbsp;&middot;&nbsp;&middot;\n",
      "            <span class=\"pl\">&nbsp;(\n",
      "                \n",
      "                    <a href=\"https://www.douban.com/group/588598?dcs=anonymous-home-more-shops&amp;dcm=douban#hot-shop-wrapper\" target=\"_self\">更多</a>\n",
      "                ) </span>\n",
      "    </h2>\n",
      "\n",
      "    <ul class=\"market-group-topics\">\n",
      "        <li>\n",
      "          <p class=\"market-group-topic-title\">\n",
      "            <a href=\"https://www.douban.com/group/topic/291586504?dcm=douban&dcs=anonymous-home-group\"\n",
      "              target=\"_blank\">\n",
      "              原来打败我的不是天真，是天真热\n",
      "            </a>\n",
      "          </p>\n",
      "          <p class=\"market-group-topic-footer\">\n",
      "            <span class=\"market-group-topic-date\">\n",
      "              07-12\n",
      "            </span>\n",
      "            <span class=\"market-group-topic-amount\">\n",
      "              0 人参与\n",
      "            </span>\n",
      "          </p>\n",
      "        </li>\n",
      "        <li>\n",
      "          <p class=\"market-group-topic-title\">\n",
      "            <a href=\"https://www.douban.com/group/topic/289244928?dcm=douban&dcs=anonymous-home-group\"\n",
      "              target=\"_blank\">\n",
      "              打工人t恤「我是白」插画师联名款现货开售\n",
      "            </a>\n",
      "          </p>\n",
      "          <p class=\"market-group-topic-footer\">\n",
      "            <span class=\"market-group-topic-date\">\n",
      "              05-28\n",
      "            </span>\n",
      "            <span class=\"market-group-topic-amount\">\n",
      "              0 人参与\n",
      "            </span>\n",
      "          </p>\n",
      "        </li>\n",
      "        <li>\n",
      "          <p class=\"market-group-topic-title\">\n",
      "            <a href=\"https://www.douban.com/group/topic/286573418?dcm=douban&dcs=anonymous-home-group\"\n",
      "              target=\"_blank\">\n",
      "              落花伴读 竹叶飘香 |「国家图书馆X豆瓣联名香薰」上新啦\n",
      "            </a>\n",
      "          </p>\n",
      "          <p class=\"market-group-topic-footer\">\n",
      "            <span class=\"market-group-topic-date\">\n",
      "              04-11\n",
      "            </span>\n",
      "            <span class=\"market-group-topic-amount\">\n",
      "              0 人参与\n",
      "            </span>\n",
      "          </p>\n",
      "        </li>\n",
      "    </ul>\n",
      "  </div>\n",
      "</div>\n",
      "  <div class=\"main\">\n",
      "  \n",
      "    <h2>\n",
      "        热卖商品\n",
      "            &nbsp;&middot;&nbsp;&middot;&nbsp;&middot;&nbsp;&middot;&nbsp;&middot;&nbsp;&middot;\n",
      "            <span class=\"pl\">&nbsp;(\n",
      "                \n",
      "                    <a href=\"https://market.douban.com?dcs=anonymous-home-more-skus&amp;dcm=douban\" target=\"_self\">更多</a>\n",
      "                ) </span>\n",
      "    </h2>\n",
      "\n",
      "  <ul class=\"market-spu-list\">\n",
      "      \n",
      "      <li class=\"main-sku\">\n",
      "        <a href=\"https://shiji.douban.com/detail/178545/?dcm=douban&dcs=anonymous-home-spu\"\n",
      "          target=\"_blank\">\n",
      "          <div class=\"market-spu-pic\"\n",
      "            style=\"background-image: url(https://img1.doubanio.com/img/files/file-1683536915-0.jpg)\">\n",
      "          </div>\n",
      "        </a>\n",
      "        <div class=\"market-spu-footer\">\n",
      "          <span class=\"market-spu-price\">\n",
      "            ￥39\n",
      "          </span>\n",
      "          <a href=\"https://shiji.douban.com/detail/178545/?dcm=douban&dcs=anonymous-home-spu\"\n",
      "            target=\"_blank\"\n",
      "            class=\"market-spu-title\">\n",
      "            豆瓣金属中性笔\n",
      "          </a>\n",
      "        </div>\n",
      "    </li>\n",
      "      \n",
      "      <li class=\"main-sku\">\n",
      "        <a href=\"https://shiji.douban.com/detail/178388/?dcm=douban&dcs=anonymous-home-spu\"\n",
      "          target=\"_blank\">\n",
      "          <div class=\"market-spu-pic\"\n",
      "            style=\"background-image: url(https://img1.doubanio.com/img/files/file-1683536948-0.jpg)\">\n",
      "          </div>\n",
      "        </a>\n",
      "        <div class=\"market-spu-footer\">\n",
      "          <span class=\"market-spu-price\">\n",
      "            ￥69\n",
      "          </span>\n",
      "          <a href=\"https://shiji.douban.com/detail/178388/?dcm=douban&dcs=anonymous-home-spu\"\n",
      "            target=\"_blank\"\n",
      "            class=\"market-spu-title\">\n",
      "            豆瓣小组组学T恤\n",
      "          </a>\n",
      "        </div>\n",
      "    </li>\n",
      "      \n",
      "      <li class=\"main-sku\">\n",
      "        <a href=\"https://shiji.douban.com/detail/178199/?dcm=douban&dcs=anonymous-home-spu\"\n",
      "          target=\"_blank\">\n",
      "          <div class=\"market-spu-pic\"\n",
      "            style=\"background-image: url(https://img1.doubanio.com/img/files/file-1683537103-0.jpg)\">\n",
      "          </div>\n",
      "        </a>\n",
      "        <div class=\"market-spu-footer\">\n",
      "          <span class=\"market-spu-price\">\n",
      "            ￥98\n",
      "          </span>\n",
      "          <a href=\"https://shiji.douban.com/detail/178199/?dcm=douban&dcs=anonymous-home-spu\"\n",
      "            target=\"_blank\"\n",
      "            class=\"market-spu-title\">\n",
      "            豆瓣x飞跃帆布鞋2.0\n",
      "          </a>\n",
      "        </div>\n",
      "    </li>\n",
      "      \n",
      "      <li class=\"main-sku\">\n",
      "        <a href=\"https://shiji.douban.com/detail/176956/?dcm=douban&dcs=anonymous-home-spu\"\n",
      "          target=\"_blank\">\n",
      "          <div class=\"market-spu-pic\"\n",
      "            style=\"background-image: url(https://img1.doubanio.com/img/files/file-1683537134-0.jpg)\">\n",
      "          </div>\n",
      "        </a>\n",
      "        <div class=\"market-spu-footer\">\n",
      "          <span class=\"market-spu-price\">\n",
      "            ￥59\n",
      "          </span>\n",
      "          <a href=\"https://shiji.douban.com/detail/176956/?dcm=douban&dcs=anonymous-home-spu\"\n",
      "            target=\"_blank\"\n",
      "            class=\"market-spu-title\">\n",
      "            豆瓣艺术T恤\n",
      "          </a>\n",
      "        </div>\n",
      "    </li>\n",
      "    </ul>\n",
      "</div>\n",
      "  </div>\n",
      "  \n",
      "</div>\n",
      "\n",
      "\n",
      "\n",
      "\n",
      "\n",
      "\n",
      "\n",
      "\n",
      "    \n",
      "<div id=\"anony-events\" class=\"section\">\n",
      "  <div class=\"wrapper\">\n",
      "  \n",
      "  \n",
      "<div class=\"sidenav\">\n",
      "  <h2 class=\"section-title\"><a href=\"https://www.douban.com/location/\">同城</a></h2>\n",
      "  \n",
      "  \n",
      "  <div class=\"side-links nav-anon\">\n",
      "      <ul>\n",
      "        \n",
      "  \n",
      "    \n",
      "    <li>\n",
      "        <a\n",
      "        href=\"https://www.douban.com/location/zhengzhou/events\">近期活动</a>\n",
      "    </li>\n",
      "    \n",
      "    <li>\n",
      "        <a\n",
      "        href=\"https://www.douban.com/location/zhengzhou/hosts\">主办方</a>\n",
      "    </li>\n",
      "    \n",
      "    <li>\n",
      "        <a\n",
      "        href=\"https://www.douban.com/location/drama/\">舞台剧</a>\n",
      "    </li>\n",
      "\n",
      "\n",
      "      \n",
      "      </ul>\n",
      "  </div>\n",
      "\n",
      "  \n",
      "\n",
      "\n",
      "    <div class=\"apps-list\">\n",
      "    <ul>\n",
      "    </ul>\n",
      "    </div>\n",
      "\n",
      "</div>\n",
      "\n",
      "  <div class=\"side\">\n",
      "\n",
      "<div class=\"mod\">\n",
      "\n",
      "    <h2>\n",
      "        活动标签\n",
      "            &nbsp;&middot;&nbsp;&middot;&nbsp;&middot;&nbsp;&middot;&nbsp;&middot;&nbsp;&middot;\n",
      "    </h2>\n",
      "\n",
      "<div class=\"cate events-cate\">\n",
      "  <ul>\n",
      "  <li class=\"cate-label\"><a href=\"https://www.douban.com/location/zhengzhou/events/week-music\">音乐&raquo;</a></li>\n",
      "    <li><a href=\"https://www.douban.com/location/zhengzhou/events/week-1001\">小型现场</a></li>\n",
      "    <li><a href=\"https://www.douban.com/location/zhengzhou/events/week-1002\">音乐会</a></li>\n",
      "    <li><a href=\"https://www.douban.com/location/zhengzhou/events/week-1003\">演唱会</a></li>\n",
      "    <li><a href=\"https://www.douban.com/location/zhengzhou/events/week-1004\">音乐节</a></li>\n",
      "  </ul>\n",
      "</div>\n",
      "<div class=\"cate events-cate\">\n",
      "  <ul>\n",
      "  <li class=\"cate-label\"><a href=\"https://www.douban.com/location/zhengzhou/events/week-drama\">戏剧&raquo;</a></li>\n",
      "    <li><a href=\"https://www.douban.com/location/zhengzhou/events/week-1101\">话剧</a></li>\n",
      "    <li><a href=\"https://www.douban.com/location/zhengzhou/events/week-1102\">音乐剧</a></li>\n",
      "    <li><a href=\"https://www.douban.com/location/zhengzhou/events/week-1103\">舞剧</a></li>\n",
      "    <li><a href=\"https://www.douban.com/location/zhengzhou/events/week-1104\">歌剧</a></li>\n",
      "    <li><a href=\"https://www.douban.com/location/zhengzhou/events/week-1105\">戏曲</a></li>\n",
      "    <li><a href=\"https://www.douban.com/location/zhengzhou/events/week-1106\">其他</a></li>\n",
      "  </ul>\n",
      "</div>\n",
      "<div class=\"cate events-cate\">\n",
      "  <ul>\n",
      "  <li class=\"cate-label\"><a href=\"https://www.douban.com/location/zhengzhou/events/week-party\">聚会&raquo;</a></li>\n",
      "    <li><a href=\"https://www.douban.com/location/zhengzhou/events/week-1401\">生活</a></li>\n",
      "    <li><a href=\"https://www.douban.com/location/zhengzhou/events/week-1402\">集市</a></li>\n",
      "    <li><a href=\"https://www.douban.com/location/zhengzhou/events/week-1403\">摄影</a></li>\n",
      "    <li><a href=\"https://www.douban.com/location/zhengzhou/events/week-1404\">外语</a></li>\n",
      "    <li><a href=\"https://www.douban.com/location/zhengzhou/events/week-1405\">桌游</a></li>\n",
      "    <li><a href=\"https://www.douban.com/location/zhengzhou/events/week-1406\">夜店</a></li>\n",
      "    <li><a href=\"https://www.douban.com/location/zhengzhou/events/week-1407\">交友</a></li>\n",
      "    <li><a href=\"https://www.douban.com/location/zhengzhou/events/week-1408\">美食</a></li>\n",
      "    <li><a href=\"https://www.douban.com/location/zhengzhou/events/week-1409\">派对</a></li>\n",
      "  </ul>\n",
      "</div>\n",
      "<div class=\"cate events-cate\">\n",
      "  <ul>\n",
      "  <li class=\"cate-label\"><a href=\"https://www.douban.com/location/zhengzhou/events/week-film\">电影&raquo;</a></li>\n",
      "    <li><a href=\"https://www.douban.com/location/zhengzhou/events/week-1801\">主题放映</a></li>\n",
      "    <li><a href=\"https://www.douban.com/location/zhengzhou/events/week-1802\">影展</a></li>\n",
      "    <li><a href=\"https://www.douban.com/location/zhengzhou/events/week-1803\">影院活动</a></li>\n",
      "  </ul>\n",
      "</div>\n",
      "<div class=\"cate events-cate\">\n",
      "  <ul>\n",
      "  <li class=\"cate-label\"><a href=\"https://www.douban.com/location/zhengzhou/events/week-all\">其他&raquo;</a></li>\n",
      "    <li><a href=\"https://www.douban.com/location/zhengzhou/events/week-salon\">讲座</a></li>\n",
      "    <li><a href=\"https://www.douban.com/location/zhengzhou/events/week-exhibition\">展览</a></li>\n",
      "    <li><a href=\"https://www.douban.com/location/zhengzhou/events/week-sports\">运动</a></li>\n",
      "    <li><a href=\"https://www.douban.com/location/zhengzhou/events/week-travel\">旅行</a></li>\n",
      "    <li><a href=\"https://www.douban.com/location/zhengzhou/events/week-commonweal\">公益</a></li>\n",
      "  </ul>\n",
      "</div>\n",
      "</div>\n",
      "</div>\n",
      "  <div class=\"main\">\n",
      "\n",
      "\n",
      "    <h2>\n",
      "        郑州 · 本周热门活动\n",
      "            &nbsp;&middot;&nbsp;&middot;&nbsp;&middot;&nbsp;&middot;&nbsp;&middot;&nbsp;&middot;\n",
      "            <span class=\"pl\">&nbsp;(\n",
      "                \n",
      "                    <a href=\"https://www.douban.com/location/\" target=\"_self\">更多</a>\n",
      "                ) </span>\n",
      "    </h2>\n",
      "\n",
      "<div class=\"events-list list\">\n",
      "  <ul>\n",
      "    <li>\n",
      "      <div class=\"pic\">\n",
      "        <a href=\"https://www.douban.com/event/37290334/\">\n",
      "            <img data-origin=\"https://img9.doubanio.com/pview/event_poster/small/public/011aee4e827d576.jpg\" src=\"https://img1.doubanio.com/f/vendors/a1fdee122b95748d81cee426d717c05b5174fe96/pics/blank.gif\" width=\"70\">\n",
      "        </a>\n",
      "      </div>\n",
      "      <div class=\"info\">\n",
      "        <div class=\"title\">\n",
      "          <a href=\"https://www.douban.com/event/37290334/\" title=\"《一起走过的日子》经典金曲现场演唱会\">\n",
      "            《一起走过的日子》经典金曲现场演唱会\n",
      "          </a>\n",
      "        </div>\n",
      "        <div class=\"datetime\">\n",
      "            8月23日 周六 19:30 - 21:30\n",
      "        </div>\n",
      "        <address title=\"河南省人民会堂 花园路1号（紫荆山立交桥河南饭店对面）\">\n",
      "          河南省人民会堂 花园路1号...\n",
      "        </address>\n",
      "        <div class=\"follow\">\n",
      "          0人关注\n",
      "        </div>\n",
      "      </div>\n",
      "    <li>\n",
      "      <div class=\"pic\">\n",
      "        <a href=\"https://www.douban.com/event/37265838/\">\n",
      "            <img data-origin=\"https://img3.doubanio.com/pview/event_poster/small/public/673fb568c2feb22.jpg\" src=\"https://img1.doubanio.com/f/vendors/a1fdee122b95748d81cee426d717c05b5174fe96/pics/blank.gif\" width=\"70\">\n",
      "        </a>\n",
      "      </div>\n",
      "      <div class=\"info\">\n",
      "        <div class=\"title\">\n",
      "          <a href=\"https://www.douban.com/event/37265838/\" title=\"搀扶·马健涛全国巡回演唱会 - 郑州站\">\n",
      "            搀扶·马健涛全国巡回演唱会 - 郑州站\n",
      "          </a>\n",
      "        </div>\n",
      "        <div class=\"datetime\">\n",
      "            9月4日 周四 19:30 - 21:30\n",
      "        </div>\n",
      "        <address title=\"河南艺术中心 商务内环路1号\">\n",
      "          河南艺术中心 商务内环路1号\n",
      "        </address>\n",
      "        <div class=\"follow\">\n",
      "          0人关注\n",
      "        </div>\n",
      "      </div>\n",
      "    <li>\n",
      "      <div class=\"pic\">\n",
      "        <a href=\"https://www.douban.com/event/37222386/\">\n",
      "            <img data-origin=\"https://img3.doubanio.com/pview/event_poster/small/public/93f28622e1c5773.jpg\" src=\"https://img1.doubanio.com/f/vendors/a1fdee122b95748d81cee426d717c05b5174fe96/pics/blank.gif\" width=\"70\">\n",
      "        </a>\n",
      "      </div>\n",
      "      <div class=\"info\">\n",
      "        <div class=\"title\">\n",
      "          <a href=\"https://www.douban.com/event/37222386/\" title=\"惠丰钻石·郎朗吉娜“爱之梦”潮燃之夜—郑州站\">\n",
      "            惠丰钻石·郎朗吉娜“爱之梦”潮燃之夜—郑州站\n",
      "          </a>\n",
      "        </div>\n",
      "        <div class=\"datetime\">\n",
      "            8月29日 周五 20:00 - 22:00\n",
      "        </div>\n",
      "        <address title=\"郑州奥林匹克体育中心-洋河•梦之蓝体育馆 丹水大道与长椿路交汇口郑州奥林匹克体育中心\">\n",
      "          郑州奥林匹克体育中心-洋河...\n",
      "        </address>\n",
      "        <div class=\"follow\">\n",
      "          0人关注\n",
      "        </div>\n",
      "      </div>\n",
      "    <li>\n",
      "      <div class=\"pic\">\n",
      "        <a href=\"https://www.douban.com/event/37220193/\">\n",
      "            <img data-origin=\"https://img9.doubanio.com/pview/event_poster/small/public/54cee787ca8e535.jpg\" src=\"https://img1.doubanio.com/f/vendors/a1fdee122b95748d81cee426d717c05b5174fe96/pics/blank.gif\" width=\"70\">\n",
      "        </a>\n",
      "      </div>\n",
      "      <div class=\"info\">\n",
      "        <div class=\"title\">\n",
      "          <a href=\"https://www.douban.com/event/37220193/\" title=\"《2025胡海泉〖流浪者食堂〗演唱会》郑州站\">\n",
      "            《2025胡海泉〖流浪者食堂〗演唱会》郑州站\n",
      "          </a>\n",
      "        </div>\n",
      "        <div class=\"datetime\">\n",
      "            8月23日 周六 19:30 - 21:00\n",
      "        </div>\n",
      "        <address title=\"郑州大剧院 丹水大道与雪松路交叉口西南角\">\n",
      "          郑州大剧院 丹水大道与雪松...\n",
      "        </address>\n",
      "        <div class=\"follow\">\n",
      "          0人关注\n",
      "        </div>\n",
      "      </div>\n",
      "  </ul>\n",
      "</div>\n",
      "</div>\n",
      "  </div>\n",
      "  \n",
      "</div>\n",
      "\n",
      "\n",
      "\n",
      "\n",
      "\n",
      "\n",
      "\n",
      "\n",
      "    \n",
      "<div id=\"anony-time\" class=\"section\">\n",
      "  <div class=\"wrapper\">\n",
      "  \n",
      "  \n",
      "    <div class=\"sidenav\">\n",
      "        <h2 class=\"section-title\"><a href=\"https://time.douban.com?dt_time_source=douban-web_anonymous\">豆瓣时间</a></h2>\n",
      "    </div>\n",
      "\n",
      "  <div class=\"side\"></div>\n",
      "  <div class=\"main\">\n",
      "    \n",
      "    <h2>\n",
      "        热门专栏\n",
      "            &nbsp;&middot;&nbsp;&middot;&nbsp;&middot;&nbsp;&middot;&nbsp;&middot;&nbsp;&middot;\n",
      "            <span class=\"pl\">&nbsp;(\n",
      "                \n",
      "                    <a href=\"https://time.douban.com?dt_time_source=douban-web_anonymous\" target=\"_self\">更多</a>\n",
      "                ) </span>\n",
      "    </h2>\n",
      "\n",
      "\n",
      "    \n",
      "\n",
      "\n",
      "\n",
      "<ul class=\"time-list\">\n",
      "        <li>\n",
      "            \n",
      "            <a class=\"cover time-audio new \" href=\"https://m.douban.com/time/column/188?dt_time_source=douban-web_anonymous\" target=\"_blank\">\n",
      "                <img src=\"https://img9.doubanio.com/img/niffler/r/8e457bfe-5872-11ea-916d-4e50984eeed6.jpg\" alt=\"用性别之尺丈量世界——18堂思想课解读女性问题\">\n",
      "            </a>\n",
      "            <a class=\"title\" href=\"https://m.douban.com/time/column/188?dt_time_source=douban-web_anonymous\" target=\"_blank\">用性别之尺丈量世界——18堂思想课解读女性问题</a>\n",
      "            <span class=\"type\">音频专栏</span>\n",
      "        </li>\n",
      "        <li>\n",
      "            \n",
      "            <a class=\"cover time-audio  \" href=\"https://m.douban.com/time/column/272?dt_time_source=douban-web_anonymous\" target=\"_blank\">\n",
      "                <img src=\"https://img1.doubanio.com/img/niffler/r/8e98834a-b20d-11ef-a64a-2e47a111930b.jpg\" alt=\"当青年成为问题——日常生活中的传播学\">\n",
      "            </a>\n",
      "            <a class=\"title\" href=\"https://m.douban.com/time/column/272?dt_time_source=douban-web_anonymous\" target=\"_blank\">当青年成为问题——日常生活中的传播学</a>\n",
      "            <span class=\"type\">音频专栏</span>\n",
      "        </li>\n",
      "        <li>\n",
      "            \n",
      "            <a class=\"cover time-audio new \" href=\"https://m.douban.com/time/column/267?dt_time_source=douban-web_anonymous\" target=\"_blank\">\n",
      "                <img src=\"https://img9.doubanio.com/img/niffler/r/afd27840-7eba-11ee-b7b3-5e86bf728896.jpg\" alt=\"不能承受的生命之轻——听复旦教授梁永安深度解读\">\n",
      "            </a>\n",
      "            <a class=\"title\" href=\"https://m.douban.com/time/column/267?dt_time_source=douban-web_anonymous\" target=\"_blank\">不能承受的生命之轻——听复旦教授梁永安深度解读</a>\n",
      "            <span class=\"type\">音频专栏</span>\n",
      "        </li>\n",
      "        <li>\n",
      "            \n",
      "            <a class=\"cover time-audio  new\" href=\"https://m.douban.com/time/column/101?dt_time_source=douban-web_anonymous\" target=\"_blank\">\n",
      "                <img src=\"https://img3.doubanio.com/img/niffler/r/a1e1fedc-73ac-11e8-b5f7-0242ac110013.png\" alt=\"花鸟鱼虫的生活意见——博物君的自然笔记\">\n",
      "            </a>\n",
      "            <a class=\"title\" href=\"https://m.douban.com/time/column/101?dt_time_source=douban-web_anonymous\" target=\"_blank\">花鸟鱼虫的生活意见——博物君的自然笔记</a>\n",
      "            <span class=\"type\">音频专栏</span>\n",
      "        </li>\n",
      "        <li>\n",
      "            \n",
      "            <a class=\"cover time-audio  \" href=\"https://m.douban.com/time/column/127?dt_time_source=douban-web_anonymous\" target=\"_blank\">\n",
      "                <img src=\"https://img1.doubanio.com/img/niffler/r/56259338-1e19-11e9-9bc1-0242ac110029.jpg\" alt=\"萨特来信——存在主义生活书 \">\n",
      "            </a>\n",
      "            <a class=\"title\" href=\"https://m.douban.com/time/column/127?dt_time_source=douban-web_anonymous\" target=\"_blank\">萨特来信——存在主义生活书 </a>\n",
      "            <span class=\"type\">音频专栏</span>\n",
      "        </li>\n",
      "        <li>\n",
      "            \n",
      "            <a class=\"cover time-article  \" href=\"https://m.douban.com/time/column/37?dt_time_source=douban-web_anonymous\" target=\"_blank\">\n",
      "                <img src=\"https://img9.doubanio.com/img/niffler/r/c3ab871e-2401-11e7-9fe8-0242ac110046.png\" alt=\"邪典电影本纪——亚文化电影50讲\">\n",
      "            </a>\n",
      "            <a class=\"title\" href=\"https://m.douban.com/time/column/37?dt_time_source=douban-web_anonymous\" target=\"_blank\">邪典电影本纪——亚文化电影50讲</a>\n",
      "            <span class=\"type\">图文专栏</span>\n",
      "        </li>\n",
      "        <li>\n",
      "            \n",
      "            <a class=\"cover time-audio new \" href=\"https://m.douban.com/time/column/130?dt_time_source=douban-web_anonymous\" target=\"_blank\">\n",
      "                <img src=\"https://img3.doubanio.com/img/niffler/r/48b9c98a-0b1d-11e9-8eb4-0242ac110007.jpg\" alt=\"科学在左，人性在右——科技伦理的10个哲学反思\">\n",
      "            </a>\n",
      "            <a class=\"title\" href=\"https://m.douban.com/time/column/130?dt_time_source=douban-web_anonymous\" target=\"_blank\">科学在左，人性在右——科技伦理的10个哲学反思</a>\n",
      "            <span class=\"type\">音频专栏</span>\n",
      "        </li>\n",
      "        <li>\n",
      "            \n",
      "            <a class=\"cover time-audio new \" href=\"https://m.douban.com/time/column/134?dt_time_source=douban-web_anonymous\" target=\"_blank\">\n",
      "                <img src=\"https://img9.doubanio.com/img/niffler/r/c3a9890a-3421-11e9-b55c-0242ac110005.jpg\" alt=\"去！把巫师叫醒——奇幻文学“四大名著”入门\">\n",
      "            </a>\n",
      "            <a class=\"title\" href=\"https://m.douban.com/time/column/134?dt_time_source=douban-web_anonymous\" target=\"_blank\">去！把巫师叫醒——奇幻文学“四大名著”入门</a>\n",
      "            <span class=\"type\">音频专栏</span>\n",
      "        </li>\n",
      "        <li>\n",
      "            \n",
      "            <a class=\"cover time-audio new \" href=\"https://m.douban.com/time/column/185?dt_time_source=douban-web_anonymous\" target=\"_blank\">\n",
      "                <img src=\"https://img9.doubanio.com/img/niffler/r/f3573202-3389-11ea-81ed-3e551a2d8b14.jpg\" alt=\"懂得这些再去穿越——古代天文学里的星空密码\">\n",
      "            </a>\n",
      "            <a class=\"title\" href=\"https://m.douban.com/time/column/185?dt_time_source=douban-web_anonymous\" target=\"_blank\">懂得这些再去穿越——古代天文学里的星空密码</a>\n",
      "            <span class=\"type\">音频专栏</span>\n",
      "        </li>\n",
      "        <li>\n",
      "            \n",
      "            <a class=\"cover time-audio new \" href=\"https://m.douban.com/time/column/133?dt_time_source=douban-web_anonymous\" target=\"_blank\">\n",
      "                <img src=\"https://img1.doubanio.com/img/niffler/r/d9596076-2eb4-11e9-be94-0242ac110029.jpg\" alt=\"如来的掌心——理解佛学的16把钥匙\">\n",
      "            </a>\n",
      "            <a class=\"title\" href=\"https://m.douban.com/time/column/133?dt_time_source=douban-web_anonymous\" target=\"_blank\">如来的掌心——理解佛学的16把钥匙</a>\n",
      "            <span class=\"type\">音频专栏</span>\n",
      "        </li>\n",
      "</ul>\n",
      "\n",
      "</div>\n",
      "  </div>\n",
      "  \n",
      "</div>\n",
      "\n",
      "\n",
      "\n",
      "\n",
      "\n",
      "\n",
      "\n",
      "\n",
      "\n",
      "<div class=\"wrapper\">\n",
      "  <div id=\"ft\">\n",
      "  \n",
      "  \n",
      "<span id=\"icp\" class=\"fleft gray-link\">\n",
      "    &copy; 2005-2025 douban.com, all rights reserved 北京豆网科技有限公司\n",
      "  <br>\n",
      "  <a href=\"https://img9.doubanio.com/view/treasury_image/raw/public/8f4d0a09fd60834.jpg\" target=\"_blank\">营业执照</a> &#xFF5C;\n",
      "  <a href=\"https://img3.doubanio.com/view/treasury_image/raw/public/9ba42111f61b58a.jpg\" target=\"_blank\">京ICP证090015号</a> &#xFF5C;\n",
      "  <a href=\"https://beian.miit.gov.cn/\" target=\"_blank\">京ICP备11027288号</a> &#xFF5C;\n",
      "  <a href=\"https://www.douban.com/about?topic=licence\" target=\"_blank\">网络视听许可证0110418号</a> &#xFF5C;\n",
      "  <a href=\"https://img2.doubanio.com/view/biz/raw/public/p_5111.jpg\" target=\"_blank\">食品经营许可证</a>\n",
      "  <br>\n",
      "  <a href=\"https://img1.doubanio.com/view/treasury_image/raw/public/1f12f4d8acb451b.jpg\" target=\"_blank\">京网文[2024]4125-195号</a> &#xFF5C;\n",
      "  <a href=\"https://img3.doubanio.com/view/treasury_image/raw/public/8261a59d5896792.jpg\" target=\"_blank\">新出发京批字第直160029号</a> &#xFF5C;\n",
      "  <a href=\"https://img2.doubanio.com/view/treasury_image/raw/public/3f616f539537481.jpg\" target=\"_blank\">（署）网出证（京）字第120号</a>\n",
      "\n",
      "  <br/>违法和不良信息/涉未成年人/生活服务类专项有害信息投诉：<img src=\"https://img3.doubanio.com/cuphead/sns-static/anony-home/pics/tousu.jpeg\" height=\"16\" align=\"top\"/>\n",
      "  <br>违法和不良信息投诉电话：4008353331-9&nbsp;\n",
      "  <br>网络从业者不良行为举报：<img src=\"https://img2.doubanio.com/cuphead/sns-static/anony-home/pics/jubao.jpg\" height=\"16\" align=\"top\"/>\n",
      "  <br><img src=\"https://img1.doubanio.com/f/vendors/c24b99a14ebc3f1ac27e9eeb6105ce5b046b99f0/pics/icon/jubao.png\" align=\"absmiddle\" width=\"15\"> <a href=\"http://www.12377.cn/\" target=\"_blank\">中国互联网举报中心</a> 电话：12377\n",
      "  <img src=\"https://img1.doubanio.com/f/vendors/780d038ed1c7bef20351fc2b383436efbf53697f/pics/biaoshi.gif\" align=\"absmiddle\"> <a href=\"http://www.beian.gov.cn/portal/registerSystemInfo?recordcode=11010502000728\" target=\"_blank\">京公网安备11010502000728</a>\n",
      "</span>\n",
      "\n",
      "<a href=\"https://www.douban.com/hnypt/variformcyst.py\" style=\"display: none;\"></a>\n",
      "\n",
      "<span class=\"fright\">\n",
      "    <a href=\"https://www.douban.com/about\">关于豆瓣</a>\n",
      "    · <a href=\"https://www.douban.com/jobs\">在豆瓣工作</a>\n",
      "    · <a href=\"https://www.douban.com/about?topic=contactus\">联系我们</a>\n",
      "    · <a href=\"https://www.douban.com/about/legal\">法律声明</a>\n",
      "    \n",
      "    · <a href=\"https://help.douban.com/?app=main\" target=\"_blank\">帮助中心</a>\n",
      "    · <a href=\"https://www.douban.com/doubanapp/\">移动应用</a>\n",
      "</span>\n",
      "\n",
      "  </div>\n",
      "</div>\n",
      "\n",
      "<script>\n",
      "  $(function(){\n",
      "    lazyPic.add('#anony-sns',\n",
      "    '#anony-movie',\n",
      "    '#anony-book',\n",
      "    '#anony-music',\n",
      "    '#anony-group',\n",
      "    '#anony-events');\n",
      "\n",
      "    input_label($('#anony-nav').find('.inp input'),\n",
      "                $('#anony-nav').find('.anony-srh'));\n",
      "\n",
      "    var account = $('#lzform').find('.item-account');\n",
      "    input_label(account.find('input:eq(0)'), account);\n",
      "\n",
      "    var passwd = $('#lzform').find('.item-passwd');\n",
      "    input_label(passwd.find('input'), passwd);\n",
      "\n",
      "    var captcha = $('#lzform').find('.item-captcha');\n",
      "    if (captcha.length) {\n",
      "      input_label(captcha.find('input'), captcha);\n",
      "    }\n",
      "\n",
      "    if (account.find('input').val()) {\n",
      "      passwd.find('input').focus();\n",
      "    }\n",
      "  });\n",
      "</script>\n",
      "<!-- COLLECTED JS -->\n",
      "\n",
      "  <!-- douban ad begin -->\n",
      "  \n",
      "\n",
      "\n",
      "\n",
      "\n",
      "    \n",
      "<script type=\"text/javascript\">\n",
      "    (function (global) {\n",
      "        var newNode = global.document.createElement('script'),\n",
      "            existingNode = global.document.getElementsByTagName('script')[0],\n",
      "            adSource = '//erebor.douban.com/',\n",
      "            userId = '',\n",
      "            browserId = '7-i9ijJp6Vk',\n",
      "            criteria = '3:/',\n",
      "            preview = '',\n",
      "            debug = false,\n",
      "            adSlots = ['dale_anonymous_homepage_top_for_crazy_ad', 'dale_anonymous_homepage_right_top', 'dale_anonymous_home_page_middle'];\n",
      "\n",
      "        global.DoubanAdRequest = {src: adSource, uid: userId, bid: browserId, crtr: criteria, prv: preview, debug: debug};\n",
      "        global.DoubanAdSlots = (global.DoubanAdSlots || []).concat(adSlots);\n",
      "\n",
      "        newNode.setAttribute('type', 'text/javascript');\n",
      "        newNode.setAttribute('src', '//img1.doubanio.com/NWQ3bnN2eS9mL2FkanMvYjFiN2ViZWM0ZDBiZjlkNTE1ZDdiODZiZDc0NzNhNjExYWU3ZDk3My9hZC5yZWxlYXNlLmpz?company_token=kX69T8w1wyOE-dale');\n",
      "        newNode.setAttribute('async', true);\n",
      "        existingNode.parentNode.insertBefore(newNode, existingNode);\n",
      "    })(this);\n",
      "</script>\n",
      "\n",
      "\n",
      "\n",
      "\n",
      "\n",
      "\n",
      "\n",
      "  <!-- douban ad end -->\n",
      "  \n",
      "\n",
      "\n",
      "\n",
      "\n",
      "\n",
      "\n",
      "\n",
      "\n",
      "\n",
      "<script type=\"text/javascript\">\n",
      "var _paq = window._paq || [];\n",
      "_paq.push(['trackPageView']);\n",
      "_paq.push(['enableLinkTracking']);\n",
      "(function() {\n",
      "    var p=(('https:' == document.location.protocol) ? 'https' : 'http'), u=p+'://fundin.douban.com/';\n",
      "    _paq.push(['setTrackerUrl', u+'piwik']);\n",
      "    _paq.push(['setSiteId', '100001']);\n",
      "    var d=document, g=d.createElement('script'), s=d.getElementsByTagName('script')[0];\n",
      "    g.type='text/javascript';\n",
      "    g.defer=true;\n",
      "    g.async=true;\n",
      "    g.src=p+'://img3.doubanio.com/dae/fundin/piwik.js?s=3';\n",
      "    s.parentNode.insertBefore(g,s);\n",
      "})();\n",
      "</script>\n",
      "\n",
      "<script type=\"text/javascript\">\n",
      "var _gaq = _gaq || [];\n",
      "_gaq.push(['_setAccount', 'UA-7019765-1']);\n",
      "_gaq.push(['_setCampNameKey', 'dcn']);\n",
      "_gaq.push(['_setCampSourceKey', 'dcs']);\n",
      "_gaq.push(['_setCampMediumKey', 'dcm']);\n",
      "_gaq.push(['_setCampTermKey', 'dct']);\n",
      "_gaq.push(['_setCampContentKey', 'dcc']);\n",
      "_gaq.push(['_addOrganic', 'baidu', 'word']);\n",
      "_gaq.push(['_addOrganic', 'soso', 'w']);\n",
      "_gaq.push(['_addOrganic', '3721', 'name']);\n",
      "_gaq.push(['_addOrganic', 'youdao', 'q']);\n",
      "_gaq.push(['_addOrganic', 'so.360.cn', 'q']);\n",
      "_gaq.push(['_addOrganic', 'vnet', 'kw']);\n",
      "_gaq.push(['_addOrganic', 'sogou', 'query']);\n",
      "_gaq.push(['_addIgnoredOrganic', '豆瓣']);\n",
      "_gaq.push(['_addIgnoredOrganic', 'douban']);\n",
      "_gaq.push(['_addIgnoredOrganic', '豆瓣网']);\n",
      "_gaq.push(['_addIgnoredOrganic', 'www.douban.com']);\n",
      "_gaq.push(['_setDomainName', '.douban.com']);\n",
      "\n",
      "\n",
      "    _gaq.push(['_setCustomVar', 1, 'responsive_view_mode', 'desktop', 3]);\n",
      "\n",
      "_gaq.push(['_trackPageview']);\n",
      "_gaq.push(['_trackPageLoadTime']);\n",
      "\n",
      "window._ga_init = function() {\n",
      "    var ga = document.createElement('script');\n",
      "    ga.src = ('https:' == document.location.protocol ? 'https://ssl' : 'http://www') + '.google-analytics.com/ga.js';\n",
      "    ga.setAttribute('async', 'true');\n",
      "    document.documentElement.firstChild.appendChild(ga);\n",
      "};\n",
      "if (window.addEventListener) {\n",
      "    window.addEventListener('load', _ga_init, false);\n",
      "} else {\n",
      "    window.attachEvent('onload', _ga_init);\n",
      "}\n",
      "</script>\n",
      "\n",
      "\n",
      "\n",
      "\n",
      "\n",
      "\n",
      "</body>\n",
      "</html>\n",
      "\n",
      "\n",
      "\n",
      "\n"
     ]
    }
   ],
   "source": [
    "import requests\n",
    "headers = {'User-Agent':'Mozilla/5.0 (Windows NT 10.0; Win64; x64) AppleWebKit/537.36 (KHTML, like Gecko) Chrome/139.0.0.0 Safari/537.36 Edg/139.0.0.0'}\n",
    "url = 'https://www.douban.com/'\n",
    "r = requests.get(url, headers=headers)\n",
    "print(r.text)"
   ]
  }
 ],
 "metadata": {
  "kernelspec": {
   "display_name": "base",
   "language": "python",
   "name": "python3"
  },
  "language_info": {
   "codemirror_mode": {
    "name": "ipython",
    "version": 3
   },
   "file_extension": ".py",
   "mimetype": "text/x-python",
   "name": "python",
   "nbconvert_exporter": "python",
   "pygments_lexer": "ipython3",
   "version": "3.12.4"
  }
 },
 "nbformat": 4,
 "nbformat_minor": 5
}
