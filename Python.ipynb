{
 "cells": [
  {
   "cell_type": "markdown",
   "id": "82ff635a",
   "metadata": {},
   "source": [
    "# 字符串"
   ]
  },
  {
   "cell_type": "markdown",
   "id": "166aa7d0",
   "metadata": {},
   "source": [
    "## 格式化"
   ]
  },
  {
   "cell_type": "markdown",
   "id": "639a31d9",
   "metadata": {},
   "source": [
    "### f-string\n",
    "\n",
    "Python 3.6引入了f-strings，它是一种更现代和强大的字符串格式化方法，通过在字符串前加上 f 前缀来标识。使用f-strings，可以在字符串中直接嵌入变量、表达式或函数，并使用大括号 {} 来表示占位符。"
   ]
  },
  {
   "cell_type": "code",
   "execution_count": 20,
   "id": "77d13286",
   "metadata": {},
   "outputs": [
    {
     "name": "stdout",
     "output_type": "stream",
     "text": [
      "Hello, Bob! You are 25 years old.\n"
     ]
    }
   ],
   "source": [
    "name = \"Bob\"\n",
    "age = 25\n",
    "message = f\"Hello, {name}! You are {age} years old.\"\n",
    "print(message)"
   ]
  },
  {
   "cell_type": "code",
   "execution_count": 21,
   "id": "448a9ba5",
   "metadata": {},
   "outputs": [
    {
     "data": {
      "text/plain": [
       "'Average score is 87.5'"
      ]
     },
     "execution_count": 21,
     "metadata": {},
     "output_type": "execute_result"
    }
   ],
   "source": [
    "math_score = 90\n",
    "english_score = 85\n",
    "f'Average score is {(math_score + english_score) / 2}'"
   ]
  },
  {
   "cell_type": "code",
   "execution_count": null,
   "id": "31eb3e44",
   "metadata": {},
   "outputs": [
    {
     "data": {
      "text/plain": [
       "'Average score is 87.50'"
      ]
     },
     "execution_count": 22,
     "metadata": {},
     "output_type": "execute_result"
    }
   ],
   "source": [
    "math_score = 90\n",
    "english_score = 85\n",
    "f'Average score is {(lambda x,y:(x+y)/2)(math_score,english_score):.2f}'\n",
    "#第一个小括号表示的是lambda表达式，第二个小括号表示给lambda表达式传入参数。"
   ]
  },
  {
   "cell_type": "markdown",
   "id": "01c12aee",
   "metadata": {},
   "source": [
    "f-string也可以跨越多行，这对于格式化长文本非常有用。"
   ]
  },
  {
   "cell_type": "code",
   "execution_count": 24,
   "id": "42f1f3c6",
   "metadata": {},
   "outputs": [
    {
     "name": "stdout",
     "output_type": "stream",
     "text": [
      "\n",
      "Name: Alice\n",
      "Occupation: developer\n",
      "\n"
     ]
    }
   ],
   "source": [
    "name = 'Alice'\n",
    "occupation = 'developer'\n",
    "print(f\"\"\"\n",
    "Name: {name}\n",
    "Occupation: {occupation}\n",
    "\"\"\")"
   ]
  },
  {
   "cell_type": "markdown",
   "id": "14fa8f3d",
   "metadata": {},
   "source": [
    "# 函数"
   ]
  },
  {
   "cell_type": "markdown",
   "id": "7bc5a4f6",
   "metadata": {},
   "source": [
    "## 函数参数"
   ]
  },
  {
   "cell_type": "markdown",
   "id": "e12e8c91",
   "metadata": {},
   "source": [
    "*args是可变参数，args接收的是一个tuple；\n",
    "\n",
    "**kw是关键字参数，kw接收的是一个dict。\n",
    "\n",
    "可变参数既可以直接传入：func(1, 2, 3)，又可以先组装list或tuple，再通过`*args`传入：func(*(1, 2, 3))；\n",
    "\n",
    "关键字参数既可以直接传入：func(a=1, b=2)，又可以先组装dict，再通过`**kw`传入：func(**{'a': 1, 'b': 2})。\n",
    "\n",
    "命名的关键字参数是为了限制调用者可以传入的参数名，同时可以提供默认值。\n",
    "\n",
    "    def person(name, age, *, city='Beijing', job):\n",
    "        print(name, age, city, job)\n",
    "\n",
    "\n",
    "定义命名的关键字参数在没有可变参数的情况下不要忘了写分隔符*，否则定义的将是位置参数。\n",
    "\n",
    "    def person(name, age, *, city, job):\n",
    "        pass "
   ]
  },
  {
   "cell_type": "markdown",
   "id": "88976035",
   "metadata": {},
   "source": [
    "## 递归函数"
   ]
  },
  {
   "cell_type": "markdown",
   "id": "83384fe4",
   "metadata": {},
   "source": [
    "在函数内部，可以调用其他函数。如果一个函数在内部调用自身本身，这个函数就是递归函数。"
   ]
  },
  {
   "cell_type": "code",
   "execution_count": 11,
   "id": "ec6a802a",
   "metadata": {},
   "outputs": [
    {
     "data": {
      "text/plain": [
       "3628800"
      ]
     },
     "execution_count": 11,
     "metadata": {},
     "output_type": "execute_result"
    }
   ],
   "source": [
    "#计算阶乘\n",
    "def fact(n):\n",
    "    if n==1:\n",
    "        return 1\n",
    "    return n * fact(n - 1)\n",
    "fact(10)"
   ]
  },
  {
   "cell_type": "markdown",
   "id": "27561dcf",
   "metadata": {},
   "source": [
    "## 高阶函数"
   ]
  },
  {
   "cell_type": "markdown",
   "id": "238249e5",
   "metadata": {},
   "source": [
    "把函数作为参数传入，这样的函数称为高阶函数"
   ]
  },
  {
   "cell_type": "code",
   "execution_count": 12,
   "id": "add80d8f",
   "metadata": {},
   "outputs": [
    {
     "name": "stdout",
     "output_type": "stream",
     "text": [
      "11\n"
     ]
    }
   ],
   "source": [
    "def add(x, y, f):\n",
    "    return f(x) + f(y)\n",
    "\n",
    "print(add(-5, 6, abs))"
   ]
  },
  {
   "cell_type": "markdown",
   "id": "faae07b5",
   "metadata": {},
   "source": [
    "## map函数"
   ]
  },
  {
   "cell_type": "markdown",
   "id": "fac5bfe5",
   "metadata": {},
   "source": [
    "`map()`函数接收两个参数，一个是函数，一个是Iterable，map将传入的函数依次作用到序列的每个元素，并把结果作为新的Iterator返回。"
   ]
  },
  {
   "cell_type": "code",
   "execution_count": null,
   "id": "8638b2c9",
   "metadata": {},
   "outputs": [
    {
     "data": {
      "text/plain": [
       "['1', '2', '3', '4', '5']"
      ]
     },
     "execution_count": 15,
     "metadata": {},
     "output_type": "execute_result"
    }
   ],
   "source": [
    "it = map(str, [1, 2, 3, 4, 5])\n",
    "list(it)"
   ]
  },
  {
   "cell_type": "markdown",
   "id": "88793d4c",
   "metadata": {},
   "source": [
    "## reduce函数"
   ]
  },
  {
   "cell_type": "markdown",
   "id": "7337b5fa",
   "metadata": {},
   "source": [
    "reduce函数用第一个参数（函数）先对第二个参数（可迭代对象）中的第 1、2 个元素进行操作，然后将得到的结果与下一个元素继续操作"
   ]
  },
  {
   "cell_type": "code",
   "execution_count": null,
   "id": "0df6bdf7",
   "metadata": {},
   "outputs": [
    {
     "data": {
      "text/plain": [
       "13579"
      ]
     },
     "execution_count": 16,
     "metadata": {},
     "output_type": "execute_result"
    }
   ],
   "source": [
    "#把列表转换为整数\n",
    "from functools import reduce\n",
    "def fn(x, y):\n",
    "     return x * 10 + y\n",
    "reduce(fn, [1, 3, 5, 7, 9])"
   ]
  },
  {
   "cell_type": "markdown",
   "id": "b4d54cf6",
   "metadata": {},
   "source": [
    "## filter函数"
   ]
  },
  {
   "cell_type": "markdown",
   "id": "030ae65d",
   "metadata": {},
   "source": [
    "和map()类似，filter()也接收一个函数和一个序列。和map()不同的是，filter()把传入的函数依次作用于每个元素，然后根据返回值是True还是False决定保留还是丢弃该元素。"
   ]
  },
  {
   "cell_type": "code",
   "execution_count": 1,
   "id": "8ab807f3",
   "metadata": {},
   "outputs": [
    {
     "data": {
      "text/plain": [
       "[1, 5, 9, 15]"
      ]
     },
     "execution_count": 1,
     "metadata": {},
     "output_type": "execute_result"
    }
   ],
   "source": [
    "#只保留奇数\n",
    "def is_odd(n):\n",
    "    return n % 2 == 1\n",
    "\n",
    "list(filter(is_odd, [1, 2, 4, 5, 6, 9, 10, 15]))"
   ]
  },
  {
   "cell_type": "markdown",
   "id": "b25207b5",
   "metadata": {},
   "source": [
    "## sorted函数"
   ]
  },
  {
   "cell_type": "code",
   "execution_count": 5,
   "id": "7825ea2e",
   "metadata": {},
   "outputs": [
    {
     "data": {
      "text/plain": [
       "['about', 'bob', 'Credit', 'Zoo']"
      ]
     },
     "execution_count": 5,
     "metadata": {},
     "output_type": "execute_result"
    }
   ],
   "source": [
    "#忽略大小写排序\n",
    "sorted(['bob', 'about', 'Zoo', 'Credit'], key = str.lower)"
   ]
  },
  {
   "cell_type": "markdown",
   "id": "2aed4928",
   "metadata": {},
   "source": [
    "## 闭包（Closure）"
   ]
  },
  {
   "cell_type": "markdown",
   "id": "1edbc848",
   "metadata": {},
   "source": [
    "闭包：使用闭包，就是内层函数引用了外层函数的局部变量。"
   ]
  },
  {
   "cell_type": "code",
   "execution_count": null,
   "id": "b1c4e856",
   "metadata": {},
   "outputs": [
    {
     "name": "stdout",
     "output_type": "stream",
     "text": [
      "9\n",
      "9\n",
      "9\n",
      "9\n"
     ]
    }
   ],
   "source": [
    "def count():\n",
    "    fs = []\n",
    "    for i in range(1, 4):\n",
    "        def f():\n",
    "             return i*i\n",
    "        fs.append(f)\n",
    "    return fs\n",
    "\n",
    "f1, f2, f3 = count()\n",
    "print(f1())\n",
    "print(f2())\n",
    "print(f3())"
   ]
  },
  {
   "cell_type": "markdown",
   "id": "360d0c69",
   "metadata": {},
   "source": [
    "输出全部都是9，原因就在于返回的函数引用了变量i，但它并非立刻执行。等到3个函数都返回时，它们所引用的变量i已经变成了3，因此最终结果为9。  \n",
    "因此，返回闭包时牢记一点：返回函数不要引用任何循环变量，或者后续会发生变化的变量。"
   ]
  },
  {
   "cell_type": "markdown",
   "id": "994b94d1",
   "metadata": {},
   "source": [
    "## 匿名函数"
   ]
  },
  {
   "cell_type": "markdown",
   "id": "631242ab",
   "metadata": {},
   "source": [
    "匿名函数也是一个函数对象，也可以把匿名函数赋值给一个变量，再利用变量来调用该函数："
   ]
  },
  {
   "cell_type": "code",
   "execution_count": 10,
   "id": "fcf5387f",
   "metadata": {},
   "outputs": [
    {
     "name": "stdout",
     "output_type": "stream",
     "text": [
      "<function <lambda> at 0x000001371518AE80>\n",
      "25\n"
     ]
    }
   ],
   "source": [
    "f = lambda x: x * x\n",
    "print(f)\n",
    "print(f(5))"
   ]
  },
  {
   "cell_type": "markdown",
   "id": "e097fcf7",
   "metadata": {},
   "source": [
    "同样，也可以把匿名函数作为返回值返回，比如："
   ]
  },
  {
   "cell_type": "code",
   "execution_count": 14,
   "id": "3ad1059f",
   "metadata": {},
   "outputs": [
    {
     "data": {
      "text/plain": [
       "5"
      ]
     },
     "execution_count": 14,
     "metadata": {},
     "output_type": "execute_result"
    }
   ],
   "source": [
    "def build(x, y):\n",
    "    return lambda: x * x + y * y\n",
    "build(1, 2)()"
   ]
  },
  {
   "cell_type": "markdown",
   "id": "31be0dba",
   "metadata": {},
   "source": [
    "`build(1, 2)`返回的是一个匿名函数（lambda），而不是直接计算结果。\n",
    "在 Python 里，lambda: x * x + y * y 是一个函数对象，只有调用它（比如`build(1, 2)()`）才会执行并返回结果。"
   ]
  },
  {
   "cell_type": "markdown",
   "id": "54e496b6",
   "metadata": {},
   "source": [
    "## 装饰器（Decorator）"
   ]
  },
  {
   "cell_type": "markdown",
   "id": "71ee4080",
   "metadata": {},
   "source": []
  },
  {
   "cell_type": "code",
   "execution_count": null,
   "id": "01a339a1",
   "metadata": {},
   "outputs": [],
   "source": []
  },
  {
   "cell_type": "markdown",
   "id": "57cdc8da",
   "metadata": {},
   "source": [
    "## 偏函数（Partial function）"
   ]
  },
  {
   "cell_type": "markdown",
   "id": "a8418c5c",
   "metadata": {},
   "source": [
    "当函数的参数个数太多，需要简化时，使用functools.partial可以创建一个新的函数，这个新函数可以固定住原函数的部分参数，从而在调用时更简单。"
   ]
  },
  {
   "cell_type": "code",
   "execution_count": null,
   "id": "118192fc",
   "metadata": {},
   "outputs": [
    {
     "name": "stdout",
     "output_type": "stream",
     "text": [
      "64\n",
      "85\n",
      "1000000\n"
     ]
    }
   ],
   "source": [
    "from functools import partial\n",
    "\n",
    "int2 = partial(int, base=2)\n",
    "print(int2('1000000'))\n",
    "print(int2('1010101'))\n",
    "#仍可传入其他值\n",
    "print(int2('1000000',base=10))\n"
   ]
  },
  {
   "cell_type": "markdown",
   "id": "af81c8e6",
   "metadata": {},
   "source": [
    "# 生成器 generator"
   ]
  },
  {
   "cell_type": "markdown",
   "id": "b08816bf",
   "metadata": {},
   "source": [
    "## 生成方法1：把列表生成式的[]改为()"
   ]
  },
  {
   "cell_type": "code",
   "execution_count": null,
   "id": "0863ac33",
   "metadata": {},
   "outputs": [
    {
     "name": "stdout",
     "output_type": "stream",
     "text": [
      "<generator object <genexpr> at 0x000001320C8D52F0>\n",
      "0\n",
      "1\n",
      "4\n",
      "9\n",
      "16\n",
      "25\n",
      "36\n",
      "49\n",
      "64\n",
      "81\n"
     ]
    }
   ],
   "source": [
    "# 生成\n",
    "g = (x * x for x in range(10))\n",
    "print(g)\n",
    "# 打印\n",
    "for i in g:\n",
    "    print(i)"
   ]
  },
  {
   "cell_type": "markdown",
   "id": "336a2c59",
   "metadata": {},
   "source": [
    "## 生成方法2：调用generator函数"
   ]
  },
  {
   "cell_type": "code",
   "execution_count": 16,
   "id": "6e230229",
   "metadata": {},
   "outputs": [
    {
     "name": "stdout",
     "output_type": "stream",
     "text": [
      "1\n",
      "\n",
      "1\n",
      "1\n",
      "2\n",
      "3\n",
      "5\n",
      "8\n",
      "13\n",
      "21\n",
      "34\n",
      "55\n",
      "\n",
      "Generator return value: done\n"
     ]
    }
   ],
   "source": [
    "#定义生成器函数\n",
    "def fib(max):\n",
    "    n, a, b = 0, 0, 1\n",
    "    while n < max:\n",
    "        yield b\n",
    "        a, b = b, a + b\n",
    "        n = n + 1\n",
    "    return 'done'\n",
    "#生成生成器对象\n",
    "f = fib(10)\n",
    "#获取下一个值\n",
    "print(next(f))\n",
    "print()\n",
    "#获取所有值\n",
    "h = fib(10)\n",
    "for i in h:\n",
    "    print(i)\n",
    "print()\n",
    "#获取返回值\n",
    "g = fib(10)\n",
    "while True:\n",
    "    try:\n",
    "        x = next(g)\n",
    "    except StopIteration as e:\n",
    "        print('Generator return value:', e.value)\n",
    "        break"
   ]
  },
  {
   "cell_type": "markdown",
   "id": "9bb6743d",
   "metadata": {},
   "source": [
    "# 迭代器 Iterator"
   ]
  },
  {
   "cell_type": "markdown",
   "id": "dd4d250e",
   "metadata": {},
   "source": [
    "可迭代对象`Iterable`：可以直接作用于`for`循环的对象，如`list`, `tuple`, `set`, `string`, `dict`, `generator`等  \n",
    "迭代器：可以被`next()`函数调用并不断返回下一个值的对象，如生成器"
   ]
  },
  {
   "cell_type": "code",
   "execution_count": 4,
   "id": "c292a155",
   "metadata": {},
   "outputs": [
    {
     "name": "stdout",
     "output_type": "stream",
     "text": [
      "True\n",
      "True\n",
      "True\n"
     ]
    }
   ],
   "source": [
    "#判断\n",
    "from collections.abc import Iterable, Iterator\n",
    "print(isinstance ([], Iterable))\n",
    "print(isinstance ((i for i in range(10)), Iterable))\n",
    "print(isinstance ((i for i in range(10)), Iterator))"
   ]
  },
  {
   "cell_type": "markdown",
   "id": "8e469c44",
   "metadata": {},
   "source": [
    "把list、dict、str等Iterable变成Iterator可以使用`iter()`函数："
   ]
  },
  {
   "cell_type": "code",
   "execution_count": 10,
   "id": "8bf6b6ad",
   "metadata": {},
   "outputs": [
    {
     "name": "stdout",
     "output_type": "stream",
     "text": [
      "True\n",
      "1\n",
      "<list_iterator object at 0x0000021AA1E2A440>\n"
     ]
    }
   ],
   "source": [
    "list_ = iter([1])\n",
    "print(isinstance(list_, Iterator))\n",
    "print(next(list_))\n",
    "print(list_)"
   ]
  },
  {
   "cell_type": "markdown",
   "id": "798596b3",
   "metadata": {},
   "source": [
    "# 模块"
   ]
  },
  {
   "cell_type": "markdown",
   "id": "32cc8443",
   "metadata": {},
   "source": [
    "## 模块定义和导入"
   ]
  },
  {
   "cell_type": "code",
   "execution_count": 4,
   "id": "d44a10d7",
   "metadata": {},
   "outputs": [
    {
     "name": "stdout",
     "output_type": "stream",
     "text": [
      "Hello, --f=c:\\Users\\31653\\AppData\\Roaming\\jupyter\\runtime\\kernel-v3e7a906f15fea2b74f399f50a10c5a25150825dea.json!\n"
     ]
    }
   ],
   "source": [
    "#导入hello.py模块\n",
    "import hello\n",
    "hello.test()"
   ]
  },
  {
   "cell_type": "markdown",
   "id": "73a9395d",
   "metadata": {},
   "source": [
    "# 作用域"
   ]
  },
  {
   "cell_type": "markdown",
   "id": "627823cc",
   "metadata": {},
   "source": [
    "## 局部作用域（Local Scope）"
   ]
  },
  {
   "cell_type": "markdown",
   "id": "543ac1de",
   "metadata": {},
   "source": [
    "局部作用域是在函数内部定义的作用域。在函数内部定义的变量和函数只能在该函数内部访问，函数外部无法直接访问这些局部变量。"
   ]
  },
  {
   "cell_type": "markdown",
   "id": "a0e9aeac",
   "metadata": {},
   "source": [
    "## 嵌套作用域（Enclosing Scope）"
   ]
  },
  {
   "cell_type": "markdown",
   "id": "c9419988",
   "metadata": {},
   "source": [
    "嵌套作用域也称为闭包作用域，当一个函数嵌套在另一个函数内部时，内部函数可以访问外部函数的变量。外部函数的作用域就是嵌套作用域。"
   ]
  },
  {
   "cell_type": "markdown",
   "id": "4b63e958",
   "metadata": {},
   "source": [
    "## 全局作用域（Global Scope）"
   ]
  },
  {
   "cell_type": "markdown",
   "id": "7dd7ebce",
   "metadata": {},
   "source": [
    "全局作用域是在模块（文件）级别定义的作用域。在模块顶层定义的变量和函数属于全局作用域，可以在整个模块的任何地方访问。"
   ]
  },
  {
   "cell_type": "markdown",
   "id": "18e108a1",
   "metadata": {},
   "source": [
    "## 内置作用域（Built - in Scope）"
   ]
  },
  {
   "cell_type": "markdown",
   "id": "a9eff391",
   "metadata": {},
   "source": [
    "内置作用域是 Python 解释器自带的作用域，包含了所有内置的函数和异常类型，如 print()、len()、ValueError 等。这些内置名称在任何地方都可以直接使用。"
   ]
  },
  {
   "cell_type": "markdown",
   "id": "c2aa58ac",
   "metadata": {},
   "source": [
    "## 名称查找顺序"
   ]
  },
  {
   "cell_type": "markdown",
   "id": "16c9da80",
   "metadata": {},
   "source": [
    "Python查找名称时，遵循LEGB规则，即从局部作用域开始，逐层向外查找，直到找到变量/函数或引发NameError异常。"
   ]
  },
  {
   "cell_type": "markdown",
   "id": "bea2961e",
   "metadata": {},
   "source": [
    "## global 语句"
   ]
  },
  {
   "cell_type": "markdown",
   "id": "cfff2166",
   "metadata": {},
   "source": [
    "global 语句用于在函数内部声明一个变量为全局变量，这样在函数内部就可以对全局变量进行修改。  \n",
    "其语法形式为`global 变量名`，可以同时声明多个变量，用逗号分隔。"
   ]
  },
  {
   "cell_type": "markdown",
   "id": "df1dd48d",
   "metadata": {},
   "source": [
    "## nonlocal 语句"
   ]
  },
  {
   "cell_type": "markdown",
   "id": "14e73602",
   "metadata": {},
   "source": [
    "nonlocal 语句用于在嵌套函数中声明一个变量为外层（非全局）函数的变量，从而可以在内部函数中修改外层函数的变量。其语法形式为 `nonlocal 变量` ，同样可以同时声明多个变量。"
   ]
  },
  {
   "cell_type": "code",
   "execution_count": 5,
   "id": "651b4254",
   "metadata": {},
   "outputs": [
    {
     "name": "stdout",
     "output_type": "stream",
     "text": [
      "80\n"
     ]
    }
   ],
   "source": [
    "def outer():\n",
    "    enclosing_variable = 70\n",
    "    def inner():\n",
    "        nonlocal enclosing_variable\n",
    "        enclosing_variable = 80\n",
    "    inner()\n",
    "    print(enclosing_variable)\n",
    "outer()  # 输出: 80"
   ]
  },
  {
   "cell_type": "code",
   "execution_count": null,
   "id": "6184c803",
   "metadata": {},
   "outputs": [
    {
     "name": "stdout",
     "output_type": "stream",
     "text": [
      "70\n"
     ]
    }
   ],
   "source": [
    "def outer():\n",
    "    enclosing_variable = 70\n",
    "    def inner():\n",
    "        enclosing_variable = 80\n",
    "    inner()\n",
    "    print(enclosing_variable)\n",
    "outer()  # 输出: 70"
   ]
  },
  {
   "cell_type": "markdown",
   "id": "77801923",
   "metadata": {},
   "source": [
    "在这个例子中，inner 函数内部使用 nonlocal 语句声明 enclosing_variable 为外层函数 outer 的变量，然后对其进行修改。如果不使用 nonlocal 语句，直接在 inner 函数内部给 enclosing_variable 赋值，Python 会认为这是在创建一个新的局部变量。"
   ]
  },
  {
   "cell_type": "markdown",
   "id": "d141b06c",
   "metadata": {},
   "source": [
    "# 面向对象编程"
   ]
  },
  {
   "cell_type": "markdown",
   "id": "d5bc5565",
   "metadata": {},
   "source": [
    "## 类和实例"
   ]
  },
  {
   "cell_type": "markdown",
   "id": "39c7f152",
   "metadata": {},
   "source": [
    "在Python中，定义类是通过class关键字：\n",
    "\n",
    "    class Student(object):\n",
    "        pass\n",
    "\n",
    "class后面紧接着是类名，即Student，类名通常是大写开头的单词，紧接着是(object)，表示该类是从object类继承下来的。\n",
    "\n",
    "定义好了Student类，就可以根据Student类创建出Student的实例，创建实例是通过类名+()实现的：  \n",
    "`bart = Student()`  \n",
    "\n",
    "可以自由地给一个实例变量绑定属性，比如，给实例bart绑定一个name属性：  \n",
    "`bart.name = 'Bart Simpson'`  \n",
    "\n",
    "由于类可以起到模板的作用，因此，可以在创建实例的时候，把一些我们认为必须绑定的属性强制填写进去。通过定义一个特殊的__init__方法，在创建实例的时候，就把name，score等属性绑上去。注意到__init__方法的第一个参数永远是self，表示创建的实例本身。有了__init__方法，在创建实例的时候，就必须传入与__init__方法匹配的参数，但self不需要传，Python解释器自己会把实例变量传进去：\n"
   ]
  },
  {
   "cell_type": "code",
   "execution_count": 7,
   "id": "ecf01abe",
   "metadata": {},
   "outputs": [
    {
     "name": "stdout",
     "output_type": "stream",
     "text": [
      "Bart Simpson\n",
      "59\n"
     ]
    }
   ],
   "source": [
    "class Student(object):\n",
    "    def __init__(self, name, score):\n",
    "        self.name = name\n",
    "        self.score = score\n",
    "\n",
    "bart = Student('Bart Simpson', 59)\n",
    "print(bart.name)\n",
    "print(bart.score)"
   ]
  },
  {
   "cell_type": "markdown",
   "id": "f9a5c360",
   "metadata": {},
   "source": [
    "也可以给类定义属性，类属性可继承给实例，但实例属性的优先级更高。"
   ]
  },
  {
   "cell_type": "code",
   "execution_count": 7,
   "id": "5b2f6b08",
   "metadata": {},
   "outputs": [
    {
     "name": "stdout",
     "output_type": "stream",
     "text": [
      "Student\n",
      "Student\n",
      "Michael\n",
      "Student\n",
      "Student\n"
     ]
    }
   ],
   "source": [
    "class Student(object):\n",
    "    name = 'Student'\n",
    "\n",
    "s = Student() # 创建实例s\n",
    "print(s.name) # 打印name属性，因为实例并没有name属性，所以会继续查找class的name属性\n",
    "print(Student.name) # 打印类的name属性\n",
    "s.name = 'Michael' # 给实例绑定name属性\n",
    "print(s.name) # 由于实例属性优先级比类属性高，因此，它会屏蔽掉类的name属性\n",
    "print(Student.name) # 但是类属性并未消失，用Student.name仍然可以访问\n",
    "del s.name # 如果删除实例的name属性\n",
    "print(s.name) # 再次调用s.name，由于实例的name属性没有找到，类的name属性就显示出来了\n"
   ]
  },
  {
   "cell_type": "markdown",
   "id": "367d5bf4",
   "metadata": {},
   "source": [
    "### 定制类"
   ]
  },
  {
   "cell_type": "markdown",
   "id": "6e3c375b",
   "metadata": {},
   "source": [
    "#### `__len__()`方法"
   ]
  },
  {
   "cell_type": "markdown",
   "id": "e5e0935d",
   "metadata": {},
   "source": [
    "类似__xxx__的属性和方法在Python中都是有特殊用途的。在Python中，如果你调用len()函数试图获取一个对象的长度，实际上，在len()函数内部，它自动去调用该对象的__len__()方法，所以，下面的代码是等价的："
   ]
  },
  {
   "cell_type": "code",
   "execution_count": 1,
   "id": "3d4b2c3d",
   "metadata": {},
   "outputs": [
    {
     "data": {
      "text/plain": [
       "3"
      ]
     },
     "execution_count": 1,
     "metadata": {},
     "output_type": "execute_result"
    }
   ],
   "source": [
    "len('ABC')\n",
    "'ABC'.__len__()"
   ]
  },
  {
   "cell_type": "markdown",
   "id": "1460f7b5",
   "metadata": {},
   "source": [
    "我们自己写的类，如果也想用len()的话，就自己写一个__len__()方法。"
   ]
  },
  {
   "cell_type": "code",
   "execution_count": 9,
   "id": "8c4457f5",
   "metadata": {},
   "outputs": [
    {
     "data": {
      "text/plain": [
       "1000"
      ]
     },
     "execution_count": 9,
     "metadata": {},
     "output_type": "execute_result"
    }
   ],
   "source": [
    "class MyDog(object):\n",
    "    def __len__(self):\n",
    "        return 1000\n",
    "\n",
    "dog = MyDog()\n",
    "len(dog)"
   ]
  },
  {
   "cell_type": "markdown",
   "id": "184fc933",
   "metadata": {},
   "source": [
    "#### `__str__()`方法&`__repr__()`方法"
   ]
  },
  {
   "cell_type": "markdown",
   "id": "377d41c1",
   "metadata": {},
   "source": [
    "#### `__iter__()`方法"
   ]
  },
  {
   "cell_type": "markdown",
   "id": "348a91b7",
   "metadata": {},
   "source": [
    "如果一个类想被用于for ... in循环，类似list或tuple那样，就必须实现一个__iter__()方法，该方法返回一个迭代对象，然后，Python的for循环就会不断调用该迭代对象的__next__()方法拿到循环的下一个值，直到遇到StopIteration错误时退出循环。\n",
    "\n",
    "我们以斐波那契数列为例，写一个Fib类，可以作用于for循环："
   ]
  },
  {
   "cell_type": "code",
   "execution_count": 10,
   "id": "3ef91b86",
   "metadata": {},
   "outputs": [
    {
     "name": "stdout",
     "output_type": "stream",
     "text": [
      "1\n",
      "1\n",
      "2\n",
      "3\n",
      "5\n",
      "8\n",
      "13\n",
      "21\n",
      "34\n",
      "55\n",
      "89\n",
      "144\n",
      "233\n",
      "377\n",
      "610\n",
      "987\n",
      "1597\n",
      "2584\n",
      "4181\n",
      "6765\n",
      "10946\n",
      "17711\n",
      "28657\n",
      "46368\n",
      "75025\n"
     ]
    }
   ],
   "source": [
    "class Fib(object):\n",
    "    def __init__(self):\n",
    "        self.a, self.b = 0, 1 # 初始化两个计数器a，b\n",
    "\n",
    "    def __iter__(self):\n",
    "        return self # 实例本身就是迭代对象，故返回自己\n",
    "\n",
    "    def __next__(self):\n",
    "        self.a, self.b = self.b, self.a + self.b # 计算下一个值\n",
    "        if self.a > 100000: # 退出循环的条件\n",
    "            raise StopIteration()\n",
    "        return self.a # 返回下一个值\n",
    "\n",
    "for n in Fib():\n",
    "    print(n)"
   ]
  },
  {
   "cell_type": "markdown",
   "id": "04c5fa22",
   "metadata": {},
   "source": [
    "#### `__getitem__()`方法"
   ]
  },
  {
   "cell_type": "markdown",
   "id": "ab4e25e1",
   "metadata": {},
   "source": [
    "Fib实例虽然能作用于for循环，但不能进行切片。如果要能表现得像能切片那样，可以定义__getitem__()方法："
   ]
  },
  {
   "cell_type": "code",
   "execution_count": 12,
   "id": "d5590ef6",
   "metadata": {},
   "outputs": [
    {
     "data": {
      "text/plain": [
       "89"
      ]
     },
     "execution_count": 12,
     "metadata": {},
     "output_type": "execute_result"
    }
   ],
   "source": [
    "class Fib(object):\n",
    "    def __getitem__(self, n):\n",
    "        a, b = 1, 1\n",
    "        for x in range(n):\n",
    "            a, b = b, a + b\n",
    "        return a\n",
    "\n",
    "f = Fib()\n",
    "f[10]"
   ]
  },
  {
   "cell_type": "markdown",
   "id": "38d8a47b",
   "metadata": {},
   "source": [
    "#### `__getattr__()`方法"
   ]
  },
  {
   "cell_type": "markdown",
   "id": "ce63d4ac",
   "metadata": {},
   "source": [
    "当调用不存在的属性时，Python解释器会试图调用__getattr__(self, 'score')来尝试获得属性："
   ]
  },
  {
   "cell_type": "code",
   "execution_count": null,
   "id": "481a9233",
   "metadata": {},
   "outputs": [
    {
     "name": "stdout",
     "output_type": "stream",
     "text": [
      "Michael\n",
      "99\n"
     ]
    },
    {
     "ename": "AttributeError",
     "evalue": "'Student' object has no attribute 'abc'",
     "output_type": "error",
     "traceback": [
      "\u001b[1;31m---------------------------------------------------------------------------\u001b[0m",
      "\u001b[1;31mAttributeError\u001b[0m                            Traceback (most recent call last)",
      "Cell \u001b[1;32mIn[15], line 12\u001b[0m\n\u001b[0;32m     10\u001b[0m \u001b[38;5;28mprint\u001b[39m(s\u001b[38;5;241m.\u001b[39mname)\n\u001b[0;32m     11\u001b[0m \u001b[38;5;28mprint\u001b[39m(s\u001b[38;5;241m.\u001b[39mscore)\n\u001b[1;32m---> 12\u001b[0m \u001b[38;5;28mprint\u001b[39m(\u001b[43ms\u001b[49m\u001b[38;5;241;43m.\u001b[39;49m\u001b[43mabc\u001b[49m)\n",
      "Cell \u001b[1;32mIn[15], line 8\u001b[0m, in \u001b[0;36mStudent.__getattr__\u001b[1;34m(self, attr)\u001b[0m\n\u001b[0;32m      6\u001b[0m \u001b[38;5;28;01mif\u001b[39;00m attr\u001b[38;5;241m==\u001b[39m\u001b[38;5;124m'\u001b[39m\u001b[38;5;124mscore\u001b[39m\u001b[38;5;124m'\u001b[39m:\n\u001b[0;32m      7\u001b[0m     \u001b[38;5;28;01mreturn\u001b[39;00m \u001b[38;5;241m99\u001b[39m\n\u001b[1;32m----> 8\u001b[0m \u001b[38;5;28;01mraise\u001b[39;00m \u001b[38;5;167;01mAttributeError\u001b[39;00m(\u001b[38;5;124m'\u001b[39m\u001b[38;5;130;01m\\'\u001b[39;00m\u001b[38;5;124mStudent\u001b[39m\u001b[38;5;130;01m\\'\u001b[39;00m\u001b[38;5;124m object has no attribute \u001b[39m\u001b[38;5;130;01m\\'\u001b[39;00m\u001b[38;5;132;01m%s\u001b[39;00m\u001b[38;5;130;01m\\'\u001b[39;00m\u001b[38;5;124m'\u001b[39m \u001b[38;5;241m%\u001b[39m attr)\n",
      "\u001b[1;31mAttributeError\u001b[0m: 'Student' object has no attribute 'abc'"
     ]
    }
   ],
   "source": [
    "class Student(object):\n",
    "    def __init__(self):\n",
    "        self.name = 'Michael'\n",
    "\n",
    "    def __getattr__(self, attr):\n",
    "        if attr=='score':\n",
    "            return 99\n",
    "        raise AttributeError('\\'Student\\' object has no attribute \\'%s\\'' % attr) #无此行调用其它属性时返回None\n",
    "s = Student()\n",
    "print(s.name)\n",
    "print(s.score)\n",
    "print(s.abc)"
   ]
  },
  {
   "cell_type": "markdown",
   "id": "0169ed0c",
   "metadata": {},
   "source": [
    "#### `__call__()`方法"
   ]
  },
  {
   "cell_type": "markdown",
   "id": "dd72282c",
   "metadata": {},
   "source": [
    "任何类，只需要定义一个__call__()方法，就可以直接对实例进行调用："
   ]
  },
  {
   "cell_type": "code",
   "execution_count": 16,
   "id": "912048b7",
   "metadata": {},
   "outputs": [
    {
     "name": "stdout",
     "output_type": "stream",
     "text": [
      "My name is Michael.\n"
     ]
    }
   ],
   "source": [
    "class Student(object):\n",
    "    def __init__(self, name):\n",
    "        self.name = name\n",
    "\n",
    "    def __call__(self):\n",
    "        print('My name is %s.' % self.name)\n",
    "\n",
    "s = Student('Michael')\n",
    "s()"
   ]
  },
  {
   "cell_type": "markdown",
   "id": "ab870248",
   "metadata": {},
   "source": [
    "### 枚举类"
   ]
  },
  {
   "cell_type": "markdown",
   "id": "e1a5c08a",
   "metadata": {},
   "source": [
    "Enum可以把一组相关常量定义在一个class中，且class不可变，而且成员可以直接比较。"
   ]
  },
  {
   "cell_type": "code",
   "execution_count": 25,
   "id": "41a35237",
   "metadata": {},
   "outputs": [
    {
     "name": "stdout",
     "output_type": "stream",
     "text": [
      "Jan => Month.Jan , 1\n",
      "Feb => Month.Feb , 2\n",
      "Mar => Month.Mar , 3\n",
      "Apr => Month.Apr , 4\n",
      "May => Month.May , 5\n",
      "Jun => Month.Jun , 6\n",
      "Jul => Month.Jul , 7\n",
      "Aug => Month.Aug , 8\n",
      "Sep => Month.Sep , 9\n",
      "Oct => Month.Oct , 10\n",
      "Nov => Month.Nov , 11\n",
      "Dec => Month.Dec , 12\n"
     ]
    }
   ],
   "source": [
    "from enum import Enum\n",
    "\n",
    "Month = Enum('Month', ('Jan', 'Feb', 'Mar', 'Apr', 'May', 'Jun', 'Jul', 'Aug', 'Sep', 'Oct', 'Nov', 'Dec'))\n",
    "for name, member in Month.__members__.items():\n",
    "    print(name, '=>', member, ',', member.value)"
   ]
  },
  {
   "cell_type": "markdown",
   "id": "aa6d3e8b",
   "metadata": {},
   "source": [
    "value属性则是自动赋给成员的int常量，默认从1开始计数。\n",
    "\n",
    "如果需要更精确地控制枚举类型，可以从Enum派生出自定义类：\n",
    "\n",
    "@unique装饰器可以帮助我们检查保证没有重复值。"
   ]
  },
  {
   "cell_type": "code",
   "execution_count": 27,
   "id": "6ecc6043",
   "metadata": {},
   "outputs": [
    {
     "name": "stdout",
     "output_type": "stream",
     "text": [
      "Weekday.Tue\n",
      "2\n",
      "Weekday.Tue\n"
     ]
    }
   ],
   "source": [
    "from enum import Enum, unique\n",
    "\n",
    "@unique\n",
    "class Weekday(Enum):\n",
    "    Sun = 0 # Sun的value被设定为0\n",
    "    Mon = 1\n",
    "    Tue = 2\n",
    "    Wed = 3\n",
    "    Thu = 4\n",
    "    Fri = 5\n",
    "    Sat = 6\n",
    "\n",
    "print(Weekday.Tue)\n",
    "print(Weekday.Tue.value)\n",
    "print(Weekday(2))"
   ]
  },
  {
   "cell_type": "markdown",
   "id": "642fd015",
   "metadata": {},
   "source": [
    "### 元类"
   ]
  },
  {
   "cell_type": "markdown",
   "id": "fb40eba0",
   "metadata": {},
   "source": []
  },
  {
   "cell_type": "markdown",
   "id": "d3848950",
   "metadata": {},
   "source": [
    "## 数据封装"
   ]
  },
  {
   "cell_type": "markdown",
   "id": "4c43288f",
   "metadata": {},
   "source": [
    "我们从外部看Student类，只需要知道，创建实例需要给出name和score，而如何打印，都是在Student类的内部定义的。因此，这些数据和方法被“封装”起来了。"
   ]
  },
  {
   "cell_type": "code",
   "execution_count": 9,
   "id": "e3c37c2d",
   "metadata": {},
   "outputs": [
    {
     "name": "stdout",
     "output_type": "stream",
     "text": [
      "Bart Simpson: 59\n"
     ]
    }
   ],
   "source": [
    "class Student(object):\n",
    "    def __init__(self, name, score):\n",
    "        self.name = name\n",
    "        self.score = score\n",
    "\n",
    "    def print_score(self):\n",
    "        print('%s: %s' % (self.name, self.score))\n",
    "\n",
    "bart = Student('Bart Simpson', 59)\n",
    "bart.print_score()"
   ]
  },
  {
   "cell_type": "markdown",
   "id": "740024cc",
   "metadata": {},
   "source": [
    "封装还可以给Student类下的实例定义方法，比如get_grade："
   ]
  },
  {
   "cell_type": "code",
   "execution_count": 10,
   "id": "769d885b",
   "metadata": {},
   "outputs": [
    {
     "data": {
      "text/plain": [
       "'C'"
      ]
     },
     "execution_count": 10,
     "metadata": {},
     "output_type": "execute_result"
    }
   ],
   "source": [
    "class Student(object):\n",
    "    def __init__(self, name, score):\n",
    "        self.name = name\n",
    "        self.score = score\n",
    "\n",
    "    def print_score(self):\n",
    "        print('%s: %s' % (self.name, self.score))\n",
    "\n",
    "    def get_grade(self):\n",
    "        if self.score >= 90:\n",
    "            return 'A'\n",
    "        elif self.score >= 60:\n",
    "            return 'B'\n",
    "        else:\n",
    "            return 'C'\n",
    "\n",
    "bart = Student('Bart Simpson', 59)\n",
    "bart.get_grade()"
   ]
  },
  {
   "cell_type": "markdown",
   "id": "86df4820",
   "metadata": {},
   "source": [
    "也可以自由给实例绑定方法"
   ]
  },
  {
   "cell_type": "code",
   "execution_count": null,
   "id": "7081e24d",
   "metadata": {},
   "outputs": [
    {
     "name": "stdout",
     "output_type": "stream",
     "text": [
      "18\n",
      "18\n"
     ]
    }
   ],
   "source": [
    "class Student(object):\n",
    "    def __init__(self, name, score):\n",
    "        self.name = name\n",
    "        self.score = score\n",
    "\n",
    "def set_age(self, age):\n",
    "    self.age = age\n",
    "\n",
    "from types import MethodType\n",
    "stu = Student('Jack',66)\n",
    "\n",
    "#直接赋值函数，但不会自动绑定self，调用时需手动传参\n",
    "stu.set_age = set_age\n",
    "stu.set_age(stu,18)\n",
    "print(stu.age)\n",
    "\n",
    "#使用 types.MethodType，可以自动绑定self\n",
    "stu.set_age = MethodType(set_age, stu)\n",
    "stu.set_age(18)\n",
    "print(stu.age)"
   ]
  },
  {
   "cell_type": "markdown",
   "id": "50977cb5",
   "metadata": {},
   "source": [
    "但是，给一个实例绑定的方法，对另一个实例是不起作用的。\n",
    "\n",
    "为了给所有实例都绑定方法，可以给class绑定方法："
   ]
  },
  {
   "cell_type": "code",
   "execution_count": 12,
   "id": "0c66a6b1",
   "metadata": {},
   "outputs": [
    {
     "data": {
      "text/plain": [
       "19"
      ]
     },
     "execution_count": 12,
     "metadata": {},
     "output_type": "execute_result"
    }
   ],
   "source": [
    "class Student(object):\n",
    "    def __init__(self, name, score):\n",
    "        self.name = name\n",
    "        self.score = score\n",
    "\n",
    "def set_age(self, age):\n",
    "    self.age = age\n",
    "\n",
    "Student.set_age = set_age\n",
    "stu = Student('Frank',90)\n",
    "stu.set_age(19)\n",
    "stu.age"
   ]
  },
  {
   "cell_type": "markdown",
   "id": "b90d3ad5",
   "metadata": {},
   "source": [
    "### `__slots__` 变量"
   ]
  },
  {
   "cell_type": "markdown",
   "id": "250cdd4b",
   "metadata": {},
   "source": [
    "在定义实例的时候，使用__slots__变量可以限制该实例能添加的属性："
   ]
  },
  {
   "cell_type": "code",
   "execution_count": 13,
   "id": "edae034e",
   "metadata": {},
   "outputs": [
    {
     "ename": "AttributeError",
     "evalue": "'Student' object has no attribute 'score'",
     "output_type": "error",
     "traceback": [
      "\u001b[1;31m---------------------------------------------------------------------------\u001b[0m",
      "\u001b[1;31mAttributeError\u001b[0m                            Traceback (most recent call last)",
      "Cell \u001b[1;32mIn[13], line 7\u001b[0m\n\u001b[0;32m      5\u001b[0m s\u001b[38;5;241m.\u001b[39mname \u001b[38;5;241m=\u001b[39m \u001b[38;5;124m'\u001b[39m\u001b[38;5;124mMichael\u001b[39m\u001b[38;5;124m'\u001b[39m \u001b[38;5;66;03m# 绑定属性'name'\u001b[39;00m\n\u001b[0;32m      6\u001b[0m s\u001b[38;5;241m.\u001b[39mage \u001b[38;5;241m=\u001b[39m \u001b[38;5;241m25\u001b[39m \u001b[38;5;66;03m# 绑定属性'age'\u001b[39;00m\n\u001b[1;32m----> 7\u001b[0m \u001b[43ms\u001b[49m\u001b[38;5;241;43m.\u001b[39;49m\u001b[43mscore\u001b[49m \u001b[38;5;241m=\u001b[39m \u001b[38;5;241m99\u001b[39m \u001b[38;5;66;03m# 绑定属性'score'\u001b[39;00m\n",
      "\u001b[1;31mAttributeError\u001b[0m: 'Student' object has no attribute 'score'"
     ]
    }
   ],
   "source": [
    "class Student(object):\n",
    "    __slots__ = ('name', 'age') # 用tuple定义允许绑定的属性名称\n",
    "\n",
    "s = Student() # 创建新的实例\n",
    "s.name = 'Michael' # 绑定属性'name'\n",
    "s.age = 25 # 绑定属性'age'\n",
    "s.score = 99 # 绑定属性'score'"
   ]
  },
  {
   "cell_type": "markdown",
   "id": "3fa0d9bb",
   "metadata": {},
   "source": [
    "使用__slots__要注意，__slots__定义的属性仅对当前类实例起作用，对继承的子类是不起作用的。\n",
    "\n",
    "除非在子类中也定义__slots__，这样，子类实例允许定义的属性就是自身的__slots__加上父类的__slots__。"
   ]
  },
  {
   "cell_type": "markdown",
   "id": "6bde0c9b",
   "metadata": {},
   "source": [
    "### `@property`装饰器"
   ]
  },
  {
   "cell_type": "markdown",
   "id": "40cba5af",
   "metadata": {},
   "source": [
    "`@property`和`@<property_name>.setter`是用于管理类属性的装饰器，它们允许以方法的形式控制属性的访问和修改，同时保持类接口的简洁性（像直接访问属性一样调用）。\n",
    "\n",
    "`@property`可以用于计算和保护数据，`@<property_name>.setter`用于允许修改数据和赋值检验。"
   ]
  },
  {
   "cell_type": "code",
   "execution_count": 18,
   "id": "5b1539c6",
   "metadata": {},
   "outputs": [
    {
     "name": "stdout",
     "output_type": "stream",
     "text": [
      "Alice\n"
     ]
    },
    {
     "ename": "AttributeError",
     "evalue": "property 'name' of 'Person' object has no setter",
     "output_type": "error",
     "traceback": [
      "\u001b[1;31m---------------------------------------------------------------------------\u001b[0m",
      "\u001b[1;31mAttributeError\u001b[0m                            Traceback (most recent call last)",
      "Cell \u001b[1;32mIn[18], line 12\u001b[0m\n\u001b[0;32m     10\u001b[0m p \u001b[38;5;241m=\u001b[39m Person(\u001b[38;5;124m\"\u001b[39m\u001b[38;5;124mAlice\u001b[39m\u001b[38;5;124m\"\u001b[39m)\n\u001b[0;32m     11\u001b[0m \u001b[38;5;28mprint\u001b[39m(p\u001b[38;5;241m.\u001b[39mname)  \u001b[38;5;66;03m# 输出 \"Alice\"\u001b[39;00m\n\u001b[1;32m---> 12\u001b[0m \u001b[43mp\u001b[49m\u001b[38;5;241;43m.\u001b[39;49m\u001b[43mname\u001b[49m \u001b[38;5;241m=\u001b[39m \u001b[38;5;124m\"\u001b[39m\u001b[38;5;124mBob\u001b[39m\u001b[38;5;124m\"\u001b[39m  \u001b[38;5;66;03m# 报错: AttributeError: can't set attribute\u001b[39;00m\n",
      "\u001b[1;31mAttributeError\u001b[0m: property 'name' of 'Person' object has no setter"
     ]
    }
   ],
   "source": [
    "class Person:\n",
    "    def __init__(self, name):\n",
    "        self._name = name  # 用 _ 表示“受保护”变量\n",
    "\n",
    "    @property\n",
    "    def name(self):\n",
    "        \"\"\"只允许获取 name，不能直接修改\"\"\"\n",
    "        return self._name\n",
    "\n",
    "p = Person(\"Alice\")\n",
    "print(p.name)  # 输出 \"Alice\"\n",
    "p.name = \"Bob\"  # 报错: AttributeError: can't set attribute"
   ]
  },
  {
   "cell_type": "code",
   "execution_count": 19,
   "id": "686e03d7",
   "metadata": {},
   "outputs": [
    {
     "name": "stdout",
     "output_type": "stream",
     "text": [
      "Bob\n"
     ]
    },
    {
     "ename": "ValueError",
     "evalue": "Name must be a string!",
     "output_type": "error",
     "traceback": [
      "\u001b[1;31m---------------------------------------------------------------------------\u001b[0m",
      "\u001b[1;31mValueError\u001b[0m                                Traceback (most recent call last)",
      "Cell \u001b[1;32mIn[19], line 19\u001b[0m\n\u001b[0;32m     16\u001b[0m p\u001b[38;5;241m.\u001b[39mname \u001b[38;5;241m=\u001b[39m \u001b[38;5;124m\"\u001b[39m\u001b[38;5;124mBob\u001b[39m\u001b[38;5;124m\"\u001b[39m  \u001b[38;5;66;03m# 正常修改\u001b[39;00m\n\u001b[0;32m     17\u001b[0m \u001b[38;5;28mprint\u001b[39m(p\u001b[38;5;241m.\u001b[39mname)   \u001b[38;5;66;03m# 输出 \"Bob\"\u001b[39;00m\n\u001b[1;32m---> 19\u001b[0m \u001b[43mp\u001b[49m\u001b[38;5;241;43m.\u001b[39;49m\u001b[43mname\u001b[49m \u001b[38;5;241m=\u001b[39m \u001b[38;5;241m123\u001b[39m    \u001b[38;5;66;03m# 报错: ValueError: Name must be a string!\u001b[39;00m\n",
      "Cell \u001b[1;32mIn[19], line 12\u001b[0m, in \u001b[0;36mPerson.name\u001b[1;34m(self, value)\u001b[0m\n\u001b[0;32m      9\u001b[0m \u001b[38;5;129m@name\u001b[39m\u001b[38;5;241m.\u001b[39msetter\n\u001b[0;32m     10\u001b[0m \u001b[38;5;28;01mdef\u001b[39;00m \u001b[38;5;21mname\u001b[39m(\u001b[38;5;28mself\u001b[39m, value):\n\u001b[0;32m     11\u001b[0m     \u001b[38;5;28;01mif\u001b[39;00m \u001b[38;5;129;01mnot\u001b[39;00m \u001b[38;5;28misinstance\u001b[39m(value, \u001b[38;5;28mstr\u001b[39m):\n\u001b[1;32m---> 12\u001b[0m         \u001b[38;5;28;01mraise\u001b[39;00m \u001b[38;5;167;01mValueError\u001b[39;00m(\u001b[38;5;124m\"\u001b[39m\u001b[38;5;124mName must be a string!\u001b[39m\u001b[38;5;124m\"\u001b[39m)\n\u001b[0;32m     13\u001b[0m     \u001b[38;5;28mself\u001b[39m\u001b[38;5;241m.\u001b[39m_name \u001b[38;5;241m=\u001b[39m value\n",
      "\u001b[1;31mValueError\u001b[0m: Name must be a string!"
     ]
    }
   ],
   "source": [
    "class Person:\n",
    "    def __init__(self, name):\n",
    "        self._name = name\n",
    "\n",
    "    @property\n",
    "    def name(self):\n",
    "        return self._name\n",
    "\n",
    "    @name.setter\n",
    "    def name(self, value):\n",
    "        if not isinstance(value, str):\n",
    "            raise ValueError(\"Name must be a string!\")\n",
    "        self._name = value\n",
    "\n",
    "p = Person(\"Alice\")\n",
    "p.name = \"Bob\"  # 正常修改\n",
    "print(p.name)   # 输出 \"Bob\"\n",
    "\n",
    "p.name = 123    # 报错: ValueError: Name must be a string!"
   ]
  },
  {
   "cell_type": "markdown",
   "id": "33b9c748",
   "metadata": {},
   "source": [
    "### 练习\n",
    "\n",
    "请利用@property给一个Screen对象加上width和height属性，以及一个只读属性resolution："
   ]
  },
  {
   "cell_type": "code",
   "execution_count": 17,
   "id": "ffc6d596",
   "metadata": {},
   "outputs": [
    {
     "name": "stdout",
     "output_type": "stream",
     "text": [
      "resolution = 786432\n",
      "测试通过!\n"
     ]
    }
   ],
   "source": [
    "class Screen(object):\n",
    "    @property\n",
    "    def width(self):\n",
    "        return self._width\n",
    "    @property\n",
    "    def height(self):\n",
    "        return self._height\n",
    "    @property\n",
    "    def resolution(self):\n",
    "        return self._height*self._width\n",
    "\n",
    "    @width.setter\n",
    "    def width(self, value):\n",
    "        self._width = value\n",
    "    \n",
    "    @height.setter\n",
    "    def height(self, value):\n",
    "        self._height = value\n",
    "\n",
    "# 测试:\n",
    "s = Screen()\n",
    "s.width = 1024\n",
    "s.height = 768\n",
    "print('resolution =', s.resolution)\n",
    "if s.resolution == 786432:\n",
    "    print('测试通过!')\n",
    "else:\n",
    "    print('测试失败!')\n"
   ]
  },
  {
   "cell_type": "markdown",
   "id": "25d093ed",
   "metadata": {},
   "source": [
    "## 访问限制"
   ]
  },
  {
   "cell_type": "markdown",
   "id": "5e6db4c6",
   "metadata": {},
   "source": [
    "如果要让内部属性不被外部访问，可以把属性的名称前加上两个下划线__，在Python中，实例的变量名如果以__开头，就变成了一个私有变量（private），只有内部可以访问。改完后，无法从外部访问实例变量.__name和实例变量.__score了："
   ]
  },
  {
   "cell_type": "code",
   "execution_count": 11,
   "id": "497ad2b6",
   "metadata": {},
   "outputs": [
    {
     "ename": "AttributeError",
     "evalue": "'Student' object has no attribute '__name'",
     "output_type": "error",
     "traceback": [
      "\u001b[1;31m---------------------------------------------------------------------------\u001b[0m",
      "\u001b[1;31mAttributeError\u001b[0m                            Traceback (most recent call last)",
      "Cell \u001b[1;32mIn[11], line 10\u001b[0m\n\u001b[0;32m      7\u001b[0m         \u001b[38;5;28mprint\u001b[39m(\u001b[38;5;124m'\u001b[39m\u001b[38;5;132;01m%s\u001b[39;00m\u001b[38;5;124m: \u001b[39m\u001b[38;5;132;01m%s\u001b[39;00m\u001b[38;5;124m'\u001b[39m \u001b[38;5;241m%\u001b[39m (\u001b[38;5;28mself\u001b[39m\u001b[38;5;241m.\u001b[39m__name, \u001b[38;5;28mself\u001b[39m\u001b[38;5;241m.\u001b[39m__score))\n\u001b[0;32m      9\u001b[0m bart \u001b[38;5;241m=\u001b[39m Student(\u001b[38;5;124m'\u001b[39m\u001b[38;5;124mBart Simpson\u001b[39m\u001b[38;5;124m'\u001b[39m, \u001b[38;5;241m59\u001b[39m)\n\u001b[1;32m---> 10\u001b[0m \u001b[43mbart\u001b[49m\u001b[38;5;241;43m.\u001b[39;49m\u001b[43m__name\u001b[49m\n",
      "\u001b[1;31mAttributeError\u001b[0m: 'Student' object has no attribute '__name'"
     ]
    }
   ],
   "source": [
    "class Student(object):\n",
    "    def __init__(self, name, score):\n",
    "        self.__name = name\n",
    "        self.__score = score\n",
    "\n",
    "    def print_score(self):\n",
    "        print('%s: %s' % (self.__name, self.__score))\n",
    "\n",
    "bart = Student('Bart Simpson', 59)\n",
    "bart.__name"
   ]
  },
  {
   "cell_type": "markdown",
   "id": "e6c0c07a",
   "metadata": {},
   "source": [
    "如果要获取name和score，需要增加get_name和get_score这样的方法；如果要允许外部代码修改score，需要给Student类增加set_score方法，这样可以对传入的参数进行检查。"
   ]
  },
  {
   "cell_type": "code",
   "execution_count": 14,
   "id": "0f2512a7",
   "metadata": {},
   "outputs": [
    {
     "name": "stdout",
     "output_type": "stream",
     "text": [
      "Bart Simpson\n",
      "59\n",
      "99\n"
     ]
    }
   ],
   "source": [
    "class Student(object):\n",
    "    def __init__(self, name, score):\n",
    "        self.__name = name\n",
    "        self.__score = score\n",
    "\n",
    "    def print_score(self):\n",
    "        print('%s: %s' % (self.__name, self.__score))\n",
    "\n",
    "    def get_name(self):\n",
    "        return self.__name\n",
    "\n",
    "    def get_score(self):\n",
    "        return self.__score\n",
    "    \n",
    "    def set_score(self, score):\n",
    "        if 0 <= score <= 100:\n",
    "            self.__score = score\n",
    "        else:\n",
    "            raise ValueError('bad score')\n",
    "\n",
    "bart = Student('Bart Simpson', 59)\n",
    "print(bart.get_name())\n",
    "print(bart.get_score())\n",
    "bart.set_score(99)\n",
    "print(bart.get_score())"
   ]
  },
  {
   "cell_type": "markdown",
   "id": "323e7bc0",
   "metadata": {},
   "source": [
    "### 练习  \n",
    "请把下面的Student对象的gender字段对外隐藏起来，用get_gender()和set_gender()代替，并检查参数有效性："
   ]
  },
  {
   "cell_type": "code",
   "execution_count": 3,
   "id": "2ededd81",
   "metadata": {},
   "outputs": [
    {
     "name": "stdout",
     "output_type": "stream",
     "text": [
      "测试成功!\n"
     ]
    }
   ],
   "source": [
    "class Student(object):\n",
    "    def __init__(self, name, gender):\n",
    "        self.__name = name\n",
    "        self.__gender = gender\n",
    "    \n",
    "    def get_gender(self):\n",
    "        return self.__gender\n",
    "    \n",
    "    def set_gender(self, gender):\n",
    "        self.__gender = gender\n",
    "\n",
    "# 测试:\n",
    "bart = Student('Bart', 'male')\n",
    "if bart.get_gender() != 'male':\n",
    "    print('测试失败!')\n",
    "else:\n",
    "    bart.set_gender('female')\n",
    "    if bart.get_gender() != 'female':\n",
    "        print('测试失败!')\n",
    "    else:\n",
    "        print('测试成功!')"
   ]
  },
  {
   "cell_type": "markdown",
   "id": "60bd0adf",
   "metadata": {},
   "source": [
    "## 继承和多态"
   ]
  },
  {
   "cell_type": "markdown",
   "id": "5f7a6934",
   "metadata": {},
   "source": [
    "当我们定义一个class的时候，可以从某个现有的class继承，新的class称为子类（Subclass），而被继承的class称为父类（Base class）。\n",
    "\n",
    "比如，我们已经编写了一个名为Animal的class，有一个run()方法可以直接打印。当我们需要编写Dog和Cat类时，就可以直接从Animal类继承所有的方法。\n",
    "\n",
    "当然，也可以对子类增加一些方法，比如给Car类增加自己的run方法。当子类和父类都存在相同的run()方法时，子类的run()覆盖了父类的run()，在代码运行的时候，总是会调用子类的run()。\n",
    "\n",
    "在继承关系中，如果一个实例的数据类型是某个子类，那它的数据类型也可以被看做是父类。所以对于一个变量，我们只需要知道它是Animal类型，无需确切地知道它的子类型，就可以放心地调用run()方法，而具体调用的run()方法是作用在Animal、Dog、Cat还是Tortoise对象上，由运行时该对象的确切类型决定。而当我们新增一种Animal的子类时，只要确保run()方法编写正确，不用管原来的代码是如何调用的。这就是著名的“开闭”原则：\n",
    "\n",
    "对扩展开放：允许新增Animal子类；\n",
    "\n",
    "对修改封闭：不需要修改依赖Animal类型的run_twice()等函数。\n",
    "\n",
    "继承还可以一级一级地继承下来，就好比从爷爷到爸爸、再到儿子这样的关系。而任何类，最终都可以追溯到根类object。\n",
    "\n",
    "静态语言 vs 动态语言：\n",
    "\n",
    "对于静态语言（例如Java）来说，如果需要传入Animal类型，则传入的对象必须是Animal类型或者它的子类，否则，将无法调用run()方法。\n",
    "\n",
    "对于Python这样的动态语言来说，则不一定需要传入Animal类型。我们只需要保证传入的对象有一个run()方法就可以了。\n",
    "\n",
    "这就是动态语言的“鸭子类型”，它并不要求严格的继承体系，一个对象只要“看起来像鸭子，走起路来像鸭子”，那它就可以被看做是鸭子。"
   ]
  },
  {
   "cell_type": "code",
   "execution_count": null,
   "id": "1e02aca2",
   "metadata": {},
   "outputs": [
    {
     "name": "stdout",
     "output_type": "stream",
     "text": [
      "Animal is running...\n",
      "Animal is running...\n",
      "Animal is running...\n",
      "Animal is running...\n",
      "Cat is running...\n",
      "Cat is running...\n",
      "Car is running...\n",
      "Car is running...\n"
     ]
    },
    {
     "ename": "AttributeError",
     "evalue": "'Stone' object has no attribute 'run'",
     "output_type": "error",
     "traceback": [
      "\u001b[1;31m---------------------------------------------------------------------------\u001b[0m",
      "\u001b[1;31mAttributeError\u001b[0m                            Traceback (most recent call last)",
      "Cell \u001b[1;32mIn[5], line 28\u001b[0m\n\u001b[0;32m     26\u001b[0m run_twice(Cat())\n\u001b[0;32m     27\u001b[0m run_twice(Car())\n\u001b[1;32m---> 28\u001b[0m \u001b[43mrun_twice\u001b[49m\u001b[43m(\u001b[49m\u001b[43mStone\u001b[49m\u001b[43m(\u001b[49m\u001b[43m)\u001b[49m\u001b[43m)\u001b[49m\n",
      "Cell \u001b[1;32mIn[5], line 21\u001b[0m, in \u001b[0;36mrun_twice\u001b[1;34m(Animal)\u001b[0m\n\u001b[0;32m     20\u001b[0m \u001b[38;5;28;01mdef\u001b[39;00m \u001b[38;5;21mrun_twice\u001b[39m(Animal):\n\u001b[1;32m---> 21\u001b[0m     \u001b[43mAnimal\u001b[49m\u001b[38;5;241;43m.\u001b[39;49m\u001b[43mrun\u001b[49m()\n\u001b[0;32m     22\u001b[0m     Animal\u001b[38;5;241m.\u001b[39mrun()\n",
      "\u001b[1;31mAttributeError\u001b[0m: 'Stone' object has no attribute 'run'"
     ]
    }
   ],
   "source": [
    "class Animal(object):   #编写Animal类\n",
    "    def run(self):\n",
    "        print(\"Animal is running...\")\n",
    "\n",
    "class Dog(Animal):  #Dog类继承Amimal类，没有run方法，继承Animal类的run方法\n",
    "    pass\n",
    "\n",
    "class Cat(Animal):  #Cat类继承Animal类，有自己的run方法\n",
    "    def run(self):\n",
    "        print('Cat is running...')\n",
    "    pass\n",
    "\n",
    "class Car(object):  #Car类为object类型，有自己的run方法，可以传入\n",
    "    def run(self):\n",
    "        print('Car is running...')\n",
    "\n",
    "class Stone(object):  #Stone类不继承，也没有run方法，不可以传入\n",
    "    pass\n",
    "\n",
    "def run_twice(animal):  #只要对象有run方法都可运行，无论对象名是什么\n",
    "    animal.run()\n",
    "    animal.run()\n",
    "\n",
    "run_twice(Animal())\n",
    "run_twice(Dog())\n",
    "run_twice(Cat())\n",
    "run_twice(Car())\n",
    "run_twice(Stone())"
   ]
  },
  {
   "cell_type": "markdown",
   "id": "a0752c55",
   "metadata": {},
   "source": [
    "### 多重继承"
   ]
  },
  {
   "cell_type": "markdown",
   "id": "ff11c9f2",
   "metadata": {},
   "source": [
    "通过多重继承，一个子类就可以同时获得多个父类的所有功能。\n",
    "\n",
    "在设计类的继承关系时，如果需要“混入”额外的功能，通过多重继承就可以实现，比如，让Ostrich除了继承自Bird外，再同时继承Runnable。这种设计通常称之为MixIn。\n",
    "\n",
    "MixIn的目的就是给一个类增加多个功能，这样，在设计类的时候，我们优先考虑通过多重继承来组合多个MixIn的功能，而不是设计多层次的复杂的继承关系。"
   ]
  },
  {
   "cell_type": "markdown",
   "id": "1dab00ac",
   "metadata": {},
   "source": [
    "    class Dog(Mammal, RunnableMixIn, CarnivorousMixIn):\n",
    "        pass"
   ]
  },
  {
   "cell_type": "markdown",
   "id": "253efaa9",
   "metadata": {},
   "source": [
    "## 获取对象信息"
   ]
  },
  {
   "cell_type": "code",
   "execution_count": 6,
   "id": "b3af983c",
   "metadata": {},
   "outputs": [
    {
     "name": "stdout",
     "output_type": "stream",
     "text": [
      "<class 'int'>\n",
      "<class 'str'>\n",
      "<class 'builtin_function_or_method'>\n",
      "True\n",
      "True\n",
      "True\n",
      "True\n",
      "True\n",
      "True\n",
      "True\n",
      "True\n",
      "True\n",
      "['__add__', '__class__', '__contains__', '__delattr__', '__dir__', '__doc__', '__eq__', '__format__', '__ge__', '__getattribute__', '__getitem__', '__getnewargs__', '__getstate__', '__gt__', '__hash__', '__init__', '__init_subclass__', '__iter__', '__le__', '__len__', '__lt__', '__mod__', '__mul__', '__ne__', '__new__', '__reduce__', '__reduce_ex__', '__repr__', '__rmod__', '__rmul__', '__setattr__', '__sizeof__', '__str__', '__subclasshook__', 'capitalize', 'casefold', 'center', 'count', 'encode', 'endswith', 'expandtabs', 'find', 'format', 'format_map', 'index', 'isalnum', 'isalpha', 'isascii', 'isdecimal', 'isdigit', 'isidentifier', 'islower', 'isnumeric', 'isprintable', 'isspace', 'istitle', 'isupper', 'join', 'ljust', 'lower', 'lstrip', 'maketrans', 'partition', 'removeprefix', 'removesuffix', 'replace', 'rfind', 'rindex', 'rjust', 'rpartition', 'rsplit', 'rstrip', 'split', 'splitlines', 'startswith', 'strip', 'swapcase', 'title', 'translate', 'upper', 'zfill']\n",
      "True\n",
      "9\n",
      "19\n",
      "404\n",
      "81\n"
     ]
    }
   ],
   "source": [
    "import types\n",
    "#获取类型\n",
    "print(type(123))\n",
    "print(type('123'))\n",
    "print(type(abs))\n",
    "#判断类型\n",
    "print(type(123)==int)\n",
    "print(type(abs)==types.BuiltinFunctionType)\n",
    "print(type(lambda x: x)==types.LambdaType)\n",
    "print(type((x for x in range(10)))==types.GeneratorType)\n",
    "\n",
    "print(isinstance('a', str))\n",
    "print(isinstance(123, int))\n",
    "print(isinstance([1, 2, 3], (list, tuple))) #判断是否为其中的一种\n",
    "class Animal(object):\n",
    "    pass\n",
    "class Cat(Animal):\n",
    "    pass\n",
    "class Kitty(Cat):\n",
    "    pass\n",
    "animal = Animal()\n",
    "cat = Cat()\n",
    "kitty = Kitty()\n",
    "print(isinstance(kitty, Animal))\n",
    "print(isinstance(kitty, Cat))\n",
    "#获取属性和方法\n",
    "print(dir('ABC'))\n",
    "#判断、获取、设置属性和方法\n",
    "class MyObject(object):\n",
    "    def __init__(self):\n",
    "        self.x = 9\n",
    "    def power(self):\n",
    "        return self.x * self.x\n",
    "obj = MyObject()\n",
    "print(hasattr(obj,'x'))\n",
    "print(getattr(obj,'x'))\n",
    "setattr(obj,'y',19)\n",
    "print(getattr(obj,'y'))\n",
    "print(getattr(obj,'z',404)) #可以传入一个default参数，如果属性不存在，就返回默认值\n",
    "fn = getattr(obj, 'power') # 获取方法'power'并赋值到变量fn\n",
    "print(fn()) #等于obj.power()\n"
   ]
  },
  {
   "cell_type": "markdown",
   "id": "1cb5ebb8",
   "metadata": {},
   "source": [
    "# 错误、调试和测试"
   ]
  },
  {
   "cell_type": "markdown",
   "id": "d2f6b00f",
   "metadata": {},
   "source": [
    "## 错误处理"
   ]
  },
  {
   "cell_type": "markdown",
   "id": "95e2711d",
   "metadata": {},
   "source": []
  }
 ],
 "metadata": {
  "kernelspec": {
   "display_name": "base",
   "language": "python",
   "name": "python3"
  },
  "language_info": {
   "codemirror_mode": {
    "name": "ipython",
    "version": 3
   },
   "file_extension": ".py",
   "mimetype": "text/x-python",
   "name": "python",
   "nbconvert_exporter": "python",
   "pygments_lexer": "ipython3",
   "version": "3.12.4"
  }
 },
 "nbformat": 4,
 "nbformat_minor": 5
}
