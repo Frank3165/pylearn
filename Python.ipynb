{
 "cells": [
  {
   "cell_type": "markdown",
   "id": "14fa8f3d",
   "metadata": {},
   "source": [
    "# 函数"
   ]
  },
  {
   "cell_type": "markdown",
   "id": "7bc5a4f6",
   "metadata": {},
   "source": [
    "## 函数参数"
   ]
  },
  {
   "cell_type": "markdown",
   "id": "e12e8c91",
   "metadata": {},
   "source": [
    "*args是可变参数，args接收的是一个tuple；\n",
    "\n",
    "**kw是关键字参数，kw接收的是一个dict。\n",
    "\n",
    "可变参数既可以直接传入：func(1, 2, 3)，又可以先组装list或tuple，再通过`*args`传入：func(*(1, 2, 3))；\n",
    "\n",
    "关键字参数既可以直接传入：func(a=1, b=2)，又可以先组装dict，再通过`**kw`传入：func(**{'a': 1, 'b': 2})。\n",
    "\n",
    "命名的关键字参数是为了限制调用者可以传入的参数名，同时可以提供默认值。\n",
    "\n",
    "    def person(name, age, *, city='Beijing', job):\n",
    "        print(name, age, city, job)\n",
    "\n",
    "\n",
    "定义命名的关键字参数在没有可变参数的情况下不要忘了写分隔符*，否则定义的将是位置参数。\n",
    "\n",
    "    def person(name, age, *, city, job):\n",
    "        pass "
   ]
  },
  {
   "cell_type": "markdown",
   "id": "88976035",
   "metadata": {},
   "source": [
    "## 递归函数"
   ]
  },
  {
   "cell_type": "markdown",
   "id": "83384fe4",
   "metadata": {},
   "source": [
    "在函数内部，可以调用其他函数。如果一个函数在内部调用自身本身，这个函数就是递归函数。"
   ]
  },
  {
   "cell_type": "code",
   "execution_count": 11,
   "id": "ec6a802a",
   "metadata": {},
   "outputs": [
    {
     "data": {
      "text/plain": [
       "3628800"
      ]
     },
     "execution_count": 11,
     "metadata": {},
     "output_type": "execute_result"
    }
   ],
   "source": [
    "#计算阶乘\n",
    "def fact(n):\n",
    "    if n==1:\n",
    "        return 1\n",
    "    return n * fact(n - 1)\n",
    "fact(10)"
   ]
  },
  {
   "cell_type": "markdown",
   "id": "27561dcf",
   "metadata": {},
   "source": [
    "## 高阶函数"
   ]
  },
  {
   "cell_type": "markdown",
   "id": "238249e5",
   "metadata": {},
   "source": [
    "把函数作为参数传入，这样的函数称为高阶函数"
   ]
  },
  {
   "cell_type": "code",
   "execution_count": 12,
   "id": "add80d8f",
   "metadata": {},
   "outputs": [
    {
     "name": "stdout",
     "output_type": "stream",
     "text": [
      "11\n"
     ]
    }
   ],
   "source": [
    "def add(x, y, f):\n",
    "    return f(x) + f(y)\n",
    "\n",
    "print(add(-5, 6, abs))"
   ]
  },
  {
   "cell_type": "markdown",
   "id": "faae07b5",
   "metadata": {},
   "source": [
    "## map函数"
   ]
  },
  {
   "cell_type": "markdown",
   "id": "fac5bfe5",
   "metadata": {},
   "source": [
    "`map()`函数接收两个参数，一个是函数，一个是Iterable，map将传入的函数依次作用到序列的每个元素，并把结果作为新的Iterator返回。"
   ]
  },
  {
   "cell_type": "code",
   "execution_count": null,
   "id": "8638b2c9",
   "metadata": {},
   "outputs": [
    {
     "data": {
      "text/plain": [
       "['1', '2', '3', '4', '5']"
      ]
     },
     "execution_count": 15,
     "metadata": {},
     "output_type": "execute_result"
    }
   ],
   "source": [
    "it = map(str, [1, 2, 3, 4, 5])\n",
    "list(it)"
   ]
  },
  {
   "cell_type": "markdown",
   "id": "88793d4c",
   "metadata": {},
   "source": [
    "## reduce函数"
   ]
  },
  {
   "cell_type": "markdown",
   "id": "7337b5fa",
   "metadata": {},
   "source": [
    "reduce函数用第一个参数（函数）先对第二个参数（可迭代对象）中的第 1、2 个元素进行操作，然后将得到的结果与下一个元素继续操作"
   ]
  },
  {
   "cell_type": "code",
   "execution_count": null,
   "id": "0df6bdf7",
   "metadata": {},
   "outputs": [
    {
     "data": {
      "text/plain": [
       "13579"
      ]
     },
     "execution_count": 16,
     "metadata": {},
     "output_type": "execute_result"
    }
   ],
   "source": [
    "#把列表转换为整数\n",
    "from functools import reduce\n",
    "def fn(x, y):\n",
    "     return x * 10 + y\n",
    "reduce(fn, [1, 3, 5, 7, 9])"
   ]
  },
  {
   "cell_type": "markdown",
   "id": "b4d54cf6",
   "metadata": {},
   "source": [
    "## filter函数"
   ]
  },
  {
   "cell_type": "markdown",
   "id": "030ae65d",
   "metadata": {},
   "source": [
    "和map()类似，filter()也接收一个函数和一个序列。和map()不同的是，filter()把传入的函数依次作用于每个元素，然后根据返回值是True还是False决定保留还是丢弃该元素。"
   ]
  },
  {
   "cell_type": "code",
   "execution_count": 1,
   "id": "8ab807f3",
   "metadata": {},
   "outputs": [
    {
     "data": {
      "text/plain": [
       "[1, 5, 9, 15]"
      ]
     },
     "execution_count": 1,
     "metadata": {},
     "output_type": "execute_result"
    }
   ],
   "source": [
    "#只保留奇数\n",
    "def is_odd(n):\n",
    "    return n % 2 == 1\n",
    "\n",
    "list(filter(is_odd, [1, 2, 4, 5, 6, 9, 10, 15]))"
   ]
  },
  {
   "cell_type": "markdown",
   "id": "b25207b5",
   "metadata": {},
   "source": [
    "## sorted函数"
   ]
  },
  {
   "cell_type": "code",
   "execution_count": 5,
   "id": "7825ea2e",
   "metadata": {},
   "outputs": [
    {
     "data": {
      "text/plain": [
       "['about', 'bob', 'Credit', 'Zoo']"
      ]
     },
     "execution_count": 5,
     "metadata": {},
     "output_type": "execute_result"
    }
   ],
   "source": [
    "#忽略大小写排序\n",
    "sorted(['bob', 'about', 'Zoo', 'Credit'], key = str.lower)"
   ]
  },
  {
   "cell_type": "markdown",
   "id": "2aed4928",
   "metadata": {},
   "source": [
    "## 闭包（Closure）"
   ]
  },
  {
   "cell_type": "markdown",
   "id": "1edbc848",
   "metadata": {},
   "source": [
    "闭包：使用闭包，就是内层函数引用了外层函数的局部变量。"
   ]
  },
  {
   "cell_type": "code",
   "execution_count": null,
   "id": "b1c4e856",
   "metadata": {},
   "outputs": [
    {
     "name": "stdout",
     "output_type": "stream",
     "text": [
      "9\n",
      "9\n",
      "9\n",
      "9\n"
     ]
    }
   ],
   "source": [
    "def count():\n",
    "    fs = []\n",
    "    for i in range(1, 4):\n",
    "        def f():\n",
    "             return i*i\n",
    "        fs.append(f)\n",
    "    return fs\n",
    "\n",
    "f1, f2, f3 = count()\n",
    "print(f1())\n",
    "print(f2())\n",
    "print(f3())"
   ]
  },
  {
   "cell_type": "markdown",
   "id": "360d0c69",
   "metadata": {},
   "source": [
    "输出全部都是9，原因就在于返回的函数引用了变量i，但它并非立刻执行。等到3个函数都返回时，它们所引用的变量i已经变成了3，因此最终结果为9。  \n",
    "因此，返回闭包时牢记一点：返回函数不要引用任何循环变量，或者后续会发生变化的变量。"
   ]
  },
  {
   "cell_type": "markdown",
   "id": "994b94d1",
   "metadata": {},
   "source": [
    "## 匿名函数"
   ]
  },
  {
   "cell_type": "markdown",
   "id": "631242ab",
   "metadata": {},
   "source": [
    "匿名函数也是一个函数对象，也可以把匿名函数赋值给一个变量，再利用变量来调用该函数："
   ]
  },
  {
   "cell_type": "code",
   "execution_count": 10,
   "id": "fcf5387f",
   "metadata": {},
   "outputs": [
    {
     "name": "stdout",
     "output_type": "stream",
     "text": [
      "<function <lambda> at 0x000001371518AE80>\n",
      "25\n"
     ]
    }
   ],
   "source": [
    "f = lambda x: x * x\n",
    "print(f)\n",
    "print(f(5))"
   ]
  },
  {
   "cell_type": "markdown",
   "id": "e097fcf7",
   "metadata": {},
   "source": [
    "同样，也可以把匿名函数作为返回值返回，比如："
   ]
  },
  {
   "cell_type": "code",
   "execution_count": 14,
   "id": "3ad1059f",
   "metadata": {},
   "outputs": [
    {
     "data": {
      "text/plain": [
       "5"
      ]
     },
     "execution_count": 14,
     "metadata": {},
     "output_type": "execute_result"
    }
   ],
   "source": [
    "def build(x, y):\n",
    "    return lambda: x * x + y * y\n",
    "build(1, 2)()"
   ]
  },
  {
   "cell_type": "markdown",
   "id": "31be0dba",
   "metadata": {},
   "source": [
    "`build(1, 2)`返回的是一个匿名函数（lambda），而不是直接计算结果。\n",
    "在 Python 里，lambda: x * x + y * y 是一个函数对象，只有调用它（比如`build(1, 2)()`）才会执行并返回结果。"
   ]
  },
  {
   "cell_type": "markdown",
   "id": "54e496b6",
   "metadata": {},
   "source": [
    "## 装饰器（Decorator）"
   ]
  },
  {
   "cell_type": "markdown",
   "id": "71ee4080",
   "metadata": {},
   "source": []
  },
  {
   "cell_type": "code",
   "execution_count": null,
   "id": "01a339a1",
   "metadata": {},
   "outputs": [],
   "source": []
  },
  {
   "cell_type": "markdown",
   "id": "57cdc8da",
   "metadata": {},
   "source": [
    "## 偏函数（Partial function）"
   ]
  },
  {
   "cell_type": "markdown",
   "id": "a8418c5c",
   "metadata": {},
   "source": [
    "当函数的参数个数太多，需要简化时，使用functools.partial可以创建一个新的函数，这个新函数可以固定住原函数的部分参数，从而在调用时更简单。"
   ]
  },
  {
   "cell_type": "code",
   "execution_count": null,
   "id": "118192fc",
   "metadata": {},
   "outputs": [
    {
     "name": "stdout",
     "output_type": "stream",
     "text": [
      "64\n",
      "85\n",
      "1000000\n"
     ]
    }
   ],
   "source": [
    "from functools import partial\n",
    "\n",
    "int2 = partial(int, base=2)\n",
    "print(int2('1000000'))\n",
    "print(int2('1010101'))\n",
    "#仍可传入其他值\n",
    "print(int2('1000000',base=10))\n"
   ]
  },
  {
   "cell_type": "markdown",
   "id": "af81c8e6",
   "metadata": {},
   "source": [
    "# 生成器 generator"
   ]
  },
  {
   "cell_type": "markdown",
   "id": "b08816bf",
   "metadata": {},
   "source": [
    "## 生成方法1：把列表生成式的[]改为()"
   ]
  },
  {
   "cell_type": "code",
   "execution_count": null,
   "id": "0863ac33",
   "metadata": {},
   "outputs": [
    {
     "name": "stdout",
     "output_type": "stream",
     "text": [
      "<generator object <genexpr> at 0x000001320C8D52F0>\n",
      "0\n",
      "1\n",
      "4\n",
      "9\n",
      "16\n",
      "25\n",
      "36\n",
      "49\n",
      "64\n",
      "81\n"
     ]
    }
   ],
   "source": [
    "# 生成\n",
    "g = (x * x for x in range(10))\n",
    "print(g)\n",
    "# 打印\n",
    "for i in g:\n",
    "    print(i)"
   ]
  },
  {
   "cell_type": "markdown",
   "id": "336a2c59",
   "metadata": {},
   "source": [
    "## 生成方法2：调用generator函数"
   ]
  },
  {
   "cell_type": "code",
   "execution_count": 16,
   "id": "6e230229",
   "metadata": {},
   "outputs": [
    {
     "name": "stdout",
     "output_type": "stream",
     "text": [
      "1\n",
      "\n",
      "1\n",
      "1\n",
      "2\n",
      "3\n",
      "5\n",
      "8\n",
      "13\n",
      "21\n",
      "34\n",
      "55\n",
      "\n",
      "Generator return value: done\n"
     ]
    }
   ],
   "source": [
    "#定义生成器函数\n",
    "def fib(max):\n",
    "    n, a, b = 0, 0, 1\n",
    "    while n < max:\n",
    "        yield b\n",
    "        a, b = b, a + b\n",
    "        n = n + 1\n",
    "    return 'done'\n",
    "#生成生成器对象\n",
    "f = fib(10)\n",
    "#获取下一个值\n",
    "print(next(f))\n",
    "print()\n",
    "#获取所有值\n",
    "h = fib(10)\n",
    "for i in h:\n",
    "    print(i)\n",
    "print()\n",
    "#获取返回值\n",
    "g = fib(10)\n",
    "while True:\n",
    "    try:\n",
    "        x = next(g)\n",
    "    except StopIteration as e:\n",
    "        print('Generator return value:', e.value)\n",
    "        break"
   ]
  },
  {
   "cell_type": "markdown",
   "id": "9bb6743d",
   "metadata": {},
   "source": [
    "# 迭代器 Iterator"
   ]
  },
  {
   "cell_type": "markdown",
   "id": "dd4d250e",
   "metadata": {},
   "source": [
    "可迭代对象`Iterable`：可以直接作用于`for`循环的对象，如`list`, `tuple`, `set`, `string`, `dict`, `generator`等  \n",
    "迭代器：可以被`next()`函数调用并不断返回下一个值的对象，如生成器"
   ]
  },
  {
   "cell_type": "code",
   "execution_count": 4,
   "id": "c292a155",
   "metadata": {},
   "outputs": [
    {
     "name": "stdout",
     "output_type": "stream",
     "text": [
      "True\n",
      "True\n",
      "True\n"
     ]
    }
   ],
   "source": [
    "#判断\n",
    "from collections.abc import Iterable, Iterator\n",
    "print(isinstance ([], Iterable))\n",
    "print(isinstance ((i for i in range(10)), Iterable))\n",
    "print(isinstance ((i for i in range(10)), Iterator))"
   ]
  },
  {
   "cell_type": "markdown",
   "id": "8e469c44",
   "metadata": {},
   "source": [
    "把list、dict、str等Iterable变成Iterator可以使用`iter()`函数："
   ]
  },
  {
   "cell_type": "code",
   "execution_count": 10,
   "id": "8bf6b6ad",
   "metadata": {},
   "outputs": [
    {
     "name": "stdout",
     "output_type": "stream",
     "text": [
      "True\n",
      "1\n",
      "<list_iterator object at 0x0000021AA1E2A440>\n"
     ]
    }
   ],
   "source": [
    "list_ = iter([1])\n",
    "print(isinstance(list_, Iterator))\n",
    "print(next(list_))\n",
    "print(list_)"
   ]
  },
  {
   "cell_type": "markdown",
   "id": "798596b3",
   "metadata": {},
   "source": [
    "# 模块"
   ]
  },
  {
   "cell_type": "markdown",
   "id": "32cc8443",
   "metadata": {},
   "source": [
    "## 模块定义和导入"
   ]
  },
  {
   "cell_type": "code",
   "execution_count": 4,
   "id": "d44a10d7",
   "metadata": {},
   "outputs": [
    {
     "name": "stdout",
     "output_type": "stream",
     "text": [
      "Hello, --f=c:\\Users\\31653\\AppData\\Roaming\\jupyter\\runtime\\kernel-v3e7a906f15fea2b74f399f50a10c5a25150825dea.json!\n"
     ]
    }
   ],
   "source": [
    "#导入hello.py模块\n",
    "import hello\n",
    "hello.test()"
   ]
  },
  {
   "cell_type": "markdown",
   "id": "73a9395d",
   "metadata": {},
   "source": [
    "# 作用域"
   ]
  },
  {
   "cell_type": "markdown",
   "id": "627823cc",
   "metadata": {},
   "source": [
    "## 局部作用域（Local Scope）"
   ]
  },
  {
   "cell_type": "markdown",
   "id": "543ac1de",
   "metadata": {},
   "source": [
    "局部作用域是在函数内部定义的作用域。在函数内部定义的变量和函数只能在该函数内部访问，函数外部无法直接访问这些局部变量。"
   ]
  },
  {
   "cell_type": "markdown",
   "id": "a0e9aeac",
   "metadata": {},
   "source": [
    "## 嵌套作用域（Enclosing Scope）"
   ]
  },
  {
   "cell_type": "markdown",
   "id": "c9419988",
   "metadata": {},
   "source": [
    "嵌套作用域也称为闭包作用域，当一个函数嵌套在另一个函数内部时，内部函数可以访问外部函数的变量。外部函数的作用域就是嵌套作用域。"
   ]
  },
  {
   "cell_type": "markdown",
   "id": "4b63e958",
   "metadata": {},
   "source": [
    "## 全局作用域（Global Scope）"
   ]
  },
  {
   "cell_type": "markdown",
   "id": "7dd7ebce",
   "metadata": {},
   "source": [
    "全局作用域是在模块（文件）级别定义的作用域。在模块顶层定义的变量和函数属于全局作用域，可以在整个模块的任何地方访问。"
   ]
  },
  {
   "cell_type": "markdown",
   "id": "18e108a1",
   "metadata": {},
   "source": [
    "## 内置作用域（Built - in Scope）"
   ]
  },
  {
   "cell_type": "markdown",
   "id": "a9eff391",
   "metadata": {},
   "source": [
    "内置作用域是 Python 解释器自带的作用域，包含了所有内置的函数和异常类型，如 print()、len()、ValueError 等。这些内置名称在任何地方都可以直接使用。"
   ]
  },
  {
   "cell_type": "markdown",
   "id": "c2aa58ac",
   "metadata": {},
   "source": [
    "## 名称查找顺序"
   ]
  },
  {
   "cell_type": "markdown",
   "id": "16c9da80",
   "metadata": {},
   "source": [
    "Python查找名称时，遵循LEGB规则，即从局部作用域开始，逐层向外查找，直到找到变量/函数或引发NameError异常。"
   ]
  },
  {
   "cell_type": "markdown",
   "id": "bea2961e",
   "metadata": {},
   "source": [
    "## global 语句"
   ]
  },
  {
   "cell_type": "markdown",
   "id": "cfff2166",
   "metadata": {},
   "source": [
    "global 语句用于在函数内部声明一个变量为全局变量，这样在函数内部就可以对全局变量进行修改。  \n",
    "其语法形式为`global 变量名`，可以同时声明多个变量，用逗号分隔。"
   ]
  },
  {
   "cell_type": "markdown",
   "id": "df1dd48d",
   "metadata": {},
   "source": [
    "## nonlocal 语句"
   ]
  },
  {
   "cell_type": "markdown",
   "id": "14e73602",
   "metadata": {},
   "source": [
    "nonlocal 语句用于在嵌套函数中声明一个变量为外层（非全局）函数的变量，从而可以在内部函数中修改外层函数的变量。其语法形式为 `nonlocal 变量` ，同样可以同时声明多个变量。"
   ]
  },
  {
   "cell_type": "code",
   "execution_count": 5,
   "id": "651b4254",
   "metadata": {},
   "outputs": [
    {
     "name": "stdout",
     "output_type": "stream",
     "text": [
      "80\n"
     ]
    }
   ],
   "source": [
    "def outer():\n",
    "    enclosing_variable = 70\n",
    "    def inner():\n",
    "        nonlocal enclosing_variable\n",
    "        enclosing_variable = 80\n",
    "    inner()\n",
    "    print(enclosing_variable)\n",
    "outer()  # 输出: 80"
   ]
  },
  {
   "cell_type": "code",
   "execution_count": null,
   "id": "6184c803",
   "metadata": {},
   "outputs": [
    {
     "name": "stdout",
     "output_type": "stream",
     "text": [
      "70\n"
     ]
    }
   ],
   "source": [
    "def outer():\n",
    "    enclosing_variable = 70\n",
    "    def inner():\n",
    "        enclosing_variable = 80\n",
    "    inner()\n",
    "    print(enclosing_variable)\n",
    "outer()  # 输出: 70"
   ]
  },
  {
   "cell_type": "markdown",
   "id": "77801923",
   "metadata": {},
   "source": [
    "在这个例子中，inner 函数内部使用 nonlocal 语句声明 enclosing_variable 为外层函数 outer 的变量，然后对其进行修改。如果不使用 nonlocal 语句，直接在 inner 函数内部给 enclosing_variable 赋值，Python 会认为这是在创建一个新的局部变量。"
   ]
  },
  {
   "cell_type": "markdown",
   "id": "d141b06c",
   "metadata": {},
   "source": [
    "# 面向对象编程"
   ]
  },
  {
   "cell_type": "markdown",
   "id": "d5bc5565",
   "metadata": {},
   "source": [
    "## 类和实例"
   ]
  },
  {
   "cell_type": "markdown",
   "id": "39c7f152",
   "metadata": {},
   "source": [
    "在Python中，定义类是通过class关键字：\n",
    "\n",
    "    class Student(object):\n",
    "        pass\n",
    "\n",
    "class后面紧接着是类名，即Student，类名通常是大写开头的单词，紧接着是(object)，表示该类是从哪个类继承下来的。\n",
    "\n",
    "定义好了Student类，就可以根据Student类创建出Student的实例，创建实例是通过类名+()实现的：  \n",
    "`bart = Student()`  \n",
    "\n",
    "可以自由地给一个实例变量绑定属性，比如，给实例bart绑定一个name属性：  \n",
    "`bart.name = 'Bart Simpson'`  \n",
    "\n",
    "由于类可以起到模板的作用，因此，可以在创建实例的时候，把一些我们认为必须绑定的属性强制填写进去。通过定义一个特殊的__init__方法，在创建实例的时候，就把name，score等属性绑上去。注意到__init__方法的第一个参数永远是self，表示创建的实例本身。有了__init__方法，在创建实例的时候，就必须传入与__init__方法匹配的参数，但self不需要传，Python解释器自己会把实例变量传进去：\n"
   ]
  },
  {
   "cell_type": "code",
   "execution_count": 7,
   "id": "ecf01abe",
   "metadata": {},
   "outputs": [
    {
     "name": "stdout",
     "output_type": "stream",
     "text": [
      "Bart Simpson\n",
      "59\n"
     ]
    }
   ],
   "source": [
    "class Student(object):\n",
    "    def __init__(self, name, score):\n",
    "        self.name = name\n",
    "        self.score = score\n",
    "\n",
    "bart = Student('Bart Simpson', 59)\n",
    "print(bart.name)\n",
    "print(bart.score)"
   ]
  },
  {
   "cell_type": "markdown",
   "id": "d3848950",
   "metadata": {},
   "source": [
    "## 数据封装"
   ]
  },
  {
   "cell_type": "markdown",
   "id": "4c43288f",
   "metadata": {},
   "source": [
    "我们从外部看Student类，只需要知道，创建实例需要给出name和score，而如何打印，都是在Student类的内部定义的。因此，这些数据和方法被“封装”起来了。"
   ]
  },
  {
   "cell_type": "code",
   "execution_count": 9,
   "id": "e3c37c2d",
   "metadata": {},
   "outputs": [
    {
     "name": "stdout",
     "output_type": "stream",
     "text": [
      "Bart Simpson: 59\n"
     ]
    }
   ],
   "source": [
    "class Student(object):\n",
    "    def __init__(self, name, score):\n",
    "        self.name = name\n",
    "        self.score = score\n",
    "\n",
    "    def print_score(self):\n",
    "        print('%s: %s' % (self.name, self.score))\n",
    "\n",
    "bart = Student('Bart Simpson', 59)\n",
    "bart.print_score()"
   ]
  },
  {
   "cell_type": "markdown",
   "id": "740024cc",
   "metadata": {},
   "source": [
    "封装还可以给Student类增加新的方法，比如get_grade："
   ]
  },
  {
   "cell_type": "code",
   "execution_count": 10,
   "id": "769d885b",
   "metadata": {},
   "outputs": [
    {
     "data": {
      "text/plain": [
       "'C'"
      ]
     },
     "execution_count": 10,
     "metadata": {},
     "output_type": "execute_result"
    }
   ],
   "source": [
    "class Student(object):\n",
    "    def __init__(self, name, score):\n",
    "        self.name = name\n",
    "        self.score = score\n",
    "\n",
    "    def print_score(self):\n",
    "        print('%s: %s' % (self.name, self.score))\n",
    "\n",
    "    def get_grade(self):\n",
    "        if self.score >= 90:\n",
    "            return 'A'\n",
    "        elif self.score >= 60:\n",
    "            return 'B'\n",
    "        else:\n",
    "            return 'C'\n",
    "\n",
    "bart = Student('Bart Simpson', 59)\n",
    "bart.get_grade()"
   ]
  },
  {
   "cell_type": "markdown",
   "id": "25d093ed",
   "metadata": {},
   "source": [
    "## 访问限制"
   ]
  },
  {
   "cell_type": "markdown",
   "id": "5e6db4c6",
   "metadata": {},
   "source": [
    "如果要让内部属性不被外部访问，可以把属性的名称前加上两个下划线__，在Python中，实例的变量名如果以__开头，就变成了一个私有变量（private），只有内部可以访问。改完后，无法从外部访问实例变量.__name和实例变量.__score了："
   ]
  },
  {
   "cell_type": "code",
   "execution_count": 11,
   "id": "497ad2b6",
   "metadata": {},
   "outputs": [
    {
     "ename": "AttributeError",
     "evalue": "'Student' object has no attribute '__name'",
     "output_type": "error",
     "traceback": [
      "\u001b[1;31m---------------------------------------------------------------------------\u001b[0m",
      "\u001b[1;31mAttributeError\u001b[0m                            Traceback (most recent call last)",
      "Cell \u001b[1;32mIn[11], line 10\u001b[0m\n\u001b[0;32m      7\u001b[0m         \u001b[38;5;28mprint\u001b[39m(\u001b[38;5;124m'\u001b[39m\u001b[38;5;132;01m%s\u001b[39;00m\u001b[38;5;124m: \u001b[39m\u001b[38;5;132;01m%s\u001b[39;00m\u001b[38;5;124m'\u001b[39m \u001b[38;5;241m%\u001b[39m (\u001b[38;5;28mself\u001b[39m\u001b[38;5;241m.\u001b[39m__name, \u001b[38;5;28mself\u001b[39m\u001b[38;5;241m.\u001b[39m__score))\n\u001b[0;32m      9\u001b[0m bart \u001b[38;5;241m=\u001b[39m Student(\u001b[38;5;124m'\u001b[39m\u001b[38;5;124mBart Simpson\u001b[39m\u001b[38;5;124m'\u001b[39m, \u001b[38;5;241m59\u001b[39m)\n\u001b[1;32m---> 10\u001b[0m \u001b[43mbart\u001b[49m\u001b[38;5;241;43m.\u001b[39;49m\u001b[43m__name\u001b[49m\n",
      "\u001b[1;31mAttributeError\u001b[0m: 'Student' object has no attribute '__name'"
     ]
    }
   ],
   "source": [
    "class Student(object):\n",
    "    def __init__(self, name, score):\n",
    "        self.__name = name\n",
    "        self.__score = score\n",
    "\n",
    "    def print_score(self):\n",
    "        print('%s: %s' % (self.__name, self.__score))\n",
    "\n",
    "bart = Student('Bart Simpson', 59)\n",
    "bart.__name"
   ]
  },
  {
   "cell_type": "markdown",
   "id": "e6c0c07a",
   "metadata": {},
   "source": [
    "如果要获取name和score，需要增加get_name和get_score这样的方法；如果要允许外部代码修改score，需要给Student类增加set_score方法，这样可以对传入的参数进行检查。"
   ]
  },
  {
   "cell_type": "code",
   "execution_count": 14,
   "id": "0f2512a7",
   "metadata": {},
   "outputs": [
    {
     "name": "stdout",
     "output_type": "stream",
     "text": [
      "Bart Simpson\n",
      "59\n",
      "99\n"
     ]
    }
   ],
   "source": [
    "class Student(object):\n",
    "    def __init__(self, name, score):\n",
    "        self.__name = name\n",
    "        self.__score = score\n",
    "\n",
    "    def print_score(self):\n",
    "        print('%s: %s' % (self.__name, self.__score))\n",
    "\n",
    "    def get_name(self):\n",
    "        return self.__name\n",
    "\n",
    "    def get_score(self):\n",
    "        return self.__score\n",
    "    \n",
    "    def set_score(self, score):\n",
    "        if 0 <= score <= 100:\n",
    "            self.__score = score\n",
    "        else:\n",
    "            raise ValueError('bad score')\n",
    "\n",
    "bart = Student('Bart Simpson', 59)\n",
    "print(bart.get_name())\n",
    "print(bart.get_score())\n",
    "bart.set_score(99)\n",
    "print(bart.get_score())"
   ]
  },
  {
   "cell_type": "markdown",
   "id": "323e7bc0",
   "metadata": {},
   "source": [
    "练习  \n",
    "请把下面的Student对象的gender字段对外隐藏起来，用get_gender()和set_gender()代替，并检查参数有效性："
   ]
  },
  {
   "cell_type": "code",
   "execution_count": 3,
   "id": "2ededd81",
   "metadata": {},
   "outputs": [
    {
     "name": "stdout",
     "output_type": "stream",
     "text": [
      "测试成功!\n"
     ]
    }
   ],
   "source": [
    "class Student(object):\n",
    "    def __init__(self, name, gender):\n",
    "        self.__name = name\n",
    "        self.__gender = gender\n",
    "    \n",
    "    def get_gender(self):\n",
    "        return self.__gender\n",
    "    \n",
    "    def set_gender(self, gender):\n",
    "        self.__gender = gender\n",
    "\n",
    "# 测试:\n",
    "bart = Student('Bart', 'male')\n",
    "if bart.get_gender() != 'male':\n",
    "    print('测试失败!')\n",
    "else:\n",
    "    bart.set_gender('female')\n",
    "    if bart.get_gender() != 'female':\n",
    "        print('测试失败!')\n",
    "    else:\n",
    "        print('测试成功!')"
   ]
  },
  {
   "cell_type": "markdown",
   "id": "60bd0adf",
   "metadata": {},
   "source": [
    "## 继承和多态"
   ]
  },
  {
   "cell_type": "markdown",
   "id": "5f7a6934",
   "metadata": {},
   "source": [
    "当我们定义一个class的时候，可以从某个现有的class继承，新的class称为子类（Subclass），而被继承的class称为父类（Base class）。\n",
    "\n",
    "比如，我们已经编写了一个名为Animal的class，有一个run()方法可以直接打印。当我们需要编写Dog和Cat类时，就可以直接从Animal类继承所有的方法。\n",
    "\n",
    "当然，也可以对子类增加一些方法，比如给Car类增加自己的run方法。当子类和父类都存在相同的run()方法时，子类的run()覆盖了父类的run()，在代码运行的时候，总是会调用子类的run()。\n",
    "\n",
    "在继承关系中，如果一个实例的数据类型是某个子类，那它的数据类型也可以被看做是父类。所以对于一个变量，我们只需要知道它是Animal类型，无需确切地知道它的子类型，就可以放心地调用run()方法，而具体调用的run()方法是作用在Animal、Dog、Cat还是Tortoise对象上，由运行时该对象的确切类型决定。而当我们新增一种Animal的子类时，只要确保run()方法编写正确，不用管原来的代码是如何调用的。这就是著名的“开闭”原则：\n",
    "\n",
    "对扩展开放：允许新增Animal子类；\n",
    "\n",
    "对修改封闭：不需要修改依赖Animal类型的run_twice()等函数。\n",
    "\n",
    "继承还可以一级一级地继承下来，就好比从爷爷到爸爸、再到儿子这样的关系。而任何类，最终都可以追溯到根类object。\n",
    "\n",
    "静态语言 vs 动态语言：\n",
    "\n",
    "对于静态语言（例如Java）来说，如果需要传入Animal类型，则传入的对象必须是Animal类型或者它的子类，否则，将无法调用run()方法。\n",
    "\n",
    "对于Python这样的动态语言来说，则不一定需要传入Animal类型。我们只需要保证传入的对象有一个run()方法就可以了。\n",
    "\n",
    "这就是动态语言的“鸭子类型”，它并不要求严格的继承体系，一个对象只要“看起来像鸭子，走起路来像鸭子”，那它就可以被看做是鸭子。"
   ]
  },
  {
   "cell_type": "code",
   "execution_count": null,
   "id": "1e02aca2",
   "metadata": {},
   "outputs": [
    {
     "name": "stdout",
     "output_type": "stream",
     "text": [
      "Animal is running...\n",
      "Animal is running...\n",
      "Animal is running...\n",
      "Animal is running...\n",
      "Cat is running...\n",
      "Cat is running...\n",
      "Car is running...\n",
      "Car is running...\n"
     ]
    },
    {
     "ename": "AttributeError",
     "evalue": "'Stone' object has no attribute 'run'",
     "output_type": "error",
     "traceback": [
      "\u001b[1;31m---------------------------------------------------------------------------\u001b[0m",
      "\u001b[1;31mAttributeError\u001b[0m                            Traceback (most recent call last)",
      "Cell \u001b[1;32mIn[5], line 28\u001b[0m\n\u001b[0;32m     26\u001b[0m run_twice(Cat())\n\u001b[0;32m     27\u001b[0m run_twice(Car())\n\u001b[1;32m---> 28\u001b[0m \u001b[43mrun_twice\u001b[49m\u001b[43m(\u001b[49m\u001b[43mStone\u001b[49m\u001b[43m(\u001b[49m\u001b[43m)\u001b[49m\u001b[43m)\u001b[49m\n",
      "Cell \u001b[1;32mIn[5], line 21\u001b[0m, in \u001b[0;36mrun_twice\u001b[1;34m(Animal)\u001b[0m\n\u001b[0;32m     20\u001b[0m \u001b[38;5;28;01mdef\u001b[39;00m \u001b[38;5;21mrun_twice\u001b[39m(Animal):\n\u001b[1;32m---> 21\u001b[0m     \u001b[43mAnimal\u001b[49m\u001b[38;5;241;43m.\u001b[39;49m\u001b[43mrun\u001b[49m()\n\u001b[0;32m     22\u001b[0m     Animal\u001b[38;5;241m.\u001b[39mrun()\n",
      "\u001b[1;31mAttributeError\u001b[0m: 'Stone' object has no attribute 'run'"
     ]
    }
   ],
   "source": [
    "class Animal(object):   #编写Animal类\n",
    "    def run(self):\n",
    "        print(\"Animal is running...\")\n",
    "\n",
    "class Dog(Animal):  #Dog类继承Amimal类，没有run方法，继承Animal类的run方法\n",
    "    pass\n",
    "\n",
    "class Cat(Animal):  #Cat类继承Animal类，有自己的run方法\n",
    "    def run(self):\n",
    "        print('Cat is running...')\n",
    "    pass\n",
    "\n",
    "class Car(object):  #Car类为object类型，有自己的run方法，可以传入\n",
    "    def run(self):\n",
    "        print('Car is running...')\n",
    "\n",
    "class Stone(object):  #Stone类不继承，也没有run方法，不可以传入\n",
    "    pass\n",
    "\n",
    "def run_twice(animal):  #只要对象有run方法都可运行，无论对象名是什么\n",
    "    animal.run()\n",
    "    animal.run()\n",
    "\n",
    "run_twice(Animal())\n",
    "run_twice(Dog())\n",
    "run_twice(Cat())\n",
    "run_twice(Car())\n",
    "run_twice(Stone())"
   ]
  }
 ],
 "metadata": {
  "kernelspec": {
   "display_name": "base",
   "language": "python",
   "name": "python3"
  },
  "language_info": {
   "codemirror_mode": {
    "name": "ipython",
    "version": 3
   },
   "file_extension": ".py",
   "mimetype": "text/x-python",
   "name": "python",
   "nbconvert_exporter": "python",
   "pygments_lexer": "ipython3",
   "version": "3.12.4"
  }
 },
 "nbformat": 4,
 "nbformat_minor": 5
}
